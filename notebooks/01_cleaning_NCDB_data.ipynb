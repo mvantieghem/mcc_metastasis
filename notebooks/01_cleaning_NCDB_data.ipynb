{
 "cells": [
  {
   "cell_type": "markdown",
   "metadata": {},
   "source": [
    "# Data cleaning of NCDB dataset"
   ]
  },
  {
   "cell_type": "code",
   "execution_count": 40,
   "metadata": {},
   "outputs": [],
   "source": [
    "import pandas as pd  \n",
    "import numpy as np\n",
    "import math\n",
    "\n",
    "# import custom functions\n",
    "import sys\n",
    "sys.path.append(\"../\")\n",
    "import mcc_metastasis.data_cleaning as dc\n"
   ]
  },
  {
   "cell_type": "code",
   "execution_count": 41,
   "metadata": {},
   "outputs": [
    {
     "data": {
      "text/plain": [
       "(34886, 126)"
      ]
     },
     "execution_count": 41,
     "metadata": {},
     "output_type": "execute_result"
    }
   ],
   "source": [
    "NCDB = pd.read_csv(\"../data/raw/Merkel.csv\")\n",
    "NCDB.shape"
   ]
  },
  {
   "cell_type": "markdown",
   "metadata": {},
   "source": [
    "### Filter for Merkel cell carcinoma \n",
    "Histology code 8247"
   ]
  },
  {
   "cell_type": "code",
   "execution_count": 42,
   "metadata": {},
   "outputs": [
    {
     "data": {
      "text/plain": [
       "(14948, 126)"
      ]
     },
     "execution_count": 42,
     "metadata": {},
     "output_type": "execute_result"
    }
   ],
   "source": [
    "NCDB = NCDB[NCDB.HISTOLOGY == 8247]\n",
    "NCDB.shape"
   ]
  },
  {
   "cell_type": "markdown",
   "metadata": {},
   "source": [
    "## Variables of interest\n",
    "\n",
    "#### FEATURES\n",
    "- Primary Site on body\n",
    "- LYMPH_VASCULAR_INVASION \n",
    "- CS_Tumor_Size (width in mm)\n",
    "- CS Site Specific Factor 1 (depth in mm)\n",
    "- CS Site Specific Factor 20 (tumor-infiltrating lymphocytes)\n",
    "- CS Site Specific factor 21 (growth pattern)\n",
    "- CS Site Specific Factor 22 (immuno)\n",
    "- also include Age, Sex\n",
    "\n",
    "#### OUTCOMES\n",
    "- Regional Nodes Postive = number of positive lymph nodes\n",
    "- CS Site specific Factor 3 = clinical status of lymph node mets\n",
    "- TMN_PATH_N - Different definition for regional lymph node metastasis based on staging manual\n",
    "- TMN_PATH_STAGE_GROUP - Definition of anatomical extent of disease based on staging manual \n"
   ]
  },
  {
   "cell_type": "markdown",
   "metadata": {},
   "source": [
    "## Recode Variables"
   ]
  },
  {
   "cell_type": "markdown",
   "metadata": {},
   "source": [
    "#### Recode PRIMARY_SITE to tumor_site\n",
    "\n",
    "Primary site of lesion\n",
    " - Head and neck = C440, C441, C442, C444 \n",
    " - Trunk = C445 \n",
    " -  Extremity = C446, C447\n",
    " - Other = Everything else\n",
    " -  datatype: categorical\n"
   ]
  },
  {
   "cell_type": "code",
   "execution_count": 43,
   "metadata": {},
   "outputs": [
    {
     "data": {
      "text/html": [
       "<div>\n",
       "<style scoped>\n",
       "    .dataframe tbody tr th:only-of-type {\n",
       "        vertical-align: middle;\n",
       "    }\n",
       "\n",
       "    .dataframe tbody tr th {\n",
       "        vertical-align: top;\n",
       "    }\n",
       "\n",
       "    .dataframe thead th {\n",
       "        text-align: right;\n",
       "    }\n",
       "</style>\n",
       "<table border=\"1\" class=\"dataframe\">\n",
       "  <thead>\n",
       "    <tr style=\"text-align: right;\">\n",
       "      <th></th>\n",
       "      <th>tumor_site</th>\n",
       "      <th>N</th>\n",
       "    </tr>\n",
       "  </thead>\n",
       "  <tbody>\n",
       "    <tr>\n",
       "      <th>0</th>\n",
       "      <td>extremity</td>\n",
       "      <td>5917</td>\n",
       "    </tr>\n",
       "    <tr>\n",
       "      <th>1</th>\n",
       "      <td>head_neck</td>\n",
       "      <td>2440</td>\n",
       "    </tr>\n",
       "    <tr>\n",
       "      <th>2</th>\n",
       "      <td>other</td>\n",
       "      <td>5072</td>\n",
       "    </tr>\n",
       "    <tr>\n",
       "      <th>3</th>\n",
       "      <td>trunk</td>\n",
       "      <td>1519</td>\n",
       "    </tr>\n",
       "  </tbody>\n",
       "</table>\n",
       "</div>"
      ],
      "text/plain": [
       "  tumor_site     N\n",
       "0  extremity  5917\n",
       "1  head_neck  2440\n",
       "2      other  5072\n",
       "3      trunk  1519"
      ]
     },
     "execution_count": 43,
     "metadata": {},
     "output_type": "execute_result"
    }
   ],
   "source": [
    "# apply rercoding  and convert to categorical variable\n",
    "NCDB['tumor_site'] = NCDB.PRIMARY_SITE.map(dc.recode_tumor_site).astype('category')\n",
    "dc.get_N_table(NCDB, 'tumor_site')"
   ]
  },
  {
   "cell_type": "markdown",
   "metadata": {},
   "source": [
    "#### Recode LYMPH_VASCULAR_INVASION to lymph_vasc_invasion\n",
    "\n",
    "0=No, 1= Yes, 8 or 9 =no information, recode to NA"
   ]
  },
  {
   "cell_type": "code",
   "execution_count": 44,
   "metadata": {},
   "outputs": [
    {
     "data": {
      "text/html": [
       "<div>\n",
       "<style scoped>\n",
       "    .dataframe tbody tr th:only-of-type {\n",
       "        vertical-align: middle;\n",
       "    }\n",
       "\n",
       "    .dataframe tbody tr th {\n",
       "        vertical-align: top;\n",
       "    }\n",
       "\n",
       "    .dataframe thead th {\n",
       "        text-align: right;\n",
       "    }\n",
       "</style>\n",
       "<table border=\"1\" class=\"dataframe\">\n",
       "  <thead>\n",
       "    <tr style=\"text-align: right;\">\n",
       "      <th></th>\n",
       "      <th>lymph_vasc_invasion</th>\n",
       "      <th>N</th>\n",
       "    </tr>\n",
       "  </thead>\n",
       "  <tbody>\n",
       "    <tr>\n",
       "      <th>0</th>\n",
       "      <td>0.0</td>\n",
       "      <td>3139</td>\n",
       "    </tr>\n",
       "    <tr>\n",
       "      <th>1</th>\n",
       "      <td>1.0</td>\n",
       "      <td>1783</td>\n",
       "    </tr>\n",
       "    <tr>\n",
       "      <th>2</th>\n",
       "      <td>NaN</td>\n",
       "      <td>10026</td>\n",
       "    </tr>\n",
       "  </tbody>\n",
       "</table>\n",
       "</div>"
      ],
      "text/plain": [
       "   lymph_vasc_invasion      N\n",
       "0                  0.0   3139\n",
       "1                  1.0   1783\n",
       "2                  NaN  10026"
      ]
     },
     "execution_count": 44,
     "metadata": {},
     "output_type": "execute_result"
    }
   ],
   "source": [
    "# recode variable: mark 8 and 9 as None / Null / NaN\n",
    "NCDB['lymph_vasc_invasion'] = dc.binarize_var(NCDB.LYMPH_VASCULAR_INVASION, [8,9])\n",
    "dc.get_N_table(NCDB, 'lymph_vasc_invasion')\n",
    "# *** PROBLEM: ALOT OF MISSING DATA !"
   ]
  },
  {
   "cell_type": "markdown",
   "metadata": {},
   "source": [
    "#### Recode CS_SITESPECIFIC_FACTOR_1 to tumor_depth\n",
    "\n",
    "Measured thickness (depth) of tumor, continuous\n",
    "\n",
    "- 0 = no mass found... recode to NA\n",
    "- 00.1-979 = recode to 00.1 cm - 9.79 cm measurements \n",
    "- 98.0 = recode to 9.80 cm or larger \n",
    "- 98.8/99.0/99.8/99.9 = Not applicable... recode to NA \n",
    "- infering that 98.7 and 88.8 are also  Not applicable, recoded to NA.\n",
    "\n",
    " see http://web2.facs.org/cstage0205/merkelcellskin/MerkelCellSkin_jpt.html)\n",
    " "
   ]
  },
  {
   "cell_type": "code",
   "execution_count": 72,
   "metadata": {},
   "outputs": [
    {
     "name": "stdout",
     "output_type": "stream",
     "text": [
      "Tumor depth provided: 3460\n",
      "Not valid data (NaN): 11488\n"
     ]
    }
   ],
   "source": [
    "# replace invalid with NA\n",
    "NCDB['tumor_depth'] = NCDB.CS_SITESPECIFIC_FACTOR_1.\\\n",
    "replace([0, 988.0, 990.0,998.0, 999.0, 888, 987], np.nan)# becomes NaN\n",
    "\n",
    "# convert units to cm\n",
    "NCDB['tumor_depth'] = NCDB.tumor_depth/100\n",
    "\n",
    "# compute valid data metrics \n",
    "valid = (NCDB.tumor_depth > 0) & (NCDB.tumor_depth <= 98.0)\n",
    "print(\"Tumor depth provided: {}\".format(sum(valid)))\n",
    "print(\"Not valid data (NaN): {}\".format(NCDB.tumor_depth.isnull().sum()))"
   ]
  },
  {
   "cell_type": "markdown",
   "metadata": {},
   "source": [
    "#### Recoding CS_SITESPECIFIC_FACTOR_20 to tumor_lymphocytes\n",
    "\n",
    "Tumor infiltrating lymphocytes, categorical \n",
    "- 000 = negative\n",
    "- 010 = weakly present\n",
    "- 020 = strongly present\n",
    "- 030 = present -  but no information on how strong\n",
    "- 988, 998, 999 - Not available, recode to NA\n",
    "\n",
    "recding into binary >0 positive \n",
    "\n",
    "http://web2.facs.org/cstage0205/merkelcellskin/MerkelCellSkin_sra.html\n"
   ]
  },
  {
   "cell_type": "code",
   "execution_count": 73,
   "metadata": {},
   "outputs": [
    {
     "data": {
      "text/html": [
       "<div>\n",
       "<style scoped>\n",
       "    .dataframe tbody tr th:only-of-type {\n",
       "        vertical-align: middle;\n",
       "    }\n",
       "\n",
       "    .dataframe tbody tr th {\n",
       "        vertical-align: top;\n",
       "    }\n",
       "\n",
       "    .dataframe thead th {\n",
       "        text-align: right;\n",
       "    }\n",
       "</style>\n",
       "<table border=\"1\" class=\"dataframe\">\n",
       "  <thead>\n",
       "    <tr style=\"text-align: right;\">\n",
       "      <th></th>\n",
       "      <th>tumor_lymphocytes</th>\n",
       "      <th>N</th>\n",
       "    </tr>\n",
       "  </thead>\n",
       "  <tbody>\n",
       "    <tr>\n",
       "      <th>0</th>\n",
       "      <td>0.0</td>\n",
       "      <td>1875</td>\n",
       "    </tr>\n",
       "    <tr>\n",
       "      <th>1</th>\n",
       "      <td>1.0</td>\n",
       "      <td>813</td>\n",
       "    </tr>\n",
       "    <tr>\n",
       "      <th>2</th>\n",
       "      <td>NaN</td>\n",
       "      <td>12260</td>\n",
       "    </tr>\n",
       "  </tbody>\n",
       "</table>\n",
       "</div>"
      ],
      "text/plain": [
       "   tumor_lymphocytes      N\n",
       "0                0.0   1875\n",
       "1                1.0    813\n",
       "2                NaN  12260"
      ]
     },
     "execution_count": 73,
     "metadata": {},
     "output_type": "execute_result"
    }
   ],
   "source": [
    "NCDB['tumor_lymphocytes'] = dc.binarize_var(NCDB.CS_SITESPECIFIC_FACTOR_20, [998.0, 988.0, 999.0])\n",
    "dc.get_N_table(NCDB, 'tumor_lymphocytes')"
   ]
  },
  {
   "cell_type": "markdown",
   "metadata": {},
   "source": [
    "#### Recoding CS_SITESPECIFIC_FACTOR_22 to immuno_suppressed\n",
    "\n",
    "Immunosuppression, binarize\n",
    "- 000 = negative\n",
    "- 988 or 999 = no information, recode to NA\n",
    "- anything else = positive\n",
    "\n",
    "http://web2.facs.org/cstage0205/merkelcellskin/MerkelCellSkin_src.html"
   ]
  },
  {
   "cell_type": "code",
   "execution_count": 74,
   "metadata": {},
   "outputs": [
    {
     "data": {
      "text/html": [
       "<div>\n",
       "<style scoped>\n",
       "    .dataframe tbody tr th:only-of-type {\n",
       "        vertical-align: middle;\n",
       "    }\n",
       "\n",
       "    .dataframe tbody tr th {\n",
       "        vertical-align: top;\n",
       "    }\n",
       "\n",
       "    .dataframe thead th {\n",
       "        text-align: right;\n",
       "    }\n",
       "</style>\n",
       "<table border=\"1\" class=\"dataframe\">\n",
       "  <thead>\n",
       "    <tr style=\"text-align: right;\">\n",
       "      <th></th>\n",
       "      <th>immuno_suppressed</th>\n",
       "      <th>N</th>\n",
       "    </tr>\n",
       "  </thead>\n",
       "  <tbody>\n",
       "    <tr>\n",
       "      <th>0</th>\n",
       "      <td>0.0</td>\n",
       "      <td>4113</td>\n",
       "    </tr>\n",
       "    <tr>\n",
       "      <th>1</th>\n",
       "      <td>1.0</td>\n",
       "      <td>524</td>\n",
       "    </tr>\n",
       "    <tr>\n",
       "      <th>2</th>\n",
       "      <td>NaN</td>\n",
       "      <td>10311</td>\n",
       "    </tr>\n",
       "  </tbody>\n",
       "</table>\n",
       "</div>"
      ],
      "text/plain": [
       "   immuno_suppressed      N\n",
       "0                0.0   4113\n",
       "1                1.0    524\n",
       "2                NaN  10311"
      ]
     },
     "execution_count": 74,
     "metadata": {},
     "output_type": "execute_result"
    }
   ],
   "source": [
    "NCDB['immuno_suppressed'] = dc.binarize_var(NCDB.CS_SITESPECIFIC_FACTOR_22, [998, 988, 999])\n",
    "dc.get_N_table(NCDB, 'immuno_suppressed')"
   ]
  },
  {
   "cell_type": "markdown",
   "metadata": {},
   "source": [
    "#### RECODING TUMOR_SIZE to tumor_size\n",
    "\n",
    "Tumor size, fixed coding 10-18-2020\n",
    "- 000 = no mass found \n",
    "- 001-988 = exact size in mm --> recode to cm \n",
    "- 989 = 989 mm or larger\n",
    "- 990  = foci only, no size given\n",
    "- 991 = less than 1 cm (10 mm)\n",
    "- 992 = between 1-2 cm \n",
    "- 993 = between 2-3 cm \n",
    "- 994 = between 3-4 cm\n",
    "- 995 = between 4-5 cm \n",
    "- 996 = greater than 5cm (50 mm)\n",
    "- 999 = No info available \n",
    "\n",
    "Recode bins to values (in 1 cm intervals) \n",
    "- 0 (no mass)  = NaN\n",
    "- 991  = 1\n",
    "- 992 = 2 cm\n",
    "- 993 = 3 cm\n",
    "- 994  = 4 cm\n",
    "- 995  = 5 cm\n",
    "- 996  = 6\n",
    "- 990 and 999 = NaN\n",
    "\n",
    "\n",
    "see http://web2.facs.org/cstage0205/merkelcellskin/MerkelCellSkin_apo.html)"
   ]
  },
  {
   "cell_type": "code",
   "execution_count": 75,
   "metadata": {},
   "outputs": [
    {
     "data": {
      "text/plain": [
       "count    10907.000000\n",
       "mean         2.540543\n",
       "std          4.736141\n",
       "min          0.100000\n",
       "25%          1.000000\n",
       "50%          1.800000\n",
       "75%          3.000000\n",
       "max         98.900000\n",
       "Name: tumor_size, dtype: float64"
      ]
     },
     "execution_count": 75,
     "metadata": {},
     "output_type": "execute_result"
    }
   ],
   "source": [
    "def recode_tumor_size(var):\n",
    "    \"\"\" recodes tumor size into 1 cm bins\n",
    "\n",
    "    Parameters\n",
    "    ----------\n",
    "    var : variable (float)\n",
    "        raw data from NCDB on tumor size in mm\n",
    "        some data is binned, some data indicates range.\n",
    "\n",
    "    Returns\n",
    "    -------\n",
    "    recode_var : variable (float)\n",
    "        values provided as exact values are converted into bins\n",
    "        all data converted into cm\n",
    "\n",
    "    \"\"\"\n",
    "    if (var == 0):\n",
    "        recode_var = np.nan\n",
    "    elif (var < 990):\n",
    "        # convert from mm to cm \n",
    "        recode_var = var / 10\n",
    "    elif (var == 991) :\n",
    "        recode_var = 1\n",
    "    elif (var == 992) :\n",
    "        recode_var = 2\n",
    "    elif (var == 993) :\n",
    "        recode_var = 3\n",
    "    elif (var == 994) :\n",
    "        recode_var = 4\n",
    "    elif (var == 995) :\n",
    "        recode_var = 5\n",
    "    elif(var == 996) :\n",
    "        recode_var = 6 # but this really means 5 +\n",
    "    else:\n",
    "        recode_var = np.nan\n",
    "    return recode_var\n",
    "\n",
    "NCDB['tumor_size'] = NCDB['TUMOR_SIZE'].map(recode_tumor_size)\n",
    "NCDB['tumor_size'].describe()"
   ]
  },
  {
   "cell_type": "markdown",
   "metadata": {},
   "source": [
    "Also create a binary version\n",
    "- where 0 = <1 cm and 1 = > 1 cm "
   ]
  },
  {
   "cell_type": "code",
   "execution_count": 76,
   "metadata": {},
   "outputs": [
    {
     "data": {
      "text/plain": [
       "1.0    10018\n",
       "NaN     4041\n",
       "0.0      889\n",
       "Name: tumor_size_bin, dtype: int64"
      ]
     },
     "execution_count": 76,
     "metadata": {},
     "output_type": "execute_result"
    }
   ],
   "source": [
    "NCDB['tumor_size_bin'] = NCDB.tumor_size.apply(lambda x: np.nan if (math.isnan(x)) else (0 if x == 1 else 1))\n",
    "NCDB.tumor_size_bin.value_counts(dropna= False)"
   ]
  },
  {
   "cell_type": "markdown",
   "metadata": {},
   "source": [
    "#### Recode CS-Site-Specific Factor 21 to growth_pattern\n",
    "- 10 = circumscribed - recode as 0 \n",
    "- 20 = infiltraive - recode as 1\n",
    "- 30, 988, 997, 998, 999  - recode as NA"
   ]
  },
  {
   "cell_type": "code",
   "execution_count": 77,
   "metadata": {},
   "outputs": [
    {
     "data": {
      "text/plain": [
       "988.0    6436\n",
       "999.0    5758\n",
       "10.0     1108\n",
       "998.0     732\n",
       "20.0      545\n",
       "NaN       302\n",
       "997.0      67\n",
       "Name: CS_SITESPECIFIC_FACTOR_21, dtype: int64"
      ]
     },
     "execution_count": 77,
     "metadata": {},
     "output_type": "execute_result"
    }
   ],
   "source": [
    "NCDB.CS_SITESPECIFIC_FACTOR_21.value_counts(dropna = False)"
   ]
  },
  {
   "cell_type": "code",
   "execution_count": 78,
   "metadata": {},
   "outputs": [
    {
     "data": {
      "text/plain": [
       "NaN    13295\n",
       "0.0     1108\n",
       "1.0      545\n",
       "Name: growth_pattern, dtype: int64"
      ]
     },
     "execution_count": 78,
     "metadata": {},
     "output_type": "execute_result"
    }
   ],
   "source": [
    "NCDB['growth_pattern'] = NCDB.CS_SITESPECIFIC_FACTOR_21.\\\n",
    "replace([30,  988, 999, 998, 997], np.nan).\\\n",
    "apply(lambda x: x if math.isnan(x) else (x == 20)).\\\n",
    "replace({True: 1, False: 0})\n",
    "NCDB.growth_pattern.value_counts(dropna = False)"
   ]
  },
  {
   "cell_type": "markdown",
   "metadata": {},
   "source": [
    "### Check Demographic variables"
   ]
  },
  {
   "cell_type": "code",
   "execution_count": 79,
   "metadata": {},
   "outputs": [
    {
     "data": {
      "text/plain": [
       "count    14948.000000\n",
       "mean        74.221702\n",
       "std         10.998389\n",
       "min         21.000000\n",
       "25%         67.000000\n",
       "50%         76.000000\n",
       "75%         83.000000\n",
       "max         90.000000\n",
       "Name: AGE, dtype: float64"
      ]
     },
     "execution_count": 79,
     "metadata": {},
     "output_type": "execute_result"
    }
   ],
   "source": [
    "# all plausible values.\n",
    "NCDB.AGE.describe()"
   ]
  },
  {
   "cell_type": "markdown",
   "metadata": {},
   "source": [
    "### Dummy code sex \n",
    "- original coding: 1 = male, 2 = female \n",
    "- recode so that 0 = female, 1 = male "
   ]
  },
  {
   "cell_type": "code",
   "execution_count": 80,
   "metadata": {},
   "outputs": [
    {
     "data": {
      "text/html": [
       "<div>\n",
       "<style scoped>\n",
       "    .dataframe tbody tr th:only-of-type {\n",
       "        vertical-align: middle;\n",
       "    }\n",
       "\n",
       "    .dataframe tbody tr th {\n",
       "        vertical-align: top;\n",
       "    }\n",
       "\n",
       "    .dataframe thead th {\n",
       "        text-align: right;\n",
       "    }\n",
       "</style>\n",
       "<table border=\"1\" class=\"dataframe\">\n",
       "  <thead>\n",
       "    <tr style=\"text-align: right;\">\n",
       "      <th></th>\n",
       "      <th>SEX</th>\n",
       "      <th>N</th>\n",
       "    </tr>\n",
       "  </thead>\n",
       "  <tbody>\n",
       "    <tr>\n",
       "      <th>0</th>\n",
       "      <td>0</td>\n",
       "      <td>5517</td>\n",
       "    </tr>\n",
       "    <tr>\n",
       "      <th>1</th>\n",
       "      <td>1</td>\n",
       "      <td>9431</td>\n",
       "    </tr>\n",
       "  </tbody>\n",
       "</table>\n",
       "</div>"
      ],
      "text/plain": [
       "   SEX     N\n",
       "0    0  5517\n",
       "1    1  9431"
      ]
     },
     "execution_count": 80,
     "metadata": {},
     "output_type": "execute_result"
    }
   ],
   "source": [
    "# 1 = male, 2 = female \n",
    "# 0 = female, 1 = male \n",
    "NCDB['SEX'] = NCDB.SEX.replace({2:0, 1:1})\n",
    "dc.get_N_table(NCDB, 'SEX')"
   ]
  },
  {
   "cell_type": "markdown",
   "metadata": {},
   "source": [
    "\n",
    "## Outcome variables of interest\n",
    "Metastasis  - positive result from sentinel lymph node biopsy\n"
   ]
  },
  {
   "cell_type": "markdown",
   "metadata": {},
   "source": [
    "#### Recoding REGIONAL_NODES_POSITIVE to regional_nodes_positive_bin\n",
    "- Regional Nodes Postive = number of positive lymph nodes\n",
    "\n",
    "- 00 = all nodes are negative, recode to positive\n",
    "- 01-89 =  exact # of positive nodes, recode to postive\n",
    "- 90 = more than 90 nodes are positive, recode to positive\n",
    "- 95 = positive aspiration of lymph nodes was performed, recode to positive\n",
    "- 97 = positive nodes, but # unspecified, recode to positive\n",
    "- 98 = no nodes were examined, recoded to NaN\n",
    "- 99 = not applicable, recode to NaN\n",
    "\n",
    "Recode to binary variable, where 1 = positive regional nodes, 9 = negative regional nodes"
   ]
  },
  {
   "cell_type": "code",
   "execution_count": 81,
   "metadata": {},
   "outputs": [
    {
     "data": {
      "text/plain": [
       "count    14948.000000\n",
       "mean        41.748261\n",
       "std         47.684039\n",
       "min          0.000000\n",
       "25%          0.000000\n",
       "50%          2.000000\n",
       "75%         98.000000\n",
       "max         99.000000\n",
       "Name: REGIONAL_NODES_POSITIVE, dtype: float64"
      ]
     },
     "execution_count": 81,
     "metadata": {},
     "output_type": "execute_result"
    }
   ],
   "source": [
    "# raw variable = number of positive lymph nodes detected in surgery \n",
    "NCDB.REGIONAL_NODES_POSITIVE.describe()"
   ]
  },
  {
   "cell_type": "code",
   "execution_count": 82,
   "metadata": {},
   "outputs": [
    {
     "data": {
      "text/plain": [
       "NaN    5957\n",
       "0.0    4862\n",
       "1.0    4129\n",
       "Name: regional_nodes_positive_bin, dtype: int64"
      ]
     },
     "execution_count": 82,
     "metadata": {},
     "output_type": "execute_result"
    }
   ],
   "source": [
    "    # make a binary variable.\n",
    "NCDB['regional_nodes_positive_bin'] = dc.binarize_var(NCDB.REGIONAL_NODES_POSITIVE, [99, 98]) \n",
    "NCDB.regional_nodes_positive_bin.value_counts(dropna = False)"
   ]
  },
  {
   "cell_type": "markdown",
   "metadata": {},
   "source": [
    "#### Recode CS_SITESPECIFIC_FACTOR_3 to lymph_node_mets_bin\n",
    "- CS_SITESPECIFIC_FACTOR_3 = clinical status of lymph node mets\n",
    "\n",
    "- 0 = no mets, recode as negative\n",
    "-  5 = clinically negative mets, recode as negative\n",
    "- 10 = micro-mets, recode as positive\n",
    "- 20 = macro-mets, exclude from consideration (NA) because positive case without biospsy needed\n",
    "- 100 = spreading mets, exclude from consideration (NA) because positive case without biospsy needed\n",
    "- 150 = spreadingg more , exclude from consideration (NA)because positive case without biospsy needed\n",
    "- 888, 988, 999 = not applicable, convert to NA\n",
    "\n",
    "\n",
    "http://web2.facs.org/cstage0205/merkelcellskin/MerkelCellSkin_lpq.html\n"
   ]
  },
  {
   "cell_type": "code",
   "execution_count": 83,
   "metadata": {},
   "outputs": [
    {
     "data": {
      "text/plain": [
       "988.0    5385\n",
       "5.0      4027\n",
       "20.0     1828\n",
       "0.0      1258\n",
       "999.0    1141\n",
       "10.0      851\n",
       "888.0     302\n",
       "150.0      92\n",
       "100.0      49\n",
       "998.0      15\n",
       "Name: CS_SITESPECIFIC_FACTOR_3, dtype: int64"
      ]
     },
     "execution_count": 83,
     "metadata": {},
     "output_type": "execute_result"
    }
   ],
   "source": [
    "# raw variable = \n",
    "NCDB.CS_SITESPECIFIC_FACTOR_3.value_counts(dropna = False)"
   ]
  },
  {
   "cell_type": "code",
   "execution_count": 84,
   "metadata": {},
   "outputs": [
    {
     "data": {
      "text/plain": [
       "NaN    8812\n",
       "0.0    5285\n",
       "1.0     851\n",
       "Name: lymph_node_mets_bin, dtype: int64"
      ]
     },
     "execution_count": 84,
     "metadata": {},
     "output_type": "execute_result"
    }
   ],
   "source": [
    "# make a binary variable, metastasis present or absent.\n",
    "NCDB['lymph_node_mets_bin'] = NCDB.CS_SITESPECIFIC_FACTOR_3.\\\n",
    "replace([888, 988, 999, 998, 997, 20, 100, 150], np.nan).\\\n",
    "apply(lambda x: x if math.isnan(x) else (x > 5)).\\\n",
    "replace({True: 1, False: 0})\n",
    "\n",
    "NCDB.lymph_node_mets_bin.value_counts(dropna = False)"
   ]
  },
  {
   "cell_type": "markdown",
   "metadata": {},
   "source": [
    "### Original outcome variable coding\n",
    "- agreement between lymph node mets and regional nodes positive\n",
    "- if the two variables agree on positive / negative, use that value.\n",
    "- if they disgree with each other, discard case as NaN\n",
    "- if only one variable is available, use that value\n"
   ]
  },
  {
   "cell_type": "code",
   "execution_count": 85,
   "metadata": {},
   "outputs": [
    {
     "data": {
      "text/html": [
       "<div>\n",
       "<style scoped>\n",
       "    .dataframe tbody tr th:only-of-type {\n",
       "        vertical-align: middle;\n",
       "    }\n",
       "\n",
       "    .dataframe tbody tr th {\n",
       "        vertical-align: top;\n",
       "    }\n",
       "\n",
       "    .dataframe thead th {\n",
       "        text-align: right;\n",
       "    }\n",
       "</style>\n",
       "<table border=\"1\" class=\"dataframe\">\n",
       "  <thead>\n",
       "    <tr style=\"text-align: right;\">\n",
       "      <th></th>\n",
       "      <th>lymph_node_mets_bin</th>\n",
       "      <th>regional_nodes_positive_bin</th>\n",
       "      <th>N</th>\n",
       "    </tr>\n",
       "  </thead>\n",
       "  <tbody>\n",
       "    <tr>\n",
       "      <th>0</th>\n",
       "      <td>0.0</td>\n",
       "      <td>0.0</td>\n",
       "      <td>2874</td>\n",
       "    </tr>\n",
       "    <tr>\n",
       "      <th>1</th>\n",
       "      <td>0.0</td>\n",
       "      <td>1.0</td>\n",
       "      <td>11</td>\n",
       "    </tr>\n",
       "    <tr>\n",
       "      <th>2</th>\n",
       "      <td>0.0</td>\n",
       "      <td>NaN</td>\n",
       "      <td>2400</td>\n",
       "    </tr>\n",
       "    <tr>\n",
       "      <th>3</th>\n",
       "      <td>1.0</td>\n",
       "      <td>0.0</td>\n",
       "      <td>20</td>\n",
       "    </tr>\n",
       "    <tr>\n",
       "      <th>4</th>\n",
       "      <td>1.0</td>\n",
       "      <td>1.0</td>\n",
       "      <td>815</td>\n",
       "    </tr>\n",
       "    <tr>\n",
       "      <th>5</th>\n",
       "      <td>1.0</td>\n",
       "      <td>NaN</td>\n",
       "      <td>16</td>\n",
       "    </tr>\n",
       "    <tr>\n",
       "      <th>6</th>\n",
       "      <td>NaN</td>\n",
       "      <td>0.0</td>\n",
       "      <td>1968</td>\n",
       "    </tr>\n",
       "    <tr>\n",
       "      <th>7</th>\n",
       "      <td>NaN</td>\n",
       "      <td>1.0</td>\n",
       "      <td>3303</td>\n",
       "    </tr>\n",
       "    <tr>\n",
       "      <th>8</th>\n",
       "      <td>NaN</td>\n",
       "      <td>NaN</td>\n",
       "      <td>3541</td>\n",
       "    </tr>\n",
       "  </tbody>\n",
       "</table>\n",
       "</div>"
      ],
      "text/plain": [
       "   lymph_node_mets_bin  regional_nodes_positive_bin     N\n",
       "0                  0.0                          0.0  2874\n",
       "1                  0.0                          1.0    11\n",
       "2                  0.0                          NaN  2400\n",
       "3                  1.0                          0.0    20\n",
       "4                  1.0                          1.0   815\n",
       "5                  1.0                          NaN    16\n",
       "6                  NaN                          0.0  1968\n",
       "7                  NaN                          1.0  3303\n",
       "8                  NaN                          NaN  3541"
      ]
     },
     "execution_count": 85,
     "metadata": {},
     "output_type": "execute_result"
    }
   ],
   "source": [
    "# first check agreement between two variables \n",
    "dc.get_N_table(NCDB, ['lymph_node_mets_bin',  'regional_nodes_positive_bin'])\n"
   ]
  },
  {
   "cell_type": "code",
   "execution_count": 86,
   "metadata": {},
   "outputs": [],
   "source": [
    "def recode_outcome(df):\n",
    "    # if they have both variables...  \n",
    "    if (not math.isnan(df.regional_nodes_positive_bin)) & (not math.isnan(df.lymph_node_mets_bin)):\n",
    "        # provide value if they both agree\n",
    "        if (df.regional_nodes_positive_bin == df.lymph_node_mets_bin): \n",
    "            return df.regional_nodes_positive_bin\n",
    "       \n",
    "        # if they don't agree, exclude as NAN\n",
    "        else: \n",
    "            return np.nan \n",
    "        \n",
    "    # if they only have one variable, use that\n",
    "    elif (not math.isnan(df.regional_nodes_positive_bin)):\n",
    "        return df.regional_nodes_positive_bin\n",
    "    elif (not math.isnan(df.lymph_node_mets_bin)):\n",
    "        return df.lymph_node_mets_bin\n"
   ]
  },
  {
   "cell_type": "code",
   "execution_count": 87,
   "metadata": {},
   "outputs": [
    {
     "data": {
      "text/html": [
       "<div>\n",
       "<style scoped>\n",
       "    .dataframe tbody tr th:only-of-type {\n",
       "        vertical-align: middle;\n",
       "    }\n",
       "\n",
       "    .dataframe tbody tr th {\n",
       "        vertical-align: top;\n",
       "    }\n",
       "\n",
       "    .dataframe thead th {\n",
       "        text-align: right;\n",
       "    }\n",
       "</style>\n",
       "<table border=\"1\" class=\"dataframe\">\n",
       "  <thead>\n",
       "    <tr style=\"text-align: right;\">\n",
       "      <th></th>\n",
       "      <th>metastasis</th>\n",
       "      <th>N</th>\n",
       "    </tr>\n",
       "  </thead>\n",
       "  <tbody>\n",
       "    <tr>\n",
       "      <th>0</th>\n",
       "      <td>0.0</td>\n",
       "      <td>7242</td>\n",
       "    </tr>\n",
       "    <tr>\n",
       "      <th>1</th>\n",
       "      <td>1.0</td>\n",
       "      <td>4134</td>\n",
       "    </tr>\n",
       "    <tr>\n",
       "      <th>2</th>\n",
       "      <td>NaN</td>\n",
       "      <td>3572</td>\n",
       "    </tr>\n",
       "  </tbody>\n",
       "</table>\n",
       "</div>"
      ],
      "text/plain": [
       "   metastasis     N\n",
       "0         0.0  7242\n",
       "1         1.0  4134\n",
       "2         NaN  3572"
      ]
     },
     "execution_count": 87,
     "metadata": {},
     "output_type": "execute_result"
    }
   ],
   "source": [
    "NCDB['metastasis'] = NCDB.apply(recode_outcome, axis = 1)\n",
    "dc.get_N_table(NCDB, 'metastasis')"
   ]
  },
  {
   "cell_type": "markdown",
   "metadata": {},
   "source": [
    "### Updated outcome variable coding\n",
    "These variables are based on cancer staging manual \n",
    "- TNM_PATH_N \n",
    "- TNM_PATH_STAGE_GROUP"
   ]
  },
  {
   "cell_type": "markdown",
   "metadata": {},
   "source": [
    "#### RECODE TNM_PATH_N \n",
    "- p1A = positive \n",
    "- p0 = negative\n",
    "- everything else should be excluded, as nan"
   ]
  },
  {
   "cell_type": "code",
   "execution_count": 88,
   "metadata": {},
   "outputs": [
    {
     "data": {
      "text/plain": [
       "p0     5043\n",
       "pX     5011\n",
       "p1     1718\n",
       "NaN    1422\n",
       "p1B     835\n",
       "p1A     713\n",
       "p2      205\n",
       "88        1\n",
       "Name: TNM_PATH_N, dtype: int64"
      ]
     },
     "execution_count": 88,
     "metadata": {},
     "output_type": "execute_result"
    }
   ],
   "source": [
    "NCDB.TNM_PATH_N.value_counts(dropna = False)\n"
   ]
  },
  {
   "cell_type": "code",
   "execution_count": 89,
   "metadata": {},
   "outputs": [
    {
     "data": {
      "text/plain": [
       "NaN    9192\n",
       "0.0    5043\n",
       "1.0     713\n",
       "Name: TNM_path_N_positive, dtype: int64"
      ]
     },
     "execution_count": 89,
     "metadata": {},
     "output_type": "execute_result"
    }
   ],
   "source": [
    "NCDB['TNM_path_N_positive'] = NCDB.TNM_PATH_N.apply(lambda x: 1 if x == \"p1A\" else (0 if x == \"p0\" else np.nan))\n",
    "NCDB.TNM_path_N_positive.value_counts(dropna = False)"
   ]
  },
  {
   "cell_type": "markdown",
   "metadata": {},
   "source": [
    "#### RECODE TNM_path_stage_group \n",
    "- only 3A is positive, recode to 1\n",
    "- everything else is 0"
   ]
  },
  {
   "cell_type": "code",
   "execution_count": 90,
   "metadata": {},
   "outputs": [
    {
     "data": {
      "text/plain": [
       "0    14102\n",
       "1      846\n",
       "Name: TNM_path_group_positive, dtype: int64"
      ]
     },
     "execution_count": 90,
     "metadata": {},
     "output_type": "execute_result"
    }
   ],
   "source": [
    "NCDB.TNM_PATH_STAGE_GROUP.value_counts(dropna = False)\n",
    "NCDB['TNM_path_group_positive'] = NCDB.TNM_PATH_STAGE_GROUP.apply(lambda x: 1 if x == \"3A\" else 0)\n",
    "NCDB.TNM_path_group_positive.value_counts(dropna = False)"
   ]
  },
  {
   "cell_type": "markdown",
   "metadata": {},
   "source": [
    "#### Combine variables to generate TNM_positive\n",
    "- use TNM path N\n",
    "- but if that's NA, pull positive cases from TNM stage group\n",
    "- and if that's NA, pull positive cases from CS Site factor 3 (lymph_node_mets_bin)"
   ]
  },
  {
   "cell_type": "code",
   "execution_count": 91,
   "metadata": {},
   "outputs": [
    {
     "data": {
      "text/plain": [
       "NaN    8747\n",
       "0.0    5043\n",
       "1.0    1158\n",
       "Name: TNM_positive, dtype: int64"
      ]
     },
     "execution_count": 91,
     "metadata": {},
     "output_type": "execute_result"
    }
   ],
   "source": [
    "def recode_outcome_TNM (df):\n",
    "    # if TNM path N is NAN... \n",
    "    if (math.isnan(df.TNM_path_N_positive)):\n",
    "        # pull positive only from path stage group\n",
    "        if (df.TNM_path_group_positive == 1):\n",
    "            return 1\n",
    "        # if path group is also Na, pull positive from lymph_node_mets_bin\n",
    "        elif (df.lymph_node_mets_bin == 1):\n",
    "            return 1\n",
    "        else: # if those  variables are negative, recode as NAN\n",
    "            return np.nan\n",
    "        \n",
    "    # if TNM_path_N is valid, use that.\n",
    "    else:\n",
    "        return df.TNM_path_N_positive\n",
    "    \n",
    "NCDB['TNM_positive'] = NCDB.apply(recode_outcome_TNM, axis = 1)\n",
    "NCDB.TNM_positive.value_counts(dropna = False)"
   ]
  },
  {
   "cell_type": "code",
   "execution_count": 92,
   "metadata": {},
   "outputs": [
    {
     "data": {
      "text/html": [
       "<div>\n",
       "<style scoped>\n",
       "    .dataframe tbody tr th:only-of-type {\n",
       "        vertical-align: middle;\n",
       "    }\n",
       "\n",
       "    .dataframe tbody tr th {\n",
       "        vertical-align: top;\n",
       "    }\n",
       "\n",
       "    .dataframe thead th {\n",
       "        text-align: right;\n",
       "    }\n",
       "</style>\n",
       "<table border=\"1\" class=\"dataframe\">\n",
       "  <thead>\n",
       "    <tr style=\"text-align: right;\">\n",
       "      <th></th>\n",
       "      <th>metastasis</th>\n",
       "      <th>TNM_positive</th>\n",
       "      <th>N</th>\n",
       "    </tr>\n",
       "  </thead>\n",
       "  <tbody>\n",
       "    <tr>\n",
       "      <th>0</th>\n",
       "      <td>0.0</td>\n",
       "      <td>0.0</td>\n",
       "      <td>4366</td>\n",
       "    </tr>\n",
       "    <tr>\n",
       "      <th>1</th>\n",
       "      <td>0.0</td>\n",
       "      <td>1.0</td>\n",
       "      <td>2</td>\n",
       "    </tr>\n",
       "    <tr>\n",
       "      <th>2</th>\n",
       "      <td>0.0</td>\n",
       "      <td>NaN</td>\n",
       "      <td>2874</td>\n",
       "    </tr>\n",
       "    <tr>\n",
       "      <th>3</th>\n",
       "      <td>1.0</td>\n",
       "      <td>0.0</td>\n",
       "      <td>28</td>\n",
       "    </tr>\n",
       "    <tr>\n",
       "      <th>4</th>\n",
       "      <td>1.0</td>\n",
       "      <td>1.0</td>\n",
       "      <td>1140</td>\n",
       "    </tr>\n",
       "    <tr>\n",
       "      <th>5</th>\n",
       "      <td>1.0</td>\n",
       "      <td>NaN</td>\n",
       "      <td>2966</td>\n",
       "    </tr>\n",
       "    <tr>\n",
       "      <th>6</th>\n",
       "      <td>NaN</td>\n",
       "      <td>0.0</td>\n",
       "      <td>649</td>\n",
       "    </tr>\n",
       "    <tr>\n",
       "      <th>7</th>\n",
       "      <td>NaN</td>\n",
       "      <td>1.0</td>\n",
       "      <td>16</td>\n",
       "    </tr>\n",
       "    <tr>\n",
       "      <th>8</th>\n",
       "      <td>NaN</td>\n",
       "      <td>NaN</td>\n",
       "      <td>2907</td>\n",
       "    </tr>\n",
       "  </tbody>\n",
       "</table>\n",
       "</div>"
      ],
      "text/plain": [
       "   metastasis  TNM_positive     N\n",
       "0         0.0           0.0  4366\n",
       "1         0.0           1.0     2\n",
       "2         0.0           NaN  2874\n",
       "3         1.0           0.0    28\n",
       "4         1.0           1.0  1140\n",
       "5         1.0           NaN  2966\n",
       "6         NaN           0.0   649\n",
       "7         NaN           1.0    16\n",
       "8         NaN           NaN  2907"
      ]
     },
     "execution_count": 92,
     "metadata": {},
     "output_type": "execute_result"
    }
   ],
   "source": [
    "# added 1K more valid cases for TNM positive by including CS site factor 3\n",
    "dc.get_N_table(NCDB, ['metastasis', 'TNM_positive'])"
   ]
  },
  {
   "cell_type": "markdown",
   "metadata": {},
   "source": [
    "# EXPORT DATA"
   ]
  },
  {
   "cell_type": "code",
   "execution_count": 93,
   "metadata": {},
   "outputs": [],
   "source": [
    "NCDB.to_csv(\"../data/cleaned/NCDB_cleaned_all_cases.csv\", index = False)\n"
   ]
  },
  {
   "cell_type": "markdown",
   "metadata": {},
   "source": [
    "## 2. Make NCDB dataset to merge with SEER\n",
    "\n",
    "Variables not available in SEER:\n",
    "- lymph_vasc_invasion\n",
    "- immuno_suppressed\n",
    "- tumor_lymphocytes\n",
    "- tumor depth"
   ]
  },
  {
   "cell_type": "code",
   "execution_count": 68,
   "metadata": {},
   "outputs": [
    {
     "data": {
      "text/plain": [
       "(14948, 5)"
      ]
     },
     "execution_count": 68,
     "metadata": {},
     "output_type": "execute_result"
    }
   ],
   "source": [
    "# select features and outcome variable\n",
    "NCDB2 = NCDB[['AGE', 'SEX', 'tumor_size', 'tumor_site',\n",
    "              'metastasis']]\n",
    "NCDB2.shape"
   ]
  },
  {
   "cell_type": "code",
   "execution_count": 69,
   "metadata": {},
   "outputs": [
    {
     "name": "stdout",
     "output_type": "stream",
     "text": [
      "Missingness of features\n"
     ]
    },
    {
     "data": {
      "text/html": [
       "<div>\n",
       "<style scoped>\n",
       "    .dataframe tbody tr th:only-of-type {\n",
       "        vertical-align: middle;\n",
       "    }\n",
       "\n",
       "    .dataframe tbody tr th {\n",
       "        vertical-align: top;\n",
       "    }\n",
       "\n",
       "    .dataframe thead th {\n",
       "        text-align: right;\n",
       "    }\n",
       "</style>\n",
       "<table border=\"1\" class=\"dataframe\">\n",
       "  <thead>\n",
       "    <tr style=\"text-align: right;\">\n",
       "      <th></th>\n",
       "      <th>index</th>\n",
       "      <th>Missing</th>\n",
       "    </tr>\n",
       "  </thead>\n",
       "  <tbody>\n",
       "    <tr>\n",
       "      <th>0</th>\n",
       "      <td>AGE</td>\n",
       "      <td>0</td>\n",
       "    </tr>\n",
       "    <tr>\n",
       "      <th>1</th>\n",
       "      <td>SEX</td>\n",
       "      <td>0</td>\n",
       "    </tr>\n",
       "    <tr>\n",
       "      <th>2</th>\n",
       "      <td>tumor_size</td>\n",
       "      <td>4041</td>\n",
       "    </tr>\n",
       "    <tr>\n",
       "      <th>3</th>\n",
       "      <td>tumor_site</td>\n",
       "      <td>0</td>\n",
       "    </tr>\n",
       "    <tr>\n",
       "      <th>4</th>\n",
       "      <td>metastasis</td>\n",
       "      <td>3572</td>\n",
       "    </tr>\n",
       "  </tbody>\n",
       "</table>\n",
       "</div>"
      ],
      "text/plain": [
       "        index  Missing\n",
       "0         AGE        0\n",
       "1         SEX        0\n",
       "2  tumor_size     4041\n",
       "3  tumor_site        0\n",
       "4  metastasis     3572"
      ]
     },
     "execution_count": 69,
     "metadata": {},
     "output_type": "execute_result"
    }
   ],
   "source": [
    "dc.get_missingness_table(NCDB2)"
   ]
  },
  {
   "cell_type": "code",
   "execution_count": 70,
   "metadata": {},
   "outputs": [
    {
     "name": "stdout",
     "output_type": "stream",
     "text": [
      "Rows with full data: 8781\n",
      "Rows dropped for missingness: 6167\n",
      "Proprtion of rows with missing data: 0.41\n"
     ]
    }
   ],
   "source": [
    "NCDB2_cleaned = NCDB2.dropna(axis = 'rows', how = 'any')\n",
    "\n",
    "# count how many dropped \n",
    "original_rows = NCDB2.shape[0]\n",
    "rows_remaining  = NCDB2_cleaned.shape[0]\n",
    "dropped_rows = (original_rows - rows_remaining)\n",
    "prop_missing = round(dropped_rows / original_rows, 2)\n",
    "\n",
    "NCDB2_cleaned.to_csv(\"../data/cleaned/NCDB_cleaned_for_SEER_merge.csv\", index = False)\n",
    "\n",
    "print(\"Rows with full data: {}\".format(rows_remaining))\n",
    "print(\"Rows dropped for missingness: {}\".format(dropped_rows))\n",
    "print(\"Proprtion of rows with missing data: {}\".format(prop_missing))\n"
   ]
  },
  {
   "cell_type": "code",
   "execution_count": 71,
   "metadata": {},
   "outputs": [
    {
     "data": {
      "text/plain": [
       "0.0    5868\n",
       "1.0    2913\n",
       "Name: metastasis, dtype: int64"
      ]
     },
     "execution_count": 71,
     "metadata": {},
     "output_type": "execute_result"
    }
   ],
   "source": [
    "NCDB2_cleaned.metastasis.value_counts(dropna= False)"
   ]
  },
  {
   "cell_type": "code",
   "execution_count": null,
   "metadata": {},
   "outputs": [],
   "source": []
  }
 ],
 "metadata": {
  "kernelspec": {
   "display_name": "Python 3",
   "language": "python",
   "name": "python3"
  },
  "language_info": {
   "codemirror_mode": {
    "name": "ipython",
    "version": 3
   },
   "file_extension": ".py",
   "mimetype": "text/x-python",
   "name": "python",
   "nbconvert_exporter": "python",
   "pygments_lexer": "ipython3",
   "version": "3.7.9"
  }
 },
 "nbformat": 4,
 "nbformat_minor": 4
}
