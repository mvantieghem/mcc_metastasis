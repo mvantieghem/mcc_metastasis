{
 "cells": [
  {
   "cell_type": "code",
   "execution_count": 1,
   "metadata": {},
   "outputs": [],
   "source": [
    "import sklearn\n",
    "import pandas as pd\n",
    "import numpy as np\n",
    "import math\n",
    "import warnings\n",
    "# plotting\n",
    "import seaborn as sns\n",
    "from matplotlib import pyplot \n",
    "import matplotlib.pyplot as plt\n",
    "sns.set(context='paper', style='whitegrid', rc={'figure.facecolor':'white'}, font_scale=1.2)\n",
    "\n",
    "# preproc\n",
    "from scipy.stats import zscore\n",
    "\n",
    "from sklearn.experimental import enable_iterative_imputer \n",
    "from sklearn.impute import IterativeImputer\n",
    "from sklearn.impute import KNNImputer\n",
    "\n",
    "from sklearn.preprocessing import StandardScaler, OneHotEncoder\n",
    "from sklearn.preprocessing import PolynomialFeatures\n",
    "from sklearn.pipeline import make_pipeline, Pipeline\n",
    "from sklearn.compose import ColumnTransformer, make_column_transformer\n",
    "\n",
    "# modeling\n",
    "from sklearn.linear_model import LogisticRegression\n",
    "from sklearn.linear_model import LogisticRegressionCV\n",
    "from sklearn.svm import SVC\n",
    "from sklearn.ensemble import RandomForestClassifier\n",
    "from sklearn.tree import DecisionTreeClassifier\n",
    "\n",
    "# grid search CV for model tuning\n",
    "from sklearn.model_selection import train_test_split, GridSearchCV, RepeatedStratifiedKFold\n",
    "\n",
    "# metrics for classification\n",
    "from sklearn.metrics import roc_auc_score, roc_curve\n",
    "from sklearn.metrics import precision_recall_curve\n",
    "from sklearn.metrics import recall_score, precision_score, average_precision_score\n",
    "from sklearn.metrics import accuracy_score, f1_score, brier_score_loss\n",
    "from sklearn.metrics import classification_report, confusion_matrix \n",
    "from sklearn.metrics import make_scorer\n",
    "\n",
    "# post-processing \n",
    "from sklearn.calibration import calibration_curve\n",
    "from sklearn.calibration import CalibratedClassifierCV, _CalibratedClassifier\n",
    "\n",
    "\n",
    "# statistical reporting\n",
    "import statsmodels.api as sm\n",
    "\n",
    "# import custom functions from my package\n",
    "import sys\n",
    "import os\n",
    "sys.path.append(\"../\")\n",
    "from mcc_metastasis import modeling \n",
    "from mcc_metastasis import custom_plots\n",
    "from mcc_metastasis import data_cleaning\n",
    "\n",
    "RANDOM = 0\n",
    "figure_path = \"../figures/TNM_outcome/NCDB_5_features/\""
   ]
  },
  {
   "cell_type": "markdown",
   "metadata": {},
   "source": [
    "## 1. Prep data\n",
    "\n",
    "- load data "
   ]
  },
  {
   "cell_type": "code",
   "execution_count": 2,
   "metadata": {},
   "outputs": [
    {
     "data": {
      "text/plain": [
       "1.0    5043\n",
       "0.0     713\n",
       "Name: TNM_negative, dtype: int64"
      ]
     },
     "execution_count": 2,
     "metadata": {},
     "output_type": "execute_result"
    }
   ],
   "source": [
    "# OPEN DATA \n",
    "df = pd.read_csv(\"../data/cleaned/NCDB_cleaned_all_cases.csv\")\n",
    "## select relevant variables: removed sex and tumor site\n",
    "df = df [[ 'tumor_lymphocytes', 'lymph_vasc_invasion', 'TNM_positive']]\n",
    "\n",
    "# clean up \n",
    "df['TNM_negative'] = df.TNM_positive.replace({0:1, 1:0})\n",
    "df = df.drop(columns = 'TNM_positive')\n",
    "df.TNM_negative.value_counts()\n"
   ]
  },
  {
   "cell_type": "markdown",
   "metadata": {},
   "source": [
    "### data version 1: drop all cases with missing data"
   ]
  },
  {
   "cell_type": "code",
   "execution_count": 3,
   "metadata": {},
   "outputs": [
    {
     "data": {
      "text/plain": [
       "(1250, 3)"
      ]
     },
     "execution_count": 3,
     "metadata": {},
     "output_type": "execute_result"
    }
   ],
   "source": [
    "df_complete = df.dropna(axis = 0)\n",
    "df_complete.shape"
   ]
  },
  {
   "cell_type": "markdown",
   "metadata": {},
   "source": [
    "### data version 2: retain samples using imputation\n"
   ]
  },
  {
   "cell_type": "code",
   "execution_count": 4,
   "metadata": {},
   "outputs": [
    {
     "name": "stdout",
     "output_type": "stream",
     "text": [
      "Missingness of features\n"
     ]
    },
    {
     "data": {
      "text/html": [
       "<div>\n",
       "<style scoped>\n",
       "    .dataframe tbody tr th:only-of-type {\n",
       "        vertical-align: middle;\n",
       "    }\n",
       "\n",
       "    .dataframe tbody tr th {\n",
       "        vertical-align: top;\n",
       "    }\n",
       "\n",
       "    .dataframe thead th {\n",
       "        text-align: right;\n",
       "    }\n",
       "</style>\n",
       "<table border=\"1\" class=\"dataframe\">\n",
       "  <thead>\n",
       "    <tr style=\"text-align: right;\">\n",
       "      <th></th>\n",
       "      <th>index</th>\n",
       "      <th>Missing</th>\n",
       "    </tr>\n",
       "  </thead>\n",
       "  <tbody>\n",
       "    <tr>\n",
       "      <th>0</th>\n",
       "      <td>tumor_lymphocytes</td>\n",
       "      <td>12260</td>\n",
       "    </tr>\n",
       "    <tr>\n",
       "      <th>1</th>\n",
       "      <td>lymph_vasc_invasion</td>\n",
       "      <td>10026</td>\n",
       "    </tr>\n",
       "    <tr>\n",
       "      <th>2</th>\n",
       "      <td>TNM_negative</td>\n",
       "      <td>9192</td>\n",
       "    </tr>\n",
       "  </tbody>\n",
       "</table>\n",
       "</div>"
      ],
      "text/plain": [
       "                 index  Missing\n",
       "0    tumor_lymphocytes    12260\n",
       "1  lymph_vasc_invasion    10026\n",
       "2         TNM_negative     9192"
      ]
     },
     "execution_count": 4,
     "metadata": {},
     "output_type": "execute_result"
    }
   ],
   "source": [
    "data_cleaning.get_missingness_table(df)"
   ]
  },
  {
   "cell_type": "code",
   "execution_count": 5,
   "metadata": {},
   "outputs": [
    {
     "name": "stdout",
     "output_type": "stream",
     "text": [
      "Missingness of features\n"
     ]
    },
    {
     "data": {
      "text/html": [
       "<div>\n",
       "<style scoped>\n",
       "    .dataframe tbody tr th:only-of-type {\n",
       "        vertical-align: middle;\n",
       "    }\n",
       "\n",
       "    .dataframe tbody tr th {\n",
       "        vertical-align: top;\n",
       "    }\n",
       "\n",
       "    .dataframe thead th {\n",
       "        text-align: right;\n",
       "    }\n",
       "</style>\n",
       "<table border=\"1\" class=\"dataframe\">\n",
       "  <thead>\n",
       "    <tr style=\"text-align: right;\">\n",
       "      <th></th>\n",
       "      <th>index</th>\n",
       "      <th>Missing</th>\n",
       "    </tr>\n",
       "  </thead>\n",
       "  <tbody>\n",
       "    <tr>\n",
       "      <th>0</th>\n",
       "      <td>tumor_lymphocytes</td>\n",
       "      <td>0</td>\n",
       "    </tr>\n",
       "    <tr>\n",
       "      <th>1</th>\n",
       "      <td>lymph_vasc_invasion</td>\n",
       "      <td>385</td>\n",
       "    </tr>\n",
       "    <tr>\n",
       "      <th>2</th>\n",
       "      <td>TNM_negative</td>\n",
       "      <td>0</td>\n",
       "    </tr>\n",
       "  </tbody>\n",
       "</table>\n",
       "</div>"
      ],
      "text/plain": [
       "                 index  Missing\n",
       "0    tumor_lymphocytes        0\n",
       "1  lymph_vasc_invasion      385\n",
       "2         TNM_negative        0"
      ]
     },
     "execution_count": 5,
     "metadata": {},
     "output_type": "execute_result"
    }
   ],
   "source": [
    "# what did i remove? sex, tumor site, \n",
    "df2 = df[(df.TNM_negative.isnull() == False) &\n",
    "       (df.tumor_lymphocytes.isnull() == False)]\n",
    "\n",
    "# how many would we need to impute?\n",
    "data_cleaning.get_missingness_table(df2)"
   ]
  },
  {
   "cell_type": "markdown",
   "metadata": {},
   "source": [
    "### Impute missing data \n",
    "- imputing lymph vasc invasion, tumor_size\n",
    "- don't want to include outcome in imputation process..."
   ]
  },
  {
   "cell_type": "code",
   "execution_count": 6,
   "metadata": {},
   "outputs": [
    {
     "data": {
      "text/plain": [
       "(1635, 3)"
      ]
     },
     "execution_count": 6,
     "metadata": {},
     "output_type": "execute_result"
    }
   ],
   "source": [
    "outcome = df2['TNM_negative'].reset_index(drop = True)\n",
    "features = df2.drop(columns =[ 'TNM_negative'])\n",
    "imputer = KNNImputer()\n",
    "imputed_features = pd.DataFrame(imputer.fit_transform(features), columns = features.columns)\n",
    "imputed_df = pd.concat([imputed_features, outcome], axis = 1)\n",
    "imputed_df.shape"
   ]
  },
  {
   "cell_type": "code",
   "execution_count": 7,
   "metadata": {},
   "outputs": [
    {
     "data": {
      "text/plain": [
       "0.0    1216\n",
       "1.0     357\n",
       "0.2      62\n",
       "Name: lymph_vasc_invasion, dtype: int64"
      ]
     },
     "execution_count": 7,
     "metadata": {},
     "output_type": "execute_result"
    }
   ],
   "source": [
    "# checkL has non-binary values\n",
    "imputed_features.lymph_vasc_invasion.value_counts()"
   ]
  },
  {
   "cell_type": "markdown",
   "metadata": {},
   "source": [
    "### Define cross validation\n",
    "- split data into train-val and hold-out test sets \n",
    "- stratified CV folds, 3 folds repeated 5x with random sampling"
   ]
  },
  {
   "cell_type": "code",
   "execution_count": 8,
   "metadata": {},
   "outputs": [],
   "source": [
    " # make cross val folds - \n",
    "CV_folds =  RepeatedStratifiedKFold(n_splits = 3, \n",
    "                                    n_repeats =  5,  \n",
    "                                    random_state = 0)\n",
    " "
   ]
  },
  {
   "cell_type": "markdown",
   "metadata": {},
   "source": [
    "### Define Models\n",
    "- instead of tuning the model itself, just comparing calibration metods"
   ]
  },
  {
   "cell_type": "code",
   "execution_count": 11,
   "metadata": {},
   "outputs": [],
   "source": [
    "LR_model = LogisticRegression(class_weight = 'balanced', \n",
    "                              max_iter = 1000,\n",
    "                              penalty = 'l1', \n",
    "                               C = 100,\n",
    "                              solver = 'liblinear', \n",
    "                             random_state = RANDOM)\n",
    "    # add extra step of calibration \n",
    "Isotonic = CalibratedClassifierCV(LR_model, method = \"isotonic\", cv = CV_folds)\n",
    "\n",
    "Sigmoid = CalibratedClassifierCV(LR_model, method = \"sigmoid\", cv = CV_folds)\n"
   ]
  },
  {
   "cell_type": "code",
   "execution_count": 12,
   "metadata": {},
   "outputs": [],
   "source": [
    "\n",
    "# define scores to get from each model \n",
    "def get_scores(y_test, y_pred):\n",
    "        scores = pd.DataFrame({ \"metrics\"  : [\"precision\", \"recall\", \"roc_auc\",\n",
    "                                          \"accuracy\", \"f1 score\", \"pr_auc\", \"brier_score\"],\n",
    "                                \"scores\" : [precision_score(y_test, y_pred), \n",
    "                                           recall_score(y_test, y_pred),\n",
    "                                            roc_auc_score(y_test, y_pred),\n",
    "                                            accuracy_score(y_test, y_pred),\n",
    "                                           f1_score(y_test, y_pred), \n",
    "                                           average_precision_score(y_test, y_pred), \n",
    "                                           brier_score_loss (y_test, y_pred)]\n",
    "                               })\n",
    "        return (scores)\n"
   ]
  },
  {
   "cell_type": "markdown",
   "metadata": {},
   "source": [
    "### Run calibration on training data, evaluate on validation data"
   ]
  },
  {
   "cell_type": "code",
   "execution_count": 14,
   "metadata": {},
   "outputs": [],
   "source": [
    "# define options for looop \n",
    "datasets = [df_complete, imputed_df]\n",
    "dataset_names = [\"complete\", \"imputed\"]\n",
    "\n",
    "\n",
    "grid_results = pd.DataFrame()\n",
    "i = 0\n",
    "for data in datasets:\n",
    "\n",
    "    features = data.drop(columns = ['TNM_negative'])\n",
    "    outcome = data['TNM_negative'].reset_index(drop = True)\n",
    "    # split into train and test set \n",
    "    X_trainval, X_test, y_trainval, y_test = train_test_split(features, \n",
    "                                                              outcome,\n",
    "                                                              stratify =outcome,\n",
    "                                                              test_size = 0.3)\n",
    "    # further split so only doing CV on the training, validattion for ccalibration\n",
    "    X_train, X_val, y_train, y_val = train_test_split(X_trainval,\n",
    "                                                     y_trainval,\n",
    "                                                     stratify = y_trainval, \n",
    "                                                     test_size = 0.3)\n",
    "    \n",
    "     \n",
    "    LR_model.fit(X_train, y_train)        \n",
    "    LR_y_val_probs = LR_model.predict_proba(X_val)[:,1]\n",
    "    LR_y_val_pred = LR_model.predict(X_val)\n",
    "    LR_scores = pd.DataFrame(get_scores(y_val, LR_y_val_pred))\n",
    "    LR_scores['model'] = 'LR'\n",
    "\n",
    "    # with calibration\n",
    "    Sigmoid.fit(X_train, y_train)        \n",
    "    Sigmoid_y_val_probs = Sigmoid.predict_proba(X_val)[:,1]\n",
    "    Sigmoid_y_val_pred = Sigmoid.predict(X_val)\n",
    "    Sigmoid_scores = pd.DataFrame(get_scores(y_val, Sigmoid_y_val_pred))\n",
    "    Sigmoid_scores['model'] = 'Sigmoid'\n",
    "        # with calibration\n",
    "    Isotonic.fit(X_train, y_train)        \n",
    "    Isotonic_y_val_probs = Isotonic.predict_proba(X_val)[:,1]\n",
    "    Isotonic_y_val_pred = Isotonic.predict(X_val)\n",
    "    Isotonic_scores = pd.DataFrame(get_scores(y_val, Isotonic_y_val_pred))\n",
    "    Isotonic_scores['model'] = 'Isotonic'\n"
   ]
  },
  {
   "cell_type": "markdown",
   "metadata": {},
   "source": [
    "### compare brier score after calibration"
   ]
  },
  {
   "cell_type": "code",
   "execution_count": 15,
   "metadata": {},
   "outputs": [
    {
     "data": {
      "text/html": [
       "<div>\n",
       "<style scoped>\n",
       "    .dataframe tbody tr th:only-of-type {\n",
       "        vertical-align: middle;\n",
       "    }\n",
       "\n",
       "    .dataframe tbody tr th {\n",
       "        vertical-align: top;\n",
       "    }\n",
       "\n",
       "    .dataframe thead th {\n",
       "        text-align: right;\n",
       "    }\n",
       "</style>\n",
       "<table border=\"1\" class=\"dataframe\">\n",
       "  <thead>\n",
       "    <tr style=\"text-align: right;\">\n",
       "      <th></th>\n",
       "      <th>metrics</th>\n",
       "      <th>scores</th>\n",
       "      <th>model</th>\n",
       "    </tr>\n",
       "  </thead>\n",
       "  <tbody>\n",
       "    <tr>\n",
       "      <th>6</th>\n",
       "      <td>brier_score</td>\n",
       "      <td>0.360465</td>\n",
       "      <td>LR</td>\n",
       "    </tr>\n",
       "    <tr>\n",
       "      <th>13</th>\n",
       "      <td>brier_score</td>\n",
       "      <td>0.180233</td>\n",
       "      <td>Isotonic</td>\n",
       "    </tr>\n",
       "    <tr>\n",
       "      <th>20</th>\n",
       "      <td>brier_score</td>\n",
       "      <td>0.180233</td>\n",
       "      <td>Sigmoid</td>\n",
       "    </tr>\n",
       "  </tbody>\n",
       "</table>\n",
       "</div>"
      ],
      "text/plain": [
       "        metrics    scores     model\n",
       "6   brier_score  0.360465        LR\n",
       "13  brier_score  0.180233  Isotonic\n",
       "20  brier_score  0.180233   Sigmoid"
      ]
     },
     "execution_count": 15,
     "metadata": {},
     "output_type": "execute_result"
    }
   ],
   "source": [
    "calibrate_results = pd.concat([LR_scores, Isotonic_scores, Sigmoid_scores], ignore_index = True)\n",
    "calibrate_results[calibrate_results.metrics == \"brier_score\"]\n"
   ]
  },
  {
   "cell_type": "markdown",
   "metadata": {},
   "source": [
    "### plot calibration"
   ]
  },
  {
   "cell_type": "code",
   "execution_count": 16,
   "metadata": {},
   "outputs": [
    {
     "data": {
      "image/png": "[encoded data removed]",
      "text/plain": [
       "<Figure size 720x432 with 1 Axes>"
      ]
     },
     "metadata": {},
     "output_type": "display_data"
    }
   ],
   "source": [
    "    \n",
    "#figure_path = \"NCDB_5_features/\"\n",
    "fig = plt.figure(figsize=(10, 6))\n",
    "plt.plot([0, 1], [0, 1], \"k:\", label=\"Perfectly calibrated\")\n",
    "fraction_of_positives, mean_predicted_value = calibration_curve(y_val, LR_y_val_probs, n_bins = 8)\n",
    "plt.plot(mean_predicted_value, fraction_of_positives, \"s-\", label = \"Logistic Regression\")\n",
    "fraction_of_positives, mean_predicted_value = calibration_curve(y_val, Sigmoid_y_val_probs, n_bins = 8)\n",
    "plt.plot(mean_predicted_value, fraction_of_positives, \"s-\", label = \"Logistic Regression + Sigmoid Calibration\")\n",
    "fraction_of_positives, mean_predicted_value = calibration_curve(y_val, Isotonic_y_val_probs, n_bins = 8)\n",
    "plt.plot(mean_predicted_value, fraction_of_positives, \"s-\", label = \"Logistic Regression + Isotonic Calibration\")\n",
    "\n",
    "plt.xlabel(\"Mean predicted value\", size = 15)\n",
    "plt.ylabel(\"Fraction of positives\", size = 15)\n",
    "plt.ylim([-0.05, 1.05])\n",
    "plt.legend(loc=\"lower right\", fontsize = 15)\n",
    "plt.title('Calibration plots  (reliability curve)', size = 20)\n",
    "plt.savefig(os.path.join(figure_path, \"Calibration_validation_plot.png\"))"
   ]
  },
  {
   "cell_type": "markdown",
   "metadata": {},
   "source": [
    "### Results with regular model, default threshold \n",
    "- precision is identical because all patients being classified as no mets."
   ]
  },
  {
   "cell_type": "code",
   "execution_count": 19,
   "metadata": {},
   "outputs": [
    {
     "data": {
      "text/plain": [
       "array([[  0,  62],\n",
       "       [  0, 282]])"
      ]
     },
     "metadata": {},
     "output_type": "display_data"
    },
    {
     "data": {
      "text/html": [
       "<div>\n",
       "<style scoped>\n",
       "    .dataframe tbody tr th:only-of-type {\n",
       "        vertical-align: middle;\n",
       "    }\n",
       "\n",
       "    .dataframe tbody tr th {\n",
       "        vertical-align: top;\n",
       "    }\n",
       "\n",
       "    .dataframe thead th {\n",
       "        text-align: right;\n",
       "    }\n",
       "</style>\n",
       "<table border=\"1\" class=\"dataframe\">\n",
       "  <thead>\n",
       "    <tr style=\"text-align: right;\">\n",
       "      <th></th>\n",
       "      <th>metrics</th>\n",
       "      <th>scores</th>\n",
       "    </tr>\n",
       "  </thead>\n",
       "  <tbody>\n",
       "    <tr>\n",
       "      <th>0</th>\n",
       "      <td>precision</td>\n",
       "      <td>0.819767</td>\n",
       "    </tr>\n",
       "    <tr>\n",
       "      <th>1</th>\n",
       "      <td>recall</td>\n",
       "      <td>1.000000</td>\n",
       "    </tr>\n",
       "    <tr>\n",
       "      <th>2</th>\n",
       "      <td>roc_auc</td>\n",
       "      <td>0.500000</td>\n",
       "    </tr>\n",
       "    <tr>\n",
       "      <th>3</th>\n",
       "      <td>accuracy</td>\n",
       "      <td>0.819767</td>\n",
       "    </tr>\n",
       "    <tr>\n",
       "      <th>4</th>\n",
       "      <td>f1 score</td>\n",
       "      <td>0.900958</td>\n",
       "    </tr>\n",
       "    <tr>\n",
       "      <th>5</th>\n",
       "      <td>pr_auc</td>\n",
       "      <td>0.819767</td>\n",
       "    </tr>\n",
       "    <tr>\n",
       "      <th>6</th>\n",
       "      <td>brier_score</td>\n",
       "      <td>0.180233</td>\n",
       "    </tr>\n",
       "  </tbody>\n",
       "</table>\n",
       "</div>"
      ],
      "text/plain": [
       "       metrics    scores\n",
       "0    precision  0.819767\n",
       "1       recall  1.000000\n",
       "2      roc_auc  0.500000\n",
       "3     accuracy  0.819767\n",
       "4     f1 score  0.900958\n",
       "5       pr_auc  0.819767\n",
       "6  brier_score  0.180233"
      ]
     },
     "metadata": {},
     "output_type": "display_data"
    }
   ],
   "source": [
    "LR_y_val_probs = Isotonic.predict_proba(X_val)[:,1]\n",
    "LR_y_val_pred = Isotonic.predict(X_val)\n",
    "cm = confusion_matrix(y_val, LR_y_val_pred)\n",
    "display(cm)\n",
    "LR_val_scores = pd.DataFrame(get_scores(y_val, LR_y_val_pred))\n",
    "display(LR_val_scores)"
   ]
  },
  {
   "cell_type": "markdown",
   "metadata": {},
   "source": [
    "### Results with calibrated model, default threshold\n",
    "- all patients are predicted for positive class.\n",
    "- didn't change anything about the model performance!"
   ]
  },
  {
   "cell_type": "code",
   "execution_count": 20,
   "metadata": {},
   "outputs": [
    {
     "data": {
      "text/plain": [
       "array([[  0,  62],\n",
       "       [  0, 282]])"
      ]
     },
     "metadata": {},
     "output_type": "display_data"
    },
    {
     "data": {
      "text/html": [
       "<div>\n",
       "<style scoped>\n",
       "    .dataframe tbody tr th:only-of-type {\n",
       "        vertical-align: middle;\n",
       "    }\n",
       "\n",
       "    .dataframe tbody tr th {\n",
       "        vertical-align: top;\n",
       "    }\n",
       "\n",
       "    .dataframe thead th {\n",
       "        text-align: right;\n",
       "    }\n",
       "</style>\n",
       "<table border=\"1\" class=\"dataframe\">\n",
       "  <thead>\n",
       "    <tr style=\"text-align: right;\">\n",
       "      <th></th>\n",
       "      <th>metrics</th>\n",
       "      <th>scores</th>\n",
       "    </tr>\n",
       "  </thead>\n",
       "  <tbody>\n",
       "    <tr>\n",
       "      <th>0</th>\n",
       "      <td>precision</td>\n",
       "      <td>0.819767</td>\n",
       "    </tr>\n",
       "    <tr>\n",
       "      <th>1</th>\n",
       "      <td>recall</td>\n",
       "      <td>1.000000</td>\n",
       "    </tr>\n",
       "    <tr>\n",
       "      <th>2</th>\n",
       "      <td>roc_auc</td>\n",
       "      <td>0.500000</td>\n",
       "    </tr>\n",
       "    <tr>\n",
       "      <th>3</th>\n",
       "      <td>accuracy</td>\n",
       "      <td>0.819767</td>\n",
       "    </tr>\n",
       "    <tr>\n",
       "      <th>4</th>\n",
       "      <td>f1 score</td>\n",
       "      <td>0.900958</td>\n",
       "    </tr>\n",
       "    <tr>\n",
       "      <th>5</th>\n",
       "      <td>pr_auc</td>\n",
       "      <td>0.819767</td>\n",
       "    </tr>\n",
       "    <tr>\n",
       "      <th>6</th>\n",
       "      <td>brier_score</td>\n",
       "      <td>0.180233</td>\n",
       "    </tr>\n",
       "  </tbody>\n",
       "</table>\n",
       "</div>"
      ],
      "text/plain": [
       "       metrics    scores\n",
       "0    precision  0.819767\n",
       "1       recall  1.000000\n",
       "2      roc_auc  0.500000\n",
       "3     accuracy  0.819767\n",
       "4     f1 score  0.900958\n",
       "5       pr_auc  0.819767\n",
       "6  brier_score  0.180233"
      ]
     },
     "metadata": {},
     "output_type": "display_data"
    }
   ],
   "source": [
    "Isotonic_y_val_probs = Isotonic.predict_proba(X_val)[:,1]\n",
    "Isotonic_y_val_pred = Isotonic.predict(X_val)\n",
    "cm = confusion_matrix(y_val, Isotonic_y_val_pred)\n",
    "display(cm)\n",
    "val_scores = pd.DataFrame(get_scores(y_val, Isotonic_y_val_pred))\n",
    "display(val_scores)"
   ]
  },
  {
   "cell_type": "markdown",
   "metadata": {},
   "source": [
    "### Results with calibrated model, adjust threshold"
   ]
  },
  {
   "cell_type": "code",
   "execution_count": 18,
   "metadata": {},
   "outputs": [
    {
     "data": {
      "image/png": "[encoded data removed]",
      "text/plain": [
       "<Figure size 720x432 with 1 Axes>"
      ]
     },
     "metadata": {},
     "output_type": "display_data"
    },
    {
     "data": {
      "image/png": "[encoded data removed]",
      "text/plain": [
       "<Figure size 720x432 with 1 Axes>"
      ]
     },
     "metadata": {},
     "output_type": "display_data"
    }
   ],
   "source": [
    "key_thresh = 0.85\n",
    "\n",
    "custom_plots.plot_pr_curve(y_val, Isotonic_y_val_probs, key_thresh, \n",
    "                           filename = os.path.join(figure_path,\"validation_PR_curve.png\"))\n",
    "custom_plots.plot_roc_curve(y_val, Isotonic_y_val_probs, key_thresh, \n",
    "                           filename = os.path.join(figure_path,\"validation_ROC_curve.png\"))"
   ]
  },
  {
   "cell_type": "code",
   "execution_count": 79,
   "metadata": {},
   "outputs": [
    {
     "data": {
      "text/plain": [
       "array([[ 43,  22],\n",
       "       [108, 189]])"
      ]
     },
     "metadata": {},
     "output_type": "display_data"
    },
    {
     "data": {
      "text/html": [
       "<div>\n",
       "<style scoped>\n",
       "    .dataframe tbody tr th:only-of-type {\n",
       "        vertical-align: middle;\n",
       "    }\n",
       "\n",
       "    .dataframe tbody tr th {\n",
       "        vertical-align: top;\n",
       "    }\n",
       "\n",
       "    .dataframe thead th {\n",
       "        text-align: right;\n",
       "    }\n",
       "</style>\n",
       "<table border=\"1\" class=\"dataframe\">\n",
       "  <thead>\n",
       "    <tr style=\"text-align: right;\">\n",
       "      <th></th>\n",
       "      <th>metrics</th>\n",
       "      <th>scores</th>\n",
       "    </tr>\n",
       "  </thead>\n",
       "  <tbody>\n",
       "    <tr>\n",
       "      <th>0</th>\n",
       "      <td>precision</td>\n",
       "      <td>0.895735</td>\n",
       "    </tr>\n",
       "    <tr>\n",
       "      <th>1</th>\n",
       "      <td>recall</td>\n",
       "      <td>0.636364</td>\n",
       "    </tr>\n",
       "    <tr>\n",
       "      <th>2</th>\n",
       "      <td>roc_auc</td>\n",
       "      <td>0.648951</td>\n",
       "    </tr>\n",
       "    <tr>\n",
       "      <th>3</th>\n",
       "      <td>accuracy</td>\n",
       "      <td>0.640884</td>\n",
       "    </tr>\n",
       "    <tr>\n",
       "      <th>4</th>\n",
       "      <td>f1 score</td>\n",
       "      <td>0.744094</td>\n",
       "    </tr>\n",
       "    <tr>\n",
       "      <th>5</th>\n",
       "      <td>pr_auc</td>\n",
       "      <td>0.868355</td>\n",
       "    </tr>\n",
       "    <tr>\n",
       "      <th>6</th>\n",
       "      <td>brier_score</td>\n",
       "      <td>0.359116</td>\n",
       "    </tr>\n",
       "  </tbody>\n",
       "</table>\n",
       "</div>"
      ],
      "text/plain": [
       "       metrics    scores\n",
       "0    precision  0.895735\n",
       "1       recall  0.636364\n",
       "2      roc_auc  0.648951\n",
       "3     accuracy  0.640884\n",
       "4     f1 score  0.744094\n",
       "5       pr_auc  0.868355\n",
       "6  brier_score  0.359116"
      ]
     },
     "metadata": {},
     "output_type": "display_data"
    }
   ],
   "source": [
    "\n",
    "Isotonic_y_val_pred_adjusted =  Isotonic_y_val_probs > key_thresh\n",
    "cm = confusion_matrix(y_val, Isotonic_y_val_pred_adjusted)\n",
    "display(cm)\n",
    "val_scores_adjusted = pd.DataFrame(get_scores(y_val, Isotonic_y_val_pred_adjusted))\n",
    "display(val_scores_adjusted)"
   ]
  },
  {
   "cell_type": "markdown",
   "metadata": {},
   "source": [
    "### Final model evaluation with logistic reg & isotonic calibration\n",
    "- evaluate on hold out test set"
   ]
  },
  {
   "cell_type": "code",
   "execution_count": 74,
   "metadata": {},
   "outputs": [
    {
     "data": {
      "text/html": [
       "<div>\n",
       "<style scoped>\n",
       "    .dataframe tbody tr th:only-of-type {\n",
       "        vertical-align: middle;\n",
       "    }\n",
       "\n",
       "    .dataframe tbody tr th {\n",
       "        vertical-align: top;\n",
       "    }\n",
       "\n",
       "    .dataframe thead th {\n",
       "        text-align: right;\n",
       "    }\n",
       "</style>\n",
       "<table border=\"1\" class=\"dataframe\">\n",
       "  <thead>\n",
       "    <tr style=\"text-align: right;\">\n",
       "      <th></th>\n",
       "      <th>metrics</th>\n",
       "      <th>scores</th>\n",
       "    </tr>\n",
       "  </thead>\n",
       "  <tbody>\n",
       "    <tr>\n",
       "      <th>0</th>\n",
       "      <td>precision</td>\n",
       "      <td>0.898361</td>\n",
       "    </tr>\n",
       "    <tr>\n",
       "      <th>1</th>\n",
       "      <td>recall</td>\n",
       "      <td>0.618510</td>\n",
       "    </tr>\n",
       "    <tr>\n",
       "      <th>2</th>\n",
       "      <td>roc_auc</td>\n",
       "      <td>0.649461</td>\n",
       "    </tr>\n",
       "    <tr>\n",
       "      <th>3</th>\n",
       "      <td>accuracy</td>\n",
       "      <td>0.629630</td>\n",
       "    </tr>\n",
       "    <tr>\n",
       "      <th>4</th>\n",
       "      <td>f1 score</td>\n",
       "      <td>0.732620</td>\n",
       "    </tr>\n",
       "    <tr>\n",
       "      <th>5</th>\n",
       "      <td>pr_auc</td>\n",
       "      <td>0.868608</td>\n",
       "    </tr>\n",
       "    <tr>\n",
       "      <th>6</th>\n",
       "      <td>brier_score</td>\n",
       "      <td>0.370370</td>\n",
       "    </tr>\n",
       "  </tbody>\n",
       "</table>\n",
       "</div>"
      ],
      "text/plain": [
       "       metrics    scores\n",
       "0    precision  0.898361\n",
       "1       recall  0.618510\n",
       "2      roc_auc  0.649461\n",
       "3     accuracy  0.629630\n",
       "4     f1 score  0.732620\n",
       "5       pr_auc  0.868608\n",
       "6  brier_score  0.370370"
      ]
     },
     "execution_count": 74,
     "metadata": {},
     "output_type": "execute_result"
    }
   ],
   "source": [
    "\n",
    "Isotonic_y_test_probs = Isotonic.predict_proba(X_test)[:,1]\n",
    "Isotonic_y_test_pred = Isotonic.predict(X_test)\n",
    "Isotonic_y_test_pred_adjusted =  Isotonic_y_test_probs > key_thresh\n",
    "Isotonic_scores = pd.DataFrame(get_scores(y_test, Isotonic_y_test_pred_adjusted))\n",
    "\n",
    "Isotonic_scores.to_csv(\"../model_output/TNM_outcome/final_calibrated_logreg_test_scores.csv\")\n",
    "Isotonic_scores\n"
   ]
  },
  {
   "cell_type": "code",
   "execution_count": 75,
   "metadata": {},
   "outputs": [
    {
     "name": "stderr",
     "output_type": "stream",
     "text": [
      "../mcc_metastasis/modeling.py:70: UserWarning: FixedFormatter should only be used together with FixedLocator\n",
      "  ax.set_xticklabels(['']+['Mets', 'No Mets'])\n",
      "../mcc_metastasis/modeling.py:71: UserWarning: FixedFormatter should only be used together with FixedLocator\n",
      "  ax.set_yticklabels(['']+['Mets', 'No Mets'])\n"
     ]
    },
    {
     "data": {
      "image/png": "[encoded data removed]",
      "text/plain": [
       "<Figure size 432x288 with 1 Axes>"
      ]
     },
     "metadata": {},
     "output_type": "display_data"
    },
    {
     "data": {
      "text/plain": [
       "0.012396694214876033"
      ]
     },
     "execution_count": 75,
     "metadata": {},
     "output_type": "execute_result"
    }
   ],
   "source": [
    "cm = confusion_matrix(y_test, Isotonic_y_test_pred_adjusted)\n",
    "\n",
    "modeling.pretty_cm(cm, os.path.join(figure_path, \"Test_confusion_matrix_adjusted.png\"))\n"
   ]
  },
  {
   "cell_type": "markdown",
   "metadata": {},
   "source": [
    "### conclusions\n",
    "- 1/3 of patients with metastasis would be miss-classified ... not good!"
   ]
  },
  {
   "cell_type": "code",
   "execution_count": null,
   "metadata": {},
   "outputs": [],
   "source": []
  },
  {
   "cell_type": "code",
   "execution_count": null,
   "metadata": {},
   "outputs": [],
   "source": []
  }
 ],
 "metadata": {
  "kernelspec": {
   "display_name": "Python 3",
   "language": "python",
   "name": "python3"
  },
  "language_info": {
   "codemirror_mode": {
    "name": "ipython",
    "version": 3
   },
   "file_extension": ".py",
   "mimetype": "text/x-python",
   "name": "python",
   "nbconvert_exporter": "python",
   "pygments_lexer": "ipython3",
   "version": "3.7.9"
  }
 },
 "nbformat": 4,
 "nbformat_minor": 4
}
