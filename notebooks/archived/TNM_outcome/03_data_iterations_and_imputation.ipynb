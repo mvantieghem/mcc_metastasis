{
 "cells": [
  {
   "cell_type": "code",
   "execution_count": 197,
   "metadata": {},
   "outputs": [],
   "source": [
    "import pandas as pd  \n",
    "import numpy as np\n",
    "import math\n",
    "import statsmodels as sm\n",
    "import seaborn as sns\n",
    "sns.set(context='paper', style='whitegrid', rc={'figure.facecolor':'white'}, font_scale=1.2)\n",
    "import matplotlib.pyplot as plt\n",
    "\n",
    "\n",
    "# import custom functions\n",
    "import sys\n",
    "sys.path.append(\"../\")\n",
    "import mcc_metastasis.data_cleaning as dc\n"
   ]
  },
  {
   "cell_type": "markdown",
   "metadata": {},
   "source": [
    "### Filter data for features of interest\n",
    "- 6 features (excluding tumor_depth and immuno suppressed) "
   ]
  },
  {
   "cell_type": "code",
   "execution_count": 198,
   "metadata": {},
   "outputs": [],
   "source": [
    "# OPEN DATA \n",
    "df = pd.read_csv(\"../data/cleaned/NCDB_cleaned_all_cases.csv\") \n",
    "\n",
    "# fix up some features\n",
    "df['AGE'] = df.AGE.astype('float')\n",
    "df['TNM_negative'] = df.TNM_positive.replace({0:1, 1:0})\n",
    "df['tumor_site'] = df.tumor_site.astype(\"category\")\n",
    "\n",
    "# select only features for analysis\n",
    "df = df[['TNM_negative', 'AGE', 'tumor_size', 'tumor_site', 'SEX', \n",
    "              'growth_pattern', 'tumor_lymphocytes', 'lymph_vasc_invasion']]\n",
    "\n",
    "\n",
    "# apply one-hot encoding \n",
    "one_hot_tumor_site = pd.get_dummies(df.tumor_site, prefix = 'tumor_site', drop_first =True)\n",
    "df = df.drop(columns = ['tumor_site'])\n",
    "df = pd.concat([df, one_hot_tumor_site], axis = 1)\n",
    "\n"
   ]
  },
  {
   "cell_type": "markdown",
   "metadata": {},
   "source": [
    "## 1. Data iterations\n",
    "### Dataset option 1: with growth pattern included\n",
    "- already decided to remove immuno_suppressed "
   ]
  },
  {
   "cell_type": "code",
   "execution_count": 199,
   "metadata": {},
   "outputs": [],
   "source": [
    "df1 = df"
   ]
  },
  {
   "cell_type": "markdown",
   "metadata": {},
   "source": [
    "### Filter data for only cases with valid outcome "
   ]
  },
  {
   "cell_type": "code",
   "execution_count": 200,
   "metadata": {},
   "outputs": [
    {
     "name": "stdout",
     "output_type": "stream",
     "text": [
      "Total for MCC: 14948\n",
      "Total N with outcome: 6201\n",
      "Complete cases: 669\n",
      "Missingness of features\n"
     ]
    },
    {
     "data": {
      "text/html": [
       "<div>\n",
       "<style scoped>\n",
       "    .dataframe tbody tr th:only-of-type {\n",
       "        vertical-align: middle;\n",
       "    }\n",
       "\n",
       "    .dataframe tbody tr th {\n",
       "        vertical-align: top;\n",
       "    }\n",
       "\n",
       "    .dataframe thead th {\n",
       "        text-align: right;\n",
       "    }\n",
       "</style>\n",
       "<table border=\"1\" class=\"dataframe\">\n",
       "  <thead>\n",
       "    <tr style=\"text-align: right;\">\n",
       "      <th></th>\n",
       "      <th>index</th>\n",
       "      <th>Missing</th>\n",
       "    </tr>\n",
       "  </thead>\n",
       "  <tbody>\n",
       "    <tr>\n",
       "      <th>0</th>\n",
       "      <td>TNM_negative</td>\n",
       "      <td>0</td>\n",
       "    </tr>\n",
       "    <tr>\n",
       "      <th>1</th>\n",
       "      <td>AGE</td>\n",
       "      <td>0</td>\n",
       "    </tr>\n",
       "    <tr>\n",
       "      <th>2</th>\n",
       "      <td>tumor_size</td>\n",
       "      <td>988</td>\n",
       "    </tr>\n",
       "    <tr>\n",
       "      <th>3</th>\n",
       "      <td>SEX</td>\n",
       "      <td>0</td>\n",
       "    </tr>\n",
       "    <tr>\n",
       "      <th>4</th>\n",
       "      <td>growth_pattern</td>\n",
       "      <td>5156</td>\n",
       "    </tr>\n",
       "    <tr>\n",
       "      <th>5</th>\n",
       "      <td>tumor_lymphocytes</td>\n",
       "      <td>4464</td>\n",
       "    </tr>\n",
       "    <tr>\n",
       "      <th>6</th>\n",
       "      <td>lymph_vasc_invasion</td>\n",
       "      <td>3314</td>\n",
       "    </tr>\n",
       "    <tr>\n",
       "      <th>7</th>\n",
       "      <td>tumor_site_head_neck</td>\n",
       "      <td>0</td>\n",
       "    </tr>\n",
       "    <tr>\n",
       "      <th>8</th>\n",
       "      <td>tumor_site_other</td>\n",
       "      <td>0</td>\n",
       "    </tr>\n",
       "    <tr>\n",
       "      <th>9</th>\n",
       "      <td>tumor_site_trunk</td>\n",
       "      <td>0</td>\n",
       "    </tr>\n",
       "  </tbody>\n",
       "</table>\n",
       "</div>"
      ],
      "text/plain": [
       "                  index  Missing\n",
       "0          TNM_negative        0\n",
       "1                   AGE        0\n",
       "2            tumor_size      988\n",
       "3                   SEX        0\n",
       "4        growth_pattern     5156\n",
       "5     tumor_lymphocytes     4464\n",
       "6   lymph_vasc_invasion     3314\n",
       "7  tumor_site_head_neck        0\n",
       "8      tumor_site_other        0\n",
       "9      tumor_site_trunk        0"
      ]
     },
     "metadata": {},
     "output_type": "display_data"
    }
   ],
   "source": [
    "# only include valid cases for outcome\n",
    "print(\"Total for MCC: %0.f\" % len(df1))\n",
    "df1 = df1[(df1.TNM_negative.notnull())]\n",
    "print(\"Total N with outcome: %0.f\" % len(df1))\n",
    "df1_complete = df1.dropna(axis = 0)\n",
    "print(\"Complete cases: %0.f\" % len(df1_complete))\n",
    "display(dc.get_missingness_table(df1))"
   ]
  },
  {
   "cell_type": "code",
   "execution_count": 201,
   "metadata": {},
   "outputs": [
    {
     "name": "stdout",
     "output_type": "stream",
     "text": [
      "Total N with outcome and LVI: 2887\n",
      "Complete cases: 669\n",
      "Missingness of features\n"
     ]
    },
    {
     "data": {
      "text/html": [
       "<div>\n",
       "<style scoped>\n",
       "    .dataframe tbody tr th:only-of-type {\n",
       "        vertical-align: middle;\n",
       "    }\n",
       "\n",
       "    .dataframe tbody tr th {\n",
       "        vertical-align: top;\n",
       "    }\n",
       "\n",
       "    .dataframe thead th {\n",
       "        text-align: right;\n",
       "    }\n",
       "</style>\n",
       "<table border=\"1\" class=\"dataframe\">\n",
       "  <thead>\n",
       "    <tr style=\"text-align: right;\">\n",
       "      <th></th>\n",
       "      <th>index</th>\n",
       "      <th>Missing</th>\n",
       "    </tr>\n",
       "  </thead>\n",
       "  <tbody>\n",
       "    <tr>\n",
       "      <th>0</th>\n",
       "      <td>TNM_negative</td>\n",
       "      <td>0</td>\n",
       "    </tr>\n",
       "    <tr>\n",
       "      <th>1</th>\n",
       "      <td>AGE</td>\n",
       "      <td>0</td>\n",
       "    </tr>\n",
       "    <tr>\n",
       "      <th>2</th>\n",
       "      <td>tumor_size</td>\n",
       "      <td>263</td>\n",
       "    </tr>\n",
       "    <tr>\n",
       "      <th>3</th>\n",
       "      <td>SEX</td>\n",
       "      <td>0</td>\n",
       "    </tr>\n",
       "    <tr>\n",
       "      <th>4</th>\n",
       "      <td>growth_pattern</td>\n",
       "      <td>1998</td>\n",
       "    </tr>\n",
       "    <tr>\n",
       "      <th>5</th>\n",
       "      <td>tumor_lymphocytes</td>\n",
       "      <td>1555</td>\n",
       "    </tr>\n",
       "    <tr>\n",
       "      <th>6</th>\n",
       "      <td>lymph_vasc_invasion</td>\n",
       "      <td>0</td>\n",
       "    </tr>\n",
       "    <tr>\n",
       "      <th>7</th>\n",
       "      <td>tumor_site_head_neck</td>\n",
       "      <td>0</td>\n",
       "    </tr>\n",
       "    <tr>\n",
       "      <th>8</th>\n",
       "      <td>tumor_site_other</td>\n",
       "      <td>0</td>\n",
       "    </tr>\n",
       "    <tr>\n",
       "      <th>9</th>\n",
       "      <td>tumor_site_trunk</td>\n",
       "      <td>0</td>\n",
       "    </tr>\n",
       "  </tbody>\n",
       "</table>\n",
       "</div>"
      ],
      "text/plain": [
       "                  index  Missing\n",
       "0          TNM_negative        0\n",
       "1                   AGE        0\n",
       "2            tumor_size      263\n",
       "3                   SEX        0\n",
       "4        growth_pattern     1998\n",
       "5     tumor_lymphocytes     1555\n",
       "6   lymph_vasc_invasion        0\n",
       "7  tumor_site_head_neck        0\n",
       "8      tumor_site_other        0\n",
       "9      tumor_site_trunk        0"
      ]
     },
     "metadata": {},
     "output_type": "display_data"
    }
   ],
   "source": [
    "\n",
    "df1 = df1[(df1.TNM_negative.notnull()) & (df1.lymph_vasc_invasion.notnull())]\n",
    "print(\"Total N with outcome and LVI: %0.f\" % len(df1))\n",
    "df1_complete = df1.dropna(axis = 0)\n",
    "print(\"Complete cases: %0.f\" % len(df1_complete))\n",
    "display(dc.get_missingness_table(df1))"
   ]
  },
  {
   "cell_type": "code",
   "execution_count": 202,
   "metadata": {},
   "outputs": [],
   "source": [
    "features1 = df1.drop(columns = ['TNM_negative'])\n",
    "outcome1 = df1['TNM_negative'].reset_index(drop = True)\n"
   ]
  },
  {
   "cell_type": "markdown",
   "metadata": {},
   "source": [
    "### Dataset option 2: without growth "
   ]
  },
  {
   "cell_type": "code",
   "execution_count": 203,
   "metadata": {},
   "outputs": [
    {
     "data": {
      "text/plain": [
       "Index(['TNM_negative', 'AGE', 'tumor_size', 'SEX', 'tumor_lymphocytes',\n",
       "       'lymph_vasc_invasion', 'tumor_site_head_neck', 'tumor_site_other',\n",
       "       'tumor_site_trunk'],\n",
       "      dtype='object')"
      ]
     },
     "execution_count": 203,
     "metadata": {},
     "output_type": "execute_result"
    }
   ],
   "source": [
    "df2 = df.drop(columns = ['growth_pattern'])\n",
    "df2.columns"
   ]
  },
  {
   "cell_type": "markdown",
   "metadata": {},
   "source": [
    "#### Filter for only data with valid outcome "
   ]
  },
  {
   "cell_type": "code",
   "execution_count": 204,
   "metadata": {},
   "outputs": [
    {
     "name": "stdout",
     "output_type": "stream",
     "text": [
      "Total for MCC: 14948\n",
      "Total N with outcome: 6201\n",
      "Complete cases: 1235\n",
      "Missingness of features\n"
     ]
    },
    {
     "data": {
      "text/html": [
       "<div>\n",
       "<style scoped>\n",
       "    .dataframe tbody tr th:only-of-type {\n",
       "        vertical-align: middle;\n",
       "    }\n",
       "\n",
       "    .dataframe tbody tr th {\n",
       "        vertical-align: top;\n",
       "    }\n",
       "\n",
       "    .dataframe thead th {\n",
       "        text-align: right;\n",
       "    }\n",
       "</style>\n",
       "<table border=\"1\" class=\"dataframe\">\n",
       "  <thead>\n",
       "    <tr style=\"text-align: right;\">\n",
       "      <th></th>\n",
       "      <th>index</th>\n",
       "      <th>Missing</th>\n",
       "    </tr>\n",
       "  </thead>\n",
       "  <tbody>\n",
       "    <tr>\n",
       "      <th>0</th>\n",
       "      <td>TNM_negative</td>\n",
       "      <td>0</td>\n",
       "    </tr>\n",
       "    <tr>\n",
       "      <th>1</th>\n",
       "      <td>AGE</td>\n",
       "      <td>0</td>\n",
       "    </tr>\n",
       "    <tr>\n",
       "      <th>2</th>\n",
       "      <td>tumor_size</td>\n",
       "      <td>988</td>\n",
       "    </tr>\n",
       "    <tr>\n",
       "      <th>3</th>\n",
       "      <td>SEX</td>\n",
       "      <td>0</td>\n",
       "    </tr>\n",
       "    <tr>\n",
       "      <th>4</th>\n",
       "      <td>tumor_lymphocytes</td>\n",
       "      <td>4464</td>\n",
       "    </tr>\n",
       "    <tr>\n",
       "      <th>5</th>\n",
       "      <td>lymph_vasc_invasion</td>\n",
       "      <td>3314</td>\n",
       "    </tr>\n",
       "    <tr>\n",
       "      <th>6</th>\n",
       "      <td>tumor_site_head_neck</td>\n",
       "      <td>0</td>\n",
       "    </tr>\n",
       "    <tr>\n",
       "      <th>7</th>\n",
       "      <td>tumor_site_other</td>\n",
       "      <td>0</td>\n",
       "    </tr>\n",
       "    <tr>\n",
       "      <th>8</th>\n",
       "      <td>tumor_site_trunk</td>\n",
       "      <td>0</td>\n",
       "    </tr>\n",
       "  </tbody>\n",
       "</table>\n",
       "</div>"
      ],
      "text/plain": [
       "                  index  Missing\n",
       "0          TNM_negative        0\n",
       "1                   AGE        0\n",
       "2            tumor_size      988\n",
       "3                   SEX        0\n",
       "4     tumor_lymphocytes     4464\n",
       "5   lymph_vasc_invasion     3314\n",
       "6  tumor_site_head_neck        0\n",
       "7      tumor_site_other        0\n",
       "8      tumor_site_trunk        0"
      ]
     },
     "metadata": {},
     "output_type": "display_data"
    }
   ],
   "source": [
    "# only include valid cases for outcome\n",
    "print(\"Total for MCC: %0.f\" % len(df2))\n",
    "df2 = df2[(df2.TNM_negative.notnull())]\n",
    "print(\"Total N with outcome: %0.f\" % len(df2))\n",
    "df2_complete = df2.dropna(axis = 0)\n",
    "print(\"Complete cases: %0.f\" % len(df2_complete))\n",
    "display(dc.get_missingness_table(df2))"
   ]
  },
  {
   "cell_type": "code",
   "execution_count": 205,
   "metadata": {},
   "outputs": [],
   "source": [
    "features2 = df2.drop(columns = ['TNM_negative'])\n",
    "outcome2 = df2['TNM_negative'].reset_index(drop = True)"
   ]
  },
  {
   "cell_type": "markdown",
   "metadata": {},
   "source": [
    "## 2. Imputation for missing data "
   ]
  },
  {
   "cell_type": "markdown",
   "metadata": {},
   "source": [
    "### Method 1:  Iterative Imputer in sklearn\n",
    "- Sklean versionof MICE  method\n",
    "- provides continuous estimates, but binarize at 0.5\n",
    "\n",
    "Our implementation of IterativeImputer was inspired by the R MICE package (Multivariate Imputation by Chained Equations) 1, but differs from it by returning a single imputation instead of multiple imputations. However, IterativeImputer can also be used for multiple imputations by applying it repeatedly to the same dataset with different random seeds when sample_posterior=True. See 2, chapter 4 for more discussion on multiple vs. single imputations."
   ]
  },
  {
   "cell_type": "code",
   "execution_count": 206,
   "metadata": {},
   "outputs": [
    {
     "name": "stdout",
     "output_type": "stream",
     "text": [
      "2887\n",
      "6201\n"
     ]
    }
   ],
   "source": [
    "from sklearn.experimental import enable_iterative_imputer \n",
    "from sklearn.impute import IterativeImputer\n",
    "\n",
    "II_imputer = IterativeImputer(max_iter=10, random_state=0)\n",
    "\n",
    "II_imputed_features1 =  pd.DataFrame(II_imputer.fit_transform(features1), columns = features1.columns)\n",
    "II_imputed_df1 = pd.concat([II_imputed_features1, outcome1], axis = 1)\n",
    "print(len(II_imputed_df1))\n",
    "\n",
    "II_imputed_features2 =  pd.DataFrame(II_imputer.fit_transform(features2), columns = features2.columns)\n",
    "II_imputed_df2 = pd.concat([II_imputed_features2, outcome2],  axis = 1)\n",
    "print(len(II_imputed_df2))"
   ]
  },
  {
   "cell_type": "markdown",
   "metadata": {},
   "source": [
    "### Method 2: KNN imputation\n",
    "- missing values are imputed using mean value from n_neighbors nearest neighbors\n",
    "- two samples are \"close\" if the features that neither is  missing are clse"
   ]
  },
  {
   "cell_type": "code",
   "execution_count": 207,
   "metadata": {},
   "outputs": [
    {
     "name": "stdout",
     "output_type": "stream",
     "text": [
      "2887\n",
      "6201\n"
     ]
    }
   ],
   "source": [
    "from sklearn.impute import KNNImputer\n",
    "\n",
    "KNN_imputer = KNNImputer(n_neighbors = 5)\n",
    "\n",
    "KNN_imputed_features1 =  pd.DataFrame(KNN_imputer.fit_transform(features1), columns = features1.columns)\n",
    "KNN_imputed_df1 = pd.concat([KNN_imputed_features1, outcome1], axis = 1)\n",
    "print(len(KNN_imputed_df1))\n",
    "\n",
    "KNN_imputed_features2 =  pd.DataFrame(KNN_imputer.fit_transform(features2), columns = features2.columns)\n",
    "KNN_imputed_df2 = pd.concat([KNN_imputed_features2, outcome2], axis = 1)\n",
    "print(len(KNN_imputed_df2))"
   ]
  },
  {
   "cell_type": "markdown",
   "metadata": {},
   "source": [
    "### compare imputation methods"
   ]
  },
  {
   "cell_type": "code",
   "execution_count": 208,
   "metadata": {},
   "outputs": [
    {
     "data": {
      "image/png": "[encoded data removed]",
      "text/plain": [
       "<Figure size 720x576 with 1 Axes>"
      ]
     },
     "metadata": {},
     "output_type": "display_data"
    }
   ],
   "source": [
    "\n",
    "plt.figure(figsize = (10,8))\n",
    "plt.hist(II_imputed_df1.tumor_lymphocytes, bins = 20,\n",
    "         facecolor = \"purple\", alpha = 0.3, label = \"II\")\n",
    "plt.hist(KNN_imputed_df1.tumor_lymphocytes, bins = 20,\n",
    "         facecolor = \"red\", alpha = 0.3, label = \"KNN\")\n",
    "#plt.hist(compare_imputed.KNNImputer,facecolor = \"yellow\", alpha = 0.3, label = \"KNN\")\n",
    "plt.title(\"Comparing Imputation for binary variables\", size = 20)\n",
    "plt.legend(loc = \"upper right\")\n",
    "plt.xlabel(\"Tumor lymphocytes\", fontsize = 15)\n",
    "plt.xticks(fontsize = 12)\n",
    "plt.yticks(fontsize = 12)\n",
    "plt.show()"
   ]
  },
  {
   "cell_type": "code",
   "execution_count": 209,
   "metadata": {},
   "outputs": [
    {
     "data": {
      "image/png": "[encoded data removed]",
      "text/plain": [
       "<Figure size 720x576 with 1 Axes>"
      ]
     },
     "metadata": {},
     "output_type": "display_data"
    }
   ],
   "source": [
    "\n",
    "plt.figure(figsize = (10,8))\n",
    "plt.hist(df1.growth_pattern, bins = 20, \n",
    "        facecolor = \"blue\", alpha =0.5, label = \"raw\")\n",
    "plt.hist(II_imputed_df1.growth_pattern, bins = 20,\n",
    "         facecolor = \"purple\", alpha = 0.3, label = \"II\")\n",
    "plt.hist(KNN_imputed_df1.growth_pattern, bins = 20,\n",
    "         facecolor = \"red\", alpha = 0.3, label = \"KNN\")\n",
    "plt.title(\"Comparing Imputation for binary variables\", size = 20)\n",
    "plt.legend(loc = \"upper right\")\n",
    "plt.xlabel(\"Growth pattern\", fontsize = 15)\n",
    "plt.xticks(fontsize = 12)\n",
    "plt.yticks(fontsize = 12)\n",
    "plt.show()"
   ]
  },
  {
   "cell_type": "code",
   "execution_count": 210,
   "metadata": {},
   "outputs": [
    {
     "data": {
      "image/png": "[encoded data removed]",
      "text/plain": [
       "<Figure size 720x576 with 1 Axes>"
      ]
     },
     "metadata": {},
     "output_type": "display_data"
    }
   ],
   "source": [
    "plt.figure(figsize = (10,8))\n",
    "plt.hist(df1.tumor_size, bins = 200, \n",
    "        facecolor = \"blue\", alpha = 0.5, label = \"raw\")\n",
    "plt.hist(II_imputed_df1.tumor_size, bins = 200,\n",
    "         facecolor = \"purple\", alpha = 0.5, label = \"II\")\n",
    "plt.hist(KNN_imputed_df1.tumor_size, bins = 200,\n",
    "         facecolor = \"red\", alpha = 0.5, label = \"KNN\")\n",
    "plt.title(\"Comparing Imputation for continous variablles\", size = 20)\n",
    "plt.legend(loc = \"upper right\")\n",
    "plt.xlabel(\"Tumor size \", fontsize = 15)\n",
    "plt.xticks(fontsize = 12)\n",
    "plt.yticks(fontsize = 12)\n",
    "plt.xlim(0, 20)\n",
    "plt.show()\n",
    "\n"
   ]
  },
  {
   "cell_type": "code",
   "execution_count": 113,
   "metadata": {},
   "outputs": [
    {
     "ename": "TypeError",
     "evalue": "_bivariate_kdeplot() got multiple values for argument 'x'",
     "output_type": "error",
     "traceback": [
      "\u001b[0;31m---------------------------------------------------------------------------\u001b[0m",
      "\u001b[0;31mTypeError\u001b[0m                                 Traceback (most recent call last)",
      "\u001b[0;32m<ipython-input-113-60948d582fba>\u001b[0m in \u001b[0;36m<module>\u001b[0;34m\u001b[0m\n\u001b[0;32m----> 1\u001b[0;31m \u001b[0msns\u001b[0m\u001b[0;34m.\u001b[0m\u001b[0mkdeplot\u001b[0m\u001b[0;34m(\u001b[0m\u001b[0mdata\u001b[0m \u001b[0;34m=\u001b[0m \u001b[0mdf1\u001b[0m\u001b[0;34m,\u001b[0m \u001b[0mx\u001b[0m \u001b[0;34m=\u001b[0m \u001b[0;34m\"tumor_size\"\u001b[0m\u001b[0;34m)\u001b[0m\u001b[0;34m\u001b[0m\u001b[0;34m\u001b[0m\u001b[0m\n\u001b[0m",
      "\u001b[0;32m~/.conda/envs/insight/lib/python3.7/site-packages/seaborn/distributions.py\u001b[0m in \u001b[0;36mkdeplot\u001b[0;34m(data, data2, shade, vertical, kernel, bw, gridsize, cut, clip, legend, cumulative, shade_lowest, cbar, cbar_ax, cbar_kws, ax, **kwargs)\u001b[0m\n\u001b[1;32m    696\u001b[0m         ax = _bivariate_kdeplot(x, y, shade, shade_lowest,\n\u001b[1;32m    697\u001b[0m                                 \u001b[0mkernel\u001b[0m\u001b[0;34m,\u001b[0m \u001b[0mbw\u001b[0m\u001b[0;34m,\u001b[0m \u001b[0mgridsize\u001b[0m\u001b[0;34m,\u001b[0m \u001b[0mcut\u001b[0m\u001b[0;34m,\u001b[0m \u001b[0mclip\u001b[0m\u001b[0;34m,\u001b[0m \u001b[0mlegend\u001b[0m\u001b[0;34m,\u001b[0m\u001b[0;34m\u001b[0m\u001b[0;34m\u001b[0m\u001b[0m\n\u001b[0;32m--> 698\u001b[0;31m                                 cbar, cbar_ax, cbar_kws, ax, **kwargs)\n\u001b[0m\u001b[1;32m    699\u001b[0m     \u001b[0;32melse\u001b[0m\u001b[0;34m:\u001b[0m\u001b[0;34m\u001b[0m\u001b[0;34m\u001b[0m\u001b[0m\n\u001b[1;32m    700\u001b[0m         ax = _univariate_kdeplot(data, shade, vertical, kernel, bw,\n",
      "\u001b[0;31mTypeError\u001b[0m: _bivariate_kdeplot() got multiple values for argument 'x'"
     ]
    },
    {
     "data": {
      "image/png": "[encoded data removed]",
      "text/plain": [
       "<Figure size 432x288 with 1 Axes>"
      ]
     },
     "metadata": {},
     "output_type": "display_data"
    }
   ],
   "source": [
    "\n",
    "#sns.kdeplot(data = df1, x = \"tumor_size\")\n"
   ]
  },
  {
   "cell_type": "markdown",
   "metadata": {},
   "source": [
    "### Binarize values in imputed datasets \n",
    "- using iterative imputation for predictions. "
   ]
  },
  {
   "cell_type": "code",
   "execution_count": 211,
   "metadata": {},
   "outputs": [
    {
     "data": {
      "text/plain": [
       "0    2310\n",
       "1     577\n",
       "Name: tumor_lymphocytes, dtype: int64"
      ]
     },
     "execution_count": 211,
     "metadata": {},
     "output_type": "execute_result"
    }
   ],
   "source": [
    "II_imputed_df1['tumor_lymphocytes'] = II_imputed_df1.tumor_lymphocytes.\\\n",
    "apply(lambda x : 1 if x > 0.5 else 0)\n",
    "II_imputed_df1.tumor_lymphocytes.value_counts()"
   ]
  },
  {
   "cell_type": "code",
   "execution_count": 212,
   "metadata": {},
   "outputs": [
    {
     "data": {
      "text/plain": [
       "0    2557\n",
       "1     330\n",
       "Name: growth_pattern, dtype: int64"
      ]
     },
     "execution_count": 212,
     "metadata": {},
     "output_type": "execute_result"
    }
   ],
   "source": [
    "II_imputed_df1['growth_pattern'] = II_imputed_df1.growth_pattern.\\\n",
    "apply(lambda x : 1 if x > 0.5 else 0)\n",
    "II_imputed_df1.growth_pattern.value_counts()"
   ]
  },
  {
   "cell_type": "code",
   "execution_count": 213,
   "metadata": {},
   "outputs": [
    {
     "data": {
      "text/plain": [
       "0    5475\n",
       "1     726\n",
       "Name: tumor_lymphocytes, dtype: int64"
      ]
     },
     "execution_count": 213,
     "metadata": {},
     "output_type": "execute_result"
    }
   ],
   "source": [
    "II_imputed_df2['tumor_lymphocytes'] = II_imputed_df2.tumor_lymphocytes.\\\n",
    "apply(lambda x : 1 if x > 0.5 else 0)\n",
    "II_imputed_df2.tumor_lymphocytes.value_counts()"
   ]
  },
  {
   "cell_type": "code",
   "execution_count": 214,
   "metadata": {},
   "outputs": [
    {
     "data": {
      "text/plain": [
       "0    5181\n",
       "1    1020\n",
       "Name: lymph_vasc_invasion, dtype: int64"
      ]
     },
     "execution_count": 214,
     "metadata": {},
     "output_type": "execute_result"
    }
   ],
   "source": [
    "II_imputed_df2['lymph_vasc_invasion'] = II_imputed_df2.lymph_vasc_invasion.\\\n",
    "apply(lambda x : 1 if x > 0.5 else 0)\n",
    "II_imputed_df2.lymph_vasc_invasion.value_counts()"
   ]
  },
  {
   "cell_type": "code",
   "execution_count": 215,
   "metadata": {},
   "outputs": [],
   "source": [
    "df1_complete.to_csv(\"../data/processed/NCDB_with_growth_complete.csv\")\n",
    "df2_complete.to_csv(\"../data/processed/NCDB_without_growth_complete.csv\")\n",
    "II_imputed_df1.to_csv(\"../data/processed/NCDB_with_growth_IterativeImputed.csv\")\n",
    "II_imputed_df2.to_csv(\"../data/processed/NCDB_without_growth_IterativeImputed.csv\")\n"
   ]
  },
  {
   "cell_type": "code",
   "execution_count": null,
   "metadata": {},
   "outputs": [],
   "source": []
  },
  {
   "cell_type": "code",
   "execution_count": null,
   "metadata": {},
   "outputs": [],
   "source": []
  }
 ],
 "metadata": {
  "kernelspec": {
   "display_name": "Python 3",
   "language": "python",
   "name": "python3"
  },
  "language_info": {
   "codemirror_mode": {
    "name": "ipython",
    "version": 3
   },
   "file_extension": ".py",
   "mimetype": "text/x-python",
   "name": "python",
   "nbconvert_exporter": "python",
   "pygments_lexer": "ipython3",
   "version": "3.7.9"
  }
 },
 "nbformat": 4,
 "nbformat_minor": 4
}
