{
 "cells": [
  {
   "cell_type": "code",
   "execution_count": 27,
   "metadata": {},
   "outputs": [],
   "source": [
    "import sklearn\n",
    "import pandas as pd\n",
    "import numpy as np\n",
    "import math\n",
    "import warnings\n",
    "# plotting\n",
    "import seaborn as sns\n",
    "from matplotlib import pyplot \n",
    "import matplotlib.pyplot as plt\n",
    "sns.set(context='paper', style='whitegrid', rc={'figure.facecolor':'white'}, font_scale=1.2)\n",
    "\n",
    "# preproc\n",
    "from scipy.stats import zscore\n",
    "\n",
    "from sklearn.experimental import enable_iterative_imputer \n",
    "from sklearn.impute import IterativeImputer\n",
    "from sklearn.impute import KNNImputer\n",
    "\n",
    "from sklearn.preprocessing import StandardScaler, OneHotEncoder\n",
    "from sklearn.preprocessing import PolynomialFeatures\n",
    "from sklearn.pipeline import make_pipeline, Pipeline\n",
    "from sklearn.compose import ColumnTransformer, make_column_transformer\n",
    "\n",
    "# modeling\n",
    "from sklearn.linear_model import LogisticRegression\n",
    "from sklearn.linear_model import LogisticRegressionCV\n",
    "from sklearn.svm import SVC\n",
    "from sklearn.ensemble import RandomForestClassifier\n",
    "from sklearn.tree import DecisionTreeClassifier\n",
    "\n",
    "# grid search CV for model tuning\n",
    "from sklearn.model_selection import train_test_split, GridSearchCV, RepeatedStratifiedKFold\n",
    "\n",
    "# metrics for classification\n",
    "from sklearn.metrics import roc_auc_score, roc_curve\n",
    "from sklearn.metrics import precision_recall_curve\n",
    "from sklearn.metrics import recall_score, precision_score, average_precision_score\n",
    "from sklearn.metrics import accuracy_score, f1_score, brier_score_loss\n",
    "from sklearn.metrics import classification_report, confusion_matrix \n",
    "from sklearn.metrics import make_scorer\n",
    "\n",
    "# post-processing \n",
    "from sklearn.calibration import calibration_curve\n",
    "from sklearn.calibration import CalibratedClassifierCV, _CalibratedClassifier\n",
    "\n",
    "\n",
    "# statistical reporting\n",
    "import statsmodels.api as sm\n",
    "\n",
    "# import custom functions from my package\n",
    "import sys\n",
    "import os\n",
    "sys.path.append(\"../\")\n",
    "from mcc_metastasis import modeling \n",
    "from mcc_metastasis import custom_plots\n",
    "from mcc_metastasis import data_cleaning\n",
    "\n",
    "RANDOM = 0\n",
    "figure_path = \"../figures/TNM_outcome/NCDB_5_features/\""
   ]
  },
  {
   "cell_type": "markdown",
   "metadata": {},
   "source": [
    "## 1. Prep data\n",
    "\n",
    "- load data "
   ]
  },
  {
   "cell_type": "code",
   "execution_count": 7,
   "metadata": {},
   "outputs": [
    {
     "data": {
      "text/plain": [
       "1.0    5043\n",
       "0.0     713\n",
       "Name: TNM_negative, dtype: int64"
      ]
     },
     "execution_count": 7,
     "metadata": {},
     "output_type": "execute_result"
    }
   ],
   "source": [
    "# OPEN DATA \n",
    "df = pd.read_csv(\"../data/cleaned/NCDB_cleaned_all_cases.csv\")\n",
    "## select relevant variables: removed sex and tumor site\n",
    "df = df [[ 'tumor_lymphocytes', 'lymph_vasc_invasion', 'TNM_positive']]\n",
    "\n",
    "# clean up \n",
    "df['TNM_negative'] = df.TNM_positive.replace({0:1, 1:0})\n",
    "df = df.drop(columns = 'TNM_positive')\n",
    "df.TNM_negative.value_counts()\n"
   ]
  },
  {
   "cell_type": "markdown",
   "metadata": {},
   "source": [
    "### data version 1: drop all cases with missing data"
   ]
  },
  {
   "cell_type": "code",
   "execution_count": 8,
   "metadata": {},
   "outputs": [
    {
     "data": {
      "text/plain": [
       "(1250, 3)"
      ]
     },
     "execution_count": 8,
     "metadata": {},
     "output_type": "execute_result"
    }
   ],
   "source": [
    "df_complete = df.dropna(axis = 0)\n",
    "df_complete.shape"
   ]
  },
  {
   "cell_type": "markdown",
   "metadata": {},
   "source": [
    "### data version 2: retain samples using imputation\n"
   ]
  },
  {
   "cell_type": "code",
   "execution_count": 9,
   "metadata": {},
   "outputs": [
    {
     "name": "stdout",
     "output_type": "stream",
     "text": [
      "Missingness of features\n"
     ]
    },
    {
     "data": {
      "text/html": [
       "<div>\n",
       "<style scoped>\n",
       "    .dataframe tbody tr th:only-of-type {\n",
       "        vertical-align: middle;\n",
       "    }\n",
       "\n",
       "    .dataframe tbody tr th {\n",
       "        vertical-align: top;\n",
       "    }\n",
       "\n",
       "    .dataframe thead th {\n",
       "        text-align: right;\n",
       "    }\n",
       "</style>\n",
       "<table border=\"1\" class=\"dataframe\">\n",
       "  <thead>\n",
       "    <tr style=\"text-align: right;\">\n",
       "      <th></th>\n",
       "      <th>index</th>\n",
       "      <th>Missing</th>\n",
       "    </tr>\n",
       "  </thead>\n",
       "  <tbody>\n",
       "    <tr>\n",
       "      <th>0</th>\n",
       "      <td>tumor_lymphocytes</td>\n",
       "      <td>12260</td>\n",
       "    </tr>\n",
       "    <tr>\n",
       "      <th>1</th>\n",
       "      <td>lymph_vasc_invasion</td>\n",
       "      <td>10026</td>\n",
       "    </tr>\n",
       "    <tr>\n",
       "      <th>2</th>\n",
       "      <td>TNM_negative</td>\n",
       "      <td>9192</td>\n",
       "    </tr>\n",
       "  </tbody>\n",
       "</table>\n",
       "</div>"
      ],
      "text/plain": [
       "                 index  Missing\n",
       "0    tumor_lymphocytes    12260\n",
       "1  lymph_vasc_invasion    10026\n",
       "2         TNM_negative     9192"
      ]
     },
     "execution_count": 9,
     "metadata": {},
     "output_type": "execute_result"
    }
   ],
   "source": [
    "data_cleaning.get_missingness_table(df)"
   ]
  },
  {
   "cell_type": "code",
   "execution_count": 11,
   "metadata": {},
   "outputs": [
    {
     "name": "stdout",
     "output_type": "stream",
     "text": [
      "Missingness of features\n"
     ]
    },
    {
     "data": {
      "text/html": [
       "<div>\n",
       "<style scoped>\n",
       "    .dataframe tbody tr th:only-of-type {\n",
       "        vertical-align: middle;\n",
       "    }\n",
       "\n",
       "    .dataframe tbody tr th {\n",
       "        vertical-align: top;\n",
       "    }\n",
       "\n",
       "    .dataframe thead th {\n",
       "        text-align: right;\n",
       "    }\n",
       "</style>\n",
       "<table border=\"1\" class=\"dataframe\">\n",
       "  <thead>\n",
       "    <tr style=\"text-align: right;\">\n",
       "      <th></th>\n",
       "      <th>index</th>\n",
       "      <th>Missing</th>\n",
       "    </tr>\n",
       "  </thead>\n",
       "  <tbody>\n",
       "    <tr>\n",
       "      <th>0</th>\n",
       "      <td>tumor_lymphocytes</td>\n",
       "      <td>0</td>\n",
       "    </tr>\n",
       "    <tr>\n",
       "      <th>1</th>\n",
       "      <td>lymph_vasc_invasion</td>\n",
       "      <td>385</td>\n",
       "    </tr>\n",
       "    <tr>\n",
       "      <th>2</th>\n",
       "      <td>TNM_negative</td>\n",
       "      <td>0</td>\n",
       "    </tr>\n",
       "  </tbody>\n",
       "</table>\n",
       "</div>"
      ],
      "text/plain": [
       "                 index  Missing\n",
       "0    tumor_lymphocytes        0\n",
       "1  lymph_vasc_invasion      385\n",
       "2         TNM_negative        0"
      ]
     },
     "execution_count": 11,
     "metadata": {},
     "output_type": "execute_result"
    }
   ],
   "source": [
    "# what did i remove? sex, tumor site, \n",
    "df2 = df[(df.TNM_negative.isnull() == False) &\n",
    "       (df.tumor_lymphocytes.isnull() == False)]\n",
    "\n",
    "# how many would we need to impute?\n",
    "data_cleaning.get_missingness_table(df2)"
   ]
  },
  {
   "cell_type": "markdown",
   "metadata": {},
   "source": [
    "### Impute missing data \n",
    "- imputing lymph vasc invasion, tumor_size\n",
    "- don't want to include outcome in imputation process..."
   ]
  },
  {
   "cell_type": "code",
   "execution_count": 12,
   "metadata": {},
   "outputs": [
    {
     "data": {
      "text/plain": [
       "(1635, 3)"
      ]
     },
     "execution_count": 12,
     "metadata": {},
     "output_type": "execute_result"
    }
   ],
   "source": [
    "outcome = df2['TNM_negative'].reset_index(drop = True)\n",
    "features = df2.drop(columns =[ 'TNM_negative'])\n",
    "imputer = KNNImputer()\n",
    "imputed_features = pd.DataFrame(imputer.fit_transform(features), columns = features.columns)\n",
    "imputed_df = pd.concat([imputed_features, outcome], axis = 1)\n",
    "imputed_df.shape"
   ]
  },
  {
   "cell_type": "code",
   "execution_count": 14,
   "metadata": {},
   "outputs": [
    {
     "data": {
      "text/plain": [
       "0.0    1216\n",
       "1.0     357\n",
       "0.2      62\n",
       "Name: lymph_vasc_invasion, dtype: int64"
      ]
     },
     "execution_count": 14,
     "metadata": {},
     "output_type": "execute_result"
    }
   ],
   "source": [
    "# checkL has non-binary values\n",
    "imputed_features.lymph_vasc_invasion.value_counts()"
   ]
  },
  {
   "cell_type": "markdown",
   "metadata": {},
   "source": [
    "### Define cross validation\n",
    "- split data into train-val and hold-out test sets \n",
    "- stratified CV folds, 3 folds repeated 5x with random sampling"
   ]
  },
  {
   "cell_type": "code",
   "execution_count": 15,
   "metadata": {},
   "outputs": [],
   "source": [
    " # make cross val folds - \n",
    "CV_folds =  RepeatedStratifiedKFold(n_splits = 3, \n",
    "                                    n_repeats =  5,  \n",
    "                                    random_state = 0)\n",
    " "
   ]
  },
  {
   "cell_type": "markdown",
   "metadata": {},
   "source": [
    "### Define Models"
   ]
  },
  {
   "cell_type": "code",
   "execution_count": 16,
   "metadata": {},
   "outputs": [],
   "source": [
    "LogReg= LogisticRegression(class_weight = 'balanced', \n",
    "                              max_iter = 1000,\n",
    "                              penalty = 'l1', \n",
    "                              solver = 'liblinear', \n",
    "                             random_state = RANDOM)\n",
    "SVM = SVC (kernel = \"rbf\",\n",
    "          class_weight = 'balanced',\n",
    "          probability = True,\n",
    "          random_state = RANDOM)\n",
    "\n",
    "DT = DecisionTreeClassifier(class_weight = \"balanced\",\n",
    "                           random_state = RANDOM)\n",
    "RF = RandomForestClassifier(class_weight = 'balanced',\n",
    "                           random_state = RANDOM)\n",
    "\n",
    "#import lightgbm as lgb\n",
    "#LGB = lgb(objective = \"binary\", early_stopping_rounds = 5)\n",
    "#from xgboost import XGBClassifier \n",
    "# n esttimattors = number of training iterations.\n",
    "#xgb = XGBClassifier(objective='binary:logistic', n_estimators = 70, seed = 101)"
   ]
  },
  {
   "cell_type": "markdown",
   "metadata": {},
   "source": [
    "### Tune the model \n",
    "- grid search with different levels of regularization (parameter C, inverse of alpha in R)\n",
    "- smaller values of C = larger values of alpha = more regularization\n",
    "- applied to cross-validation folds \n",
    "- get several metrics out! \n"
   ]
  },
  {
   "cell_type": "code",
   "execution_count": 19,
   "metadata": {},
   "outputs": [],
   "source": [
    "# larger C = less regularization\n",
    "# default = 1.0 \n",
    "param_grid_C = {'model__C': [0.001, 0.01, 0.1, 1, 10, 100] }\n",
    "param_grid_tree = {# 'max_depth': [25], # max depth of the tree\n",
    "                 'model__min_samples_leaf' : [ 10,  50, 100], # minimum samples contained at each end node\n",
    "                 'model__min_samples_split': [10,  50, 100] # how small is  a node allowed to be before it's split\n",
    "                  }\n",
    "param_grid_RF = { #'max_depth': [25], # max depth of the tree\n",
    "                 'model__min_samples_leaf' : [10, 50, 100], # minimum samples contained at each end node\n",
    "                 'model__min_samples_split': [10, 50, 100], # how small is  a node allowed to be before it's split\n",
    "                  'model__n_estimators': [100, 500] # number of trees - hw many resampled iterations.\n",
    "               }\n",
    "param_grid_boost = {\n",
    "                    'num_leaves': [10, 20, 30]\n",
    "}\n",
    "\n",
    "score_list = {'acc': 'accuracy',\n",
    "              'precision' : 'precision',\n",
    "              'recall': 'recall', \n",
    "              'f1': 'f1',\n",
    "              'roc_auc': 'roc_auc', \n",
    "             'brier_score': 'brier_score_loss'}"
   ]
  },
  {
   "cell_type": "code",
   "execution_count": 21,
   "metadata": {},
   "outputs": [
    {
     "name": "stdout",
     "output_type": "stream",
     "text": [
      "complete\n",
      "LogReg\n",
      "complete\n",
      "SVM\n",
      "complete\n",
      "Decision Tree\n",
      "complete\n",
      "Random Forest\n",
      "imputed\n",
      "LogReg\n",
      "imputed\n",
      "SVM\n",
      "imputed\n",
      "Decision Tree\n",
      "imputed\n",
      "Random Forest\n"
     ]
    }
   ],
   "source": [
    "# define options for looop \n",
    "model_choices = [LogReg, SVM, DT, RF]\n",
    "model_names =  ['LogReg', 'SVM', 'Decision Tree', 'Random Forest',\n",
    "                    'LogReg', 'SVM', 'Decision Tree', 'Random Forest']\n",
    "\n",
    "param_grid_list = [param_grid_C, param_grid_C, param_grid_tree, param_grid_RF] \n",
    "\n",
    "datasets = [df_complete, imputed_df]\n",
    "dataset_names = [\"complete\", \"imputed\"]\n",
    "\n",
    "\n",
    "grid_results = pd.DataFrame()\n",
    "i = 0\n",
    "for data in datasets:\n",
    "\n",
    "    features = data.drop(columns = ['TNM_negative'])\n",
    "    outcome = data['TNM_negative'].reset_index(drop = True)\n",
    "    # split into train and test set \n",
    "    X_trainval, X_test, y_trainval, y_test = train_test_split(features, \n",
    "                                                              outcome,\n",
    "                                                              stratify =outcome,\n",
    "                                                              test_size = 0.3)\n",
    "    # further split so only doing CV on the training, validattion for ccalibration\n",
    "    X_train, X_val, y_train, y_val = train_test_split(X_trainval,\n",
    "                                                     y_trainval,\n",
    "                                                     stratify = y_trainval, \n",
    "                                                     test_size = 0.3)\n",
    "    \n",
    "    j  = 0 \n",
    "    for model in model_choices:\n",
    "        # NO PREPROCESSING REQUIRED.\n",
    "        pipe = Pipeline(steps = [ ('model', model)])\n",
    "                                                              \n",
    "        grid = GridSearchCV(pipe,\n",
    "                    param_grid = param_grid_list[j],\n",
    "                    return_train_score = True,\n",
    "                    cv = CV_folds, \n",
    "                    scoring = score_list,\n",
    "                    refit = \"precision\",\n",
    "                    n_jobs =  -1)                                                      \n",
    "        grid.fit(X_train, y_train)        \n",
    "        results = pd.DataFrame(grid.cv_results_)\n",
    "        results['model'] = model_names[j]\n",
    "        results['dataset'] = dataset_names[i]\n",
    "        print(dataset_names[i])\n",
    "        print(model_names[j])\n",
    "        grid_results = pd.concat([grid_results, results], ignore_index = True)\n",
    "         \n",
    "        j = j+1\n",
    "    i = i+1\n"
   ]
  },
  {
   "cell_type": "code",
   "execution_count": 24,
   "metadata": {},
   "outputs": [],
   "source": [
    "# get log  of C for easier visualization\n",
    "grid_results['param_model__C']= grid_results.param_model__C.astype('float')\n",
    "grid_results['log_C'] = grid_results.param_model__C.map(lambda x: math.log10(x))\n",
    "\n",
    "# clean up dataframe so only have mean scores \n",
    "grid_results = grid_results[['model', 'dataset', 'param_model__C', 'log_C', 'param_model__n_estimators',\n",
    "                             'param_model__min_samples_leaf', 'param_model__min_samples_split',\n",
    "                             'mean_train_f1', 'mean_test_f1', \n",
    "                             'mean_train_precision', 'mean_test_precision',\n",
    "                             'mean_train_recall', 'mean_test_recall', \n",
    "                             'mean_train_acc', 'mean_test_acc', \n",
    "                             'mean_train_roc_auc', 'mean_test_roc_auc', \n",
    "                             'mean_train_brier_score', 'mean_test_brier_score']]\n",
    "grid_results.to_csv(\"../model_output/TNM_outcome/grid_results_NCDB_5_selected_features.csv\")"
   ]
  },
  {
   "cell_type": "code",
   "execution_count": 25,
   "metadata": {},
   "outputs": [
    {
     "data": {
      "text/plain": [
       "Index(['model', 'dataset', 'param_model__C', 'log_C',\n",
       "       'param_model__n_estimators', 'param_model__min_samples_leaf',\n",
       "       'param_model__min_samples_split', 'metric', 'score', 'TrainVal'],\n",
       "      dtype='object')"
      ]
     },
     "execution_count": 25,
     "metadata": {},
     "output_type": "execute_result"
    }
   ],
   "source": [
    "# reshape data from wide to long\n",
    "grid_results_long = pd.melt(grid_results, \n",
    "                            id_vars = ['model', 'dataset', 'param_model__C', 'log_C','param_model__n_estimators',\n",
    "                                 'param_model__min_samples_leaf', 'param_model__min_samples_split'], \n",
    "                            value_vars = ['mean_train_f1', 'mean_test_f1', \n",
    "                                          'mean_train_precision', 'mean_test_precision',\n",
    "                                          'mean_train_recall', 'mean_test_recall',\n",
    "                                          'mean_train_acc','mean_test_acc', \n",
    "                                          'mean_train_roc_auc', 'mean_test_roc_auc'],\n",
    "                                          \n",
    "                           var_name = 'metric', \n",
    "                           value_name = 'score')\n",
    "\n",
    "# add indicator for train vs. tteam\n",
    "#apply(lambda x: 0 if x == 1 else 1)\n",
    "grid_results_long['TrainVal'] = grid_results_long.metric.str.contains(\"train\").\\\n",
    "apply(lambda x: \"Train\" if x == True else \"Validation\")\n",
    "# get rid of prefix \n",
    "grid_results_long[\"metric\"] = grid_results_long.metric.str.replace('mean_test_', \"\").str.replace('mean_train_', \"\")\n",
    "grid_results_long.columns"
   ]
  },
  {
   "cell_type": "markdown",
   "metadata": {},
   "source": [
    "### Visualize learning curves\n",
    "- as a function of train vs validation sets \n",
    "- can see whether model is over-fit or underfit "
   ]
  },
  {
   "cell_type": "code",
   "execution_count": 39,
   "metadata": {},
   "outputs": [
    {
     "data": {
      "text/plain": [
       "<Figure size 576x720 with 0 Axes>"
      ]
     },
     "metadata": {},
     "output_type": "display_data"
    },
    {
     "data": {
      "image/png": "[encoded data removed]",
      "text/plain": [
       "<Figure size 803.766x720 with 4 Axes>"
      ]
     },
     "metadata": {},
     "output_type": "display_data"
    }
   ],
   "source": [
    "# figure of model comparisons on training  \n",
    "plt.figure(figsize = (8, 10))\n",
    "g = sns.relplot(data = grid_results_long[(grid_results_long.metric == \"precision\") & \n",
    "                                        ((grid_results_long.model == \"Decision Tree\") |\n",
    "                                        (grid_results_long.model == \"Random Forest\"))], \n",
    "                x = \"param_model__min_samples_split\", y = 'score', \n",
    "                color = \"black\", hue = \"TrainVal\",  \n",
    "                kind = \"line\",  col = \"model\", row = \"dataset\")\n",
    "g.set_xlabels(\"Min Samples Leaf\", size = 18)\n",
    "g.set_ylabels(\"Precision (mean CV)\", size = 18)\n",
    "plt.setp(g._legend.get_title(), fontsize = 18)\n",
    "plt.setp(g._legend.get_texts(), fontsize = 18)\n",
    "g.set_titles(size = 16)\n",
    "g.set(ylim = (0.6, 1.0))\n",
    "\n",
    "plt.savefig(os.path.join(figure_path, \"Grid_CV_Tree_models_learning_curves_precision.png\"))"
   ]
  },
  {
   "cell_type": "markdown",
   "metadata": {},
   "source": [
    "### all of the models are hitting the same ceiling with precision scores! "
   ]
  },
  {
   "cell_type": "code",
   "execution_count": 40,
   "metadata": {},
   "outputs": [
    {
     "data": {
      "text/plain": [
       "<Figure size 576x720 with 0 Axes>"
      ]
     },
     "metadata": {},
     "output_type": "display_data"
    },
    {
     "data": {
      "image/png": "[encoded data removed]",
      "text/plain": [
       "<Figure size 795.141x360 with 2 Axes>"
      ]
     },
     "metadata": {},
     "output_type": "display_data"
    }
   ],
   "source": [
    "# figure of model comparisons on training  \n",
    "plt.figure(figsize = (8, 10))\n",
    "g = sns.relplot(data = grid_results_long[(grid_results_long.metric == \"precision\") & \n",
    "                                        ((grid_results_long.model != \"Decision Tree\") &\n",
    "                                        (grid_results_long.model != \"Random Forest\")) & \n",
    "                                        (grid_results_long.TrainVal == \"Validation\")], \n",
    "                x = \"log_C\", y = 'score', \n",
    "                color = \"black\", hue = \"model\",  \n",
    "                kind = \"line\",  col =  \"dataset\")\n",
    "g.set_xlabels(\"Log C\", size = 18)\n",
    "g.set_ylabels(\"Precision (mean CV)\", size = 18)\n",
    "g.set(ylim = (0.6, 1.0))\n",
    "plt.setp(g._legend.get_title(), fontsize = 18)\n",
    "plt.setp(g._legend.get_texts(), fontsize = 18)\n",
    "g.set_titles(size = 16)\n",
    "plt.savefig(os.path.join(figure_path, \"Grid_CV_Linear_models_learning_curves_precision.png\"))"
   ]
  },
  {
   "cell_type": "code",
   "execution_count": 41,
   "metadata": {},
   "outputs": [
    {
     "name": "stdout",
     "output_type": "stream",
     "text": [
      "Best Model Precision 0.892\n"
     ]
    },
    {
     "data": {
      "text/html": [
       "<div>\n",
       "<style scoped>\n",
       "    .dataframe tbody tr th:only-of-type {\n",
       "        vertical-align: middle;\n",
       "    }\n",
       "\n",
       "    .dataframe tbody tr th {\n",
       "        vertical-align: top;\n",
       "    }\n",
       "\n",
       "    .dataframe thead th {\n",
       "        text-align: right;\n",
       "    }\n",
       "</style>\n",
       "<table border=\"1\" class=\"dataframe\">\n",
       "  <thead>\n",
       "    <tr style=\"text-align: right;\">\n",
       "      <th></th>\n",
       "      <th>model</th>\n",
       "      <th>dataset</th>\n",
       "      <th>param_model__C</th>\n",
       "      <th>log_C</th>\n",
       "      <th>param_model__n_estimators</th>\n",
       "      <th>param_model__min_samples_leaf</th>\n",
       "      <th>param_model__min_samples_split</th>\n",
       "      <th>mean_train_f1</th>\n",
       "      <th>mean_test_f1</th>\n",
       "      <th>mean_train_precision</th>\n",
       "      <th>mean_test_precision</th>\n",
       "      <th>mean_train_recall</th>\n",
       "      <th>mean_test_recall</th>\n",
       "      <th>mean_train_acc</th>\n",
       "      <th>mean_test_acc</th>\n",
       "      <th>mean_train_roc_auc</th>\n",
       "      <th>mean_test_roc_auc</th>\n",
       "      <th>mean_train_brier_score</th>\n",
       "      <th>mean_test_brier_score</th>\n",
       "    </tr>\n",
       "  </thead>\n",
       "  <tbody>\n",
       "    <tr>\n",
       "      <th>41</th>\n",
       "      <td>LogReg</td>\n",
       "      <td>imputed</td>\n",
       "      <td>0.1</td>\n",
       "      <td>-1.0</td>\n",
       "      <td>NaN</td>\n",
       "      <td>NaN</td>\n",
       "      <td>NaN</td>\n",
       "      <td>0.736988</td>\n",
       "      <td>0.736863</td>\n",
       "      <td>0.891812</td>\n",
       "      <td>0.891932</td>\n",
       "      <td>0.628052</td>\n",
       "      <td>0.628062</td>\n",
       "      <td>0.632502</td>\n",
       "      <td>0.632506</td>\n",
       "      <td>0.662226</td>\n",
       "      <td>0.658289</td>\n",
       "      <td>-0.241343</td>\n",
       "      <td>-0.242169</td>\n",
       "    </tr>\n",
       "    <tr>\n",
       "      <th>42</th>\n",
       "      <td>LogReg</td>\n",
       "      <td>imputed</td>\n",
       "      <td>1.0</td>\n",
       "      <td>0.0</td>\n",
       "      <td>NaN</td>\n",
       "      <td>NaN</td>\n",
       "      <td>NaN</td>\n",
       "      <td>0.736988</td>\n",
       "      <td>0.736863</td>\n",
       "      <td>0.891812</td>\n",
       "      <td>0.891932</td>\n",
       "      <td>0.628052</td>\n",
       "      <td>0.628062</td>\n",
       "      <td>0.632502</td>\n",
       "      <td>0.632506</td>\n",
       "      <td>0.661676</td>\n",
       "      <td>0.656695</td>\n",
       "      <td>-0.224833</td>\n",
       "      <td>-0.225656</td>\n",
       "    </tr>\n",
       "    <tr>\n",
       "      <th>43</th>\n",
       "      <td>LogReg</td>\n",
       "      <td>imputed</td>\n",
       "      <td>10.0</td>\n",
       "      <td>1.0</td>\n",
       "      <td>NaN</td>\n",
       "      <td>NaN</td>\n",
       "      <td>NaN</td>\n",
       "      <td>0.736988</td>\n",
       "      <td>0.736863</td>\n",
       "      <td>0.891812</td>\n",
       "      <td>0.891932</td>\n",
       "      <td>0.628052</td>\n",
       "      <td>0.628062</td>\n",
       "      <td>0.632502</td>\n",
       "      <td>0.632506</td>\n",
       "      <td>0.661676</td>\n",
       "      <td>0.656695</td>\n",
       "      <td>-0.223646</td>\n",
       "      <td>-0.224470</td>\n",
       "    </tr>\n",
       "    <tr>\n",
       "      <th>44</th>\n",
       "      <td>LogReg</td>\n",
       "      <td>imputed</td>\n",
       "      <td>100.0</td>\n",
       "      <td>2.0</td>\n",
       "      <td>NaN</td>\n",
       "      <td>NaN</td>\n",
       "      <td>NaN</td>\n",
       "      <td>0.736988</td>\n",
       "      <td>0.736863</td>\n",
       "      <td>0.891812</td>\n",
       "      <td>0.891932</td>\n",
       "      <td>0.628052</td>\n",
       "      <td>0.628062</td>\n",
       "      <td>0.632502</td>\n",
       "      <td>0.632506</td>\n",
       "      <td>0.661676</td>\n",
       "      <td>0.656695</td>\n",
       "      <td>-0.223533</td>\n",
       "      <td>-0.224356</td>\n",
       "    </tr>\n",
       "    <tr>\n",
       "      <th>47</th>\n",
       "      <td>SVM</td>\n",
       "      <td>imputed</td>\n",
       "      <td>0.1</td>\n",
       "      <td>-1.0</td>\n",
       "      <td>NaN</td>\n",
       "      <td>NaN</td>\n",
       "      <td>NaN</td>\n",
       "      <td>0.736988</td>\n",
       "      <td>0.736863</td>\n",
       "      <td>0.891812</td>\n",
       "      <td>0.891932</td>\n",
       "      <td>0.628052</td>\n",
       "      <td>0.628062</td>\n",
       "      <td>0.632502</td>\n",
       "      <td>0.632506</td>\n",
       "      <td>0.650348</td>\n",
       "      <td>0.634155</td>\n",
       "      <td>-0.140411</td>\n",
       "      <td>-0.141017</td>\n",
       "    </tr>\n",
       "    <tr>\n",
       "      <th>54</th>\n",
       "      <td>Decision Tree</td>\n",
       "      <td>imputed</td>\n",
       "      <td>NaN</td>\n",
       "      <td>NaN</td>\n",
       "      <td>NaN</td>\n",
       "      <td>50</td>\n",
       "      <td>10</td>\n",
       "      <td>0.736988</td>\n",
       "      <td>0.736863</td>\n",
       "      <td>0.891812</td>\n",
       "      <td>0.891932</td>\n",
       "      <td>0.628052</td>\n",
       "      <td>0.628062</td>\n",
       "      <td>0.632502</td>\n",
       "      <td>0.632506</td>\n",
       "      <td>0.664975</td>\n",
       "      <td>0.659203</td>\n",
       "      <td>-0.222690</td>\n",
       "      <td>-0.224304</td>\n",
       "    </tr>\n",
       "    <tr>\n",
       "      <th>55</th>\n",
       "      <td>Decision Tree</td>\n",
       "      <td>imputed</td>\n",
       "      <td>NaN</td>\n",
       "      <td>NaN</td>\n",
       "      <td>NaN</td>\n",
       "      <td>50</td>\n",
       "      <td>50</td>\n",
       "      <td>0.736988</td>\n",
       "      <td>0.736863</td>\n",
       "      <td>0.891812</td>\n",
       "      <td>0.891932</td>\n",
       "      <td>0.628052</td>\n",
       "      <td>0.628062</td>\n",
       "      <td>0.632502</td>\n",
       "      <td>0.632506</td>\n",
       "      <td>0.664975</td>\n",
       "      <td>0.659203</td>\n",
       "      <td>-0.222690</td>\n",
       "      <td>-0.224304</td>\n",
       "    </tr>\n",
       "    <tr>\n",
       "      <th>56</th>\n",
       "      <td>Decision Tree</td>\n",
       "      <td>imputed</td>\n",
       "      <td>NaN</td>\n",
       "      <td>NaN</td>\n",
       "      <td>NaN</td>\n",
       "      <td>50</td>\n",
       "      <td>100</td>\n",
       "      <td>0.736988</td>\n",
       "      <td>0.736863</td>\n",
       "      <td>0.891812</td>\n",
       "      <td>0.891932</td>\n",
       "      <td>0.628052</td>\n",
       "      <td>0.628062</td>\n",
       "      <td>0.632502</td>\n",
       "      <td>0.632506</td>\n",
       "      <td>0.664975</td>\n",
       "      <td>0.659203</td>\n",
       "      <td>-0.222690</td>\n",
       "      <td>-0.224304</td>\n",
       "    </tr>\n",
       "    <tr>\n",
       "      <th>66</th>\n",
       "      <td>Random Forest</td>\n",
       "      <td>imputed</td>\n",
       "      <td>NaN</td>\n",
       "      <td>NaN</td>\n",
       "      <td>100</td>\n",
       "      <td>50</td>\n",
       "      <td>10</td>\n",
       "      <td>0.736988</td>\n",
       "      <td>0.736863</td>\n",
       "      <td>0.891812</td>\n",
       "      <td>0.891932</td>\n",
       "      <td>0.628052</td>\n",
       "      <td>0.628062</td>\n",
       "      <td>0.632502</td>\n",
       "      <td>0.632506</td>\n",
       "      <td>0.661802</td>\n",
       "      <td>0.661703</td>\n",
       "      <td>-0.224535</td>\n",
       "      <td>-0.225204</td>\n",
       "    </tr>\n",
       "    <tr>\n",
       "      <th>67</th>\n",
       "      <td>Random Forest</td>\n",
       "      <td>imputed</td>\n",
       "      <td>NaN</td>\n",
       "      <td>NaN</td>\n",
       "      <td>500</td>\n",
       "      <td>50</td>\n",
       "      <td>10</td>\n",
       "      <td>0.736988</td>\n",
       "      <td>0.736863</td>\n",
       "      <td>0.891812</td>\n",
       "      <td>0.891932</td>\n",
       "      <td>0.628052</td>\n",
       "      <td>0.628062</td>\n",
       "      <td>0.632502</td>\n",
       "      <td>0.632506</td>\n",
       "      <td>0.662256</td>\n",
       "      <td>0.658860</td>\n",
       "      <td>-0.225214</td>\n",
       "      <td>-0.225984</td>\n",
       "    </tr>\n",
       "    <tr>\n",
       "      <th>68</th>\n",
       "      <td>Random Forest</td>\n",
       "      <td>imputed</td>\n",
       "      <td>NaN</td>\n",
       "      <td>NaN</td>\n",
       "      <td>100</td>\n",
       "      <td>50</td>\n",
       "      <td>50</td>\n",
       "      <td>0.736988</td>\n",
       "      <td>0.736863</td>\n",
       "      <td>0.891812</td>\n",
       "      <td>0.891932</td>\n",
       "      <td>0.628052</td>\n",
       "      <td>0.628062</td>\n",
       "      <td>0.632502</td>\n",
       "      <td>0.632506</td>\n",
       "      <td>0.661802</td>\n",
       "      <td>0.661703</td>\n",
       "      <td>-0.224535</td>\n",
       "      <td>-0.225204</td>\n",
       "    </tr>\n",
       "    <tr>\n",
       "      <th>69</th>\n",
       "      <td>Random Forest</td>\n",
       "      <td>imputed</td>\n",
       "      <td>NaN</td>\n",
       "      <td>NaN</td>\n",
       "      <td>500</td>\n",
       "      <td>50</td>\n",
       "      <td>50</td>\n",
       "      <td>0.736988</td>\n",
       "      <td>0.736863</td>\n",
       "      <td>0.891812</td>\n",
       "      <td>0.891932</td>\n",
       "      <td>0.628052</td>\n",
       "      <td>0.628062</td>\n",
       "      <td>0.632502</td>\n",
       "      <td>0.632506</td>\n",
       "      <td>0.662256</td>\n",
       "      <td>0.658860</td>\n",
       "      <td>-0.225214</td>\n",
       "      <td>-0.225984</td>\n",
       "    </tr>\n",
       "    <tr>\n",
       "      <th>70</th>\n",
       "      <td>Random Forest</td>\n",
       "      <td>imputed</td>\n",
       "      <td>NaN</td>\n",
       "      <td>NaN</td>\n",
       "      <td>100</td>\n",
       "      <td>50</td>\n",
       "      <td>100</td>\n",
       "      <td>0.736988</td>\n",
       "      <td>0.736863</td>\n",
       "      <td>0.891812</td>\n",
       "      <td>0.891932</td>\n",
       "      <td>0.628052</td>\n",
       "      <td>0.628062</td>\n",
       "      <td>0.632502</td>\n",
       "      <td>0.632506</td>\n",
       "      <td>0.661802</td>\n",
       "      <td>0.661703</td>\n",
       "      <td>-0.224535</td>\n",
       "      <td>-0.225204</td>\n",
       "    </tr>\n",
       "    <tr>\n",
       "      <th>71</th>\n",
       "      <td>Random Forest</td>\n",
       "      <td>imputed</td>\n",
       "      <td>NaN</td>\n",
       "      <td>NaN</td>\n",
       "      <td>500</td>\n",
       "      <td>50</td>\n",
       "      <td>100</td>\n",
       "      <td>0.736988</td>\n",
       "      <td>0.736863</td>\n",
       "      <td>0.891812</td>\n",
       "      <td>0.891932</td>\n",
       "      <td>0.628052</td>\n",
       "      <td>0.628062</td>\n",
       "      <td>0.632502</td>\n",
       "      <td>0.632506</td>\n",
       "      <td>0.662256</td>\n",
       "      <td>0.658860</td>\n",
       "      <td>-0.225214</td>\n",
       "      <td>-0.225984</td>\n",
       "    </tr>\n",
       "  </tbody>\n",
       "</table>\n",
       "</div>"
      ],
      "text/plain": [
       "            model  dataset  param_model__C  log_C param_model__n_estimators  \\\n",
       "41         LogReg  imputed             0.1   -1.0                       NaN   \n",
       "42         LogReg  imputed             1.0    0.0                       NaN   \n",
       "43         LogReg  imputed            10.0    1.0                       NaN   \n",
       "44         LogReg  imputed           100.0    2.0                       NaN   \n",
       "47            SVM  imputed             0.1   -1.0                       NaN   \n",
       "54  Decision Tree  imputed             NaN    NaN                       NaN   \n",
       "55  Decision Tree  imputed             NaN    NaN                       NaN   \n",
       "56  Decision Tree  imputed             NaN    NaN                       NaN   \n",
       "66  Random Forest  imputed             NaN    NaN                       100   \n",
       "67  Random Forest  imputed             NaN    NaN                       500   \n",
       "68  Random Forest  imputed             NaN    NaN                       100   \n",
       "69  Random Forest  imputed             NaN    NaN                       500   \n",
       "70  Random Forest  imputed             NaN    NaN                       100   \n",
       "71  Random Forest  imputed             NaN    NaN                       500   \n",
       "\n",
       "   param_model__min_samples_leaf param_model__min_samples_split  \\\n",
       "41                           NaN                            NaN   \n",
       "42                           NaN                            NaN   \n",
       "43                           NaN                            NaN   \n",
       "44                           NaN                            NaN   \n",
       "47                           NaN                            NaN   \n",
       "54                            50                             10   \n",
       "55                            50                             50   \n",
       "56                            50                            100   \n",
       "66                            50                             10   \n",
       "67                            50                             10   \n",
       "68                            50                             50   \n",
       "69                            50                             50   \n",
       "70                            50                            100   \n",
       "71                            50                            100   \n",
       "\n",
       "    mean_train_f1  mean_test_f1  mean_train_precision  mean_test_precision  \\\n",
       "41       0.736988      0.736863              0.891812             0.891932   \n",
       "42       0.736988      0.736863              0.891812             0.891932   \n",
       "43       0.736988      0.736863              0.891812             0.891932   \n",
       "44       0.736988      0.736863              0.891812             0.891932   \n",
       "47       0.736988      0.736863              0.891812             0.891932   \n",
       "54       0.736988      0.736863              0.891812             0.891932   \n",
       "55       0.736988      0.736863              0.891812             0.891932   \n",
       "56       0.736988      0.736863              0.891812             0.891932   \n",
       "66       0.736988      0.736863              0.891812             0.891932   \n",
       "67       0.736988      0.736863              0.891812             0.891932   \n",
       "68       0.736988      0.736863              0.891812             0.891932   \n",
       "69       0.736988      0.736863              0.891812             0.891932   \n",
       "70       0.736988      0.736863              0.891812             0.891932   \n",
       "71       0.736988      0.736863              0.891812             0.891932   \n",
       "\n",
       "    mean_train_recall  mean_test_recall  mean_train_acc  mean_test_acc  \\\n",
       "41           0.628052          0.628062        0.632502       0.632506   \n",
       "42           0.628052          0.628062        0.632502       0.632506   \n",
       "43           0.628052          0.628062        0.632502       0.632506   \n",
       "44           0.628052          0.628062        0.632502       0.632506   \n",
       "47           0.628052          0.628062        0.632502       0.632506   \n",
       "54           0.628052          0.628062        0.632502       0.632506   \n",
       "55           0.628052          0.628062        0.632502       0.632506   \n",
       "56           0.628052          0.628062        0.632502       0.632506   \n",
       "66           0.628052          0.628062        0.632502       0.632506   \n",
       "67           0.628052          0.628062        0.632502       0.632506   \n",
       "68           0.628052          0.628062        0.632502       0.632506   \n",
       "69           0.628052          0.628062        0.632502       0.632506   \n",
       "70           0.628052          0.628062        0.632502       0.632506   \n",
       "71           0.628052          0.628062        0.632502       0.632506   \n",
       "\n",
       "    mean_train_roc_auc  mean_test_roc_auc  mean_train_brier_score  \\\n",
       "41            0.662226           0.658289               -0.241343   \n",
       "42            0.661676           0.656695               -0.224833   \n",
       "43            0.661676           0.656695               -0.223646   \n",
       "44            0.661676           0.656695               -0.223533   \n",
       "47            0.650348           0.634155               -0.140411   \n",
       "54            0.664975           0.659203               -0.222690   \n",
       "55            0.664975           0.659203               -0.222690   \n",
       "56            0.664975           0.659203               -0.222690   \n",
       "66            0.661802           0.661703               -0.224535   \n",
       "67            0.662256           0.658860               -0.225214   \n",
       "68            0.661802           0.661703               -0.224535   \n",
       "69            0.662256           0.658860               -0.225214   \n",
       "70            0.661802           0.661703               -0.224535   \n",
       "71            0.662256           0.658860               -0.225214   \n",
       "\n",
       "    mean_test_brier_score  \n",
       "41              -0.242169  \n",
       "42              -0.225656  \n",
       "43              -0.224470  \n",
       "44              -0.224356  \n",
       "47              -0.141017  \n",
       "54              -0.224304  \n",
       "55              -0.224304  \n",
       "56              -0.224304  \n",
       "66              -0.225204  \n",
       "67              -0.225984  \n",
       "68              -0.225204  \n",
       "69              -0.225984  \n",
       "70              -0.225204  \n",
       "71              -0.225984  "
      ]
     },
     "metadata": {},
     "output_type": "display_data"
    }
   ],
   "source": [
    "best_metric = grid_results['mean_test_precision'].max()\n",
    "match_best = grid_results['mean_test_precision'] == best_metric\n",
    "best_model = grid_results[match_best]\n",
    "print(\"Best Model Precision %0.3f\" % best_metric)\n",
    "display(best_model)\n"
   ]
  },
  {
   "cell_type": "markdown",
   "metadata": {},
   "source": [
    "### Calibrate probabilties with validation set "
   ]
  },
  {
   "cell_type": "code",
   "execution_count": 42,
   "metadata": {},
   "outputs": [],
   "source": [
    "best_LR_model = LogisticRegression(class_weight = 'balanced', \n",
    "                              max_iter = 1000,\n",
    "                              penalty = 'l1', \n",
    "                               C = 100,\n",
    "                              solver = 'liblinear', \n",
    "                             random_state = RANDOM)\n",
    "# add extra step of calibration \n",
    "Isotonic = CalibratedClassifierCV(best_LR_model, method = \"isotonic\", cv = 3)\n",
    "\n",
    "Sigmoid = CalibratedClassifierCV(best_LR_model, method = \"sigmoid\", cv = 3)\n"
   ]
  },
  {
   "cell_type": "code",
   "execution_count": 43,
   "metadata": {},
   "outputs": [],
   "source": [
    "\n",
    "# define scores to get from each model \n",
    "def get_scores(y_test, y_pred):\n",
    "        scores = pd.DataFrame({ \"metrics\"  : [\"precision\", \"recall\", \"roc_auc\",\n",
    "                                          \"accuracy\", \"f1 score\", \"pr_auc\", \"brier_score\"],\n",
    "                                \"scores\" : [precision_score(y_test, y_pred), \n",
    "                                           recall_score(y_test, y_pred),\n",
    "                                            roc_auc_score(y_test, y_pred),\n",
    "                                            accuracy_score(y_test, y_pred),\n",
    "                                           f1_score(y_test, y_pred), \n",
    "                                           average_precision_score(y_test, y_pred), \n",
    "                                           brier_score_loss (y_test, y_pred)]\n",
    "                               })\n",
    "        return (scores)\n"
   ]
  },
  {
   "cell_type": "code",
   "execution_count": 55,
   "metadata": {},
   "outputs": [
    {
     "data": {
      "text/plain": [
       "array([[ 43,  22],\n",
       "       [108, 189]])"
      ]
     },
     "execution_count": 55,
     "metadata": {},
     "output_type": "execute_result"
    }
   ],
   "source": [
    "# define options for looop \n",
    "model_choices = [best_LR_model, Sigmoid, Isotonic]\n",
    "model_names = ['RF', 'Sigmoid', 'Isotonic']\n",
    "\n",
    "calibrate_results = pd.DataFrame()\n",
    "data = imputed_df\n",
    "features = data.drop(columns = ['TNM_negative'])\n",
    "outcome = data['TNM_negative'].reset_index(drop = True)\n",
    "    # split into train and test set \n",
    "X_trainval, X_test, y_trainval, y_test = train_test_split(features, \n",
    "                                                              outcome,\n",
    "                                                              stratify =outcome,\n",
    "                                                              test_size = 0.33,\n",
    "                                                              random_state = 0)\n",
    "    # split further for extra validation set\n",
    "X_train, X_val, y_train, y_val = train_test_split(X_trainval, \n",
    "                                                         y_trainval, \n",
    "                                                         test_size = 0.33,\n",
    "                                                         stratify = y_trainval,\n",
    "                                                         random_state = 0)\n",
    "\n",
    "# No calibration \n",
    "best_LR_model.fit(X_train, y_train)        \n",
    "LR_y_val_probs = best_LR_model.predict_proba(X_val)[:,1]\n",
    "LR_y_val_pred = best_LR_model.predict(X_val)\n",
    "LR_scores = pd.DataFrame(get_scores(y_val, LR_y_val_pred))\n",
    "LR_scores['model'] = 'LR'\n",
    "cm = confusion_matrix(y_val, LR_y_val_pred)\n",
    "cm"
   ]
  },
  {
   "cell_type": "code",
   "execution_count": 56,
   "metadata": {},
   "outputs": [
    {
     "data": {
      "text/html": [
       "<div>\n",
       "<style scoped>\n",
       "    .dataframe tbody tr th:only-of-type {\n",
       "        vertical-align: middle;\n",
       "    }\n",
       "\n",
       "    .dataframe tbody tr th {\n",
       "        vertical-align: top;\n",
       "    }\n",
       "\n",
       "    .dataframe thead th {\n",
       "        text-align: right;\n",
       "    }\n",
       "</style>\n",
       "<table border=\"1\" class=\"dataframe\">\n",
       "  <thead>\n",
       "    <tr style=\"text-align: right;\">\n",
       "      <th></th>\n",
       "      <th>metrics</th>\n",
       "      <th>scores</th>\n",
       "      <th>model</th>\n",
       "    </tr>\n",
       "  </thead>\n",
       "  <tbody>\n",
       "    <tr>\n",
       "      <th>6</th>\n",
       "      <td>brier_score</td>\n",
       "      <td>0.359116</td>\n",
       "      <td>LR</td>\n",
       "    </tr>\n",
       "    <tr>\n",
       "      <th>13</th>\n",
       "      <td>brier_score</td>\n",
       "      <td>0.179558</td>\n",
       "      <td>Isotonic</td>\n",
       "    </tr>\n",
       "    <tr>\n",
       "      <th>20</th>\n",
       "      <td>brier_score</td>\n",
       "      <td>0.179558</td>\n",
       "      <td>Sigmoid</td>\n",
       "    </tr>\n",
       "  </tbody>\n",
       "</table>\n",
       "</div>"
      ],
      "text/plain": [
       "        metrics    scores     model\n",
       "6   brier_score  0.359116        LR\n",
       "13  brier_score  0.179558  Isotonic\n",
       "20  brier_score  0.179558   Sigmoid"
      ]
     },
     "execution_count": 56,
     "metadata": {},
     "output_type": "execute_result"
    }
   ],
   "source": [
    "\n",
    "# with calibration\n",
    "Sigmoid.fit(X_train, y_train)        \n",
    "Sigmoid_y_val_probs = Sigmoid.predict_proba(X_val)[:,1]\n",
    "Sigmoid_y_val_pred = Sigmoid.predict(X_val)\n",
    "Sigmoid_scores = pd.DataFrame(get_scores(y_val, Sigmoid_y_val_pred))\n",
    "Sigmoid_scores['model'] = 'Sigmoid'\n",
    "    # with calibration\n",
    "Isotonic.fit(X_train, y_train)        \n",
    "Isotonic_y_val_probs = Isotonic.predict_proba(X_val)[:,1]\n",
    "Isotonic_y_val_pred = Isotonic.predict(X_val)\n",
    "Isotonic_scores = pd.DataFrame(get_scores(y_val, Isotonic_y_val_pred))\n",
    "Isotonic_scores['model'] = 'Isotonic'\n"
   ]
  },
  {
   "cell_type": "markdown",
   "metadata": {},
   "source": [
    "### compare brier score after calibration"
   ]
  },
  {
   "cell_type": "code",
   "execution_count": 69,
   "metadata": {},
   "outputs": [
    {
     "data": {
      "text/html": [
       "<div>\n",
       "<style scoped>\n",
       "    .dataframe tbody tr th:only-of-type {\n",
       "        vertical-align: middle;\n",
       "    }\n",
       "\n",
       "    .dataframe tbody tr th {\n",
       "        vertical-align: top;\n",
       "    }\n",
       "\n",
       "    .dataframe thead th {\n",
       "        text-align: right;\n",
       "    }\n",
       "</style>\n",
       "<table border=\"1\" class=\"dataframe\">\n",
       "  <thead>\n",
       "    <tr style=\"text-align: right;\">\n",
       "      <th></th>\n",
       "      <th>metrics</th>\n",
       "      <th>scores</th>\n",
       "      <th>model</th>\n",
       "    </tr>\n",
       "  </thead>\n",
       "  <tbody>\n",
       "    <tr>\n",
       "      <th>6</th>\n",
       "      <td>brier_score</td>\n",
       "      <td>0.359116</td>\n",
       "      <td>LR</td>\n",
       "    </tr>\n",
       "    <tr>\n",
       "      <th>13</th>\n",
       "      <td>brier_score</td>\n",
       "      <td>0.820370</td>\n",
       "      <td>NaN</td>\n",
       "    </tr>\n",
       "    <tr>\n",
       "      <th>20</th>\n",
       "      <td>brier_score</td>\n",
       "      <td>0.179558</td>\n",
       "      <td>Sigmoid</td>\n",
       "    </tr>\n",
       "  </tbody>\n",
       "</table>\n",
       "</div>"
      ],
      "text/plain": [
       "        metrics    scores    model\n",
       "6   brier_score  0.359116       LR\n",
       "13  brier_score  0.820370      NaN\n",
       "20  brier_score  0.179558  Sigmoid"
      ]
     },
     "execution_count": 69,
     "metadata": {},
     "output_type": "execute_result"
    }
   ],
   "source": [
    "\n",
    "# isotonic has best brier score \n",
    "calibrate_results = pd.concat([LR_scores, Isotonic_scores, Sigmoid_scores], ignore_index = True)\n",
    "calibrate_results[calibrate_results.metrics == \"brier_score\"]\n"
   ]
  },
  {
   "cell_type": "markdown",
   "metadata": {},
   "source": [
    "### plot calibration"
   ]
  },
  {
   "cell_type": "code",
   "execution_count": 71,
   "metadata": {},
   "outputs": [
    {
     "data": {
      "image/png": "[encoded data removed]",
      "text/plain": [
       "<Figure size 720x432 with 1 Axes>"
      ]
     },
     "metadata": {},
     "output_type": "display_data"
    }
   ],
   "source": [
    "    \n",
    "#figure_path = \"NCDB_5_features/\"\n",
    "fig = plt.figure(figsize=(10, 6))\n",
    "plt.plot([0, 1], [0, 1], \"k:\", label=\"Perfectly calibrated\")\n",
    "fraction_of_positives, mean_predicted_value = calibration_curve(y_val, LR_y_val_probs, n_bins = 8)\n",
    "plt.plot(mean_predicted_value, fraction_of_positives, \"s-\", label = \"Logistic Regression\")\n",
    "fraction_of_positives, mean_predicted_value = calibration_curve(y_val, Sigmoid_y_val_probs, n_bins = 8)\n",
    "plt.plot(mean_predicted_value, fraction_of_positives, \"s-\", label = \"Logistic Regression + Sigmoid Calibration\")\n",
    "fraction_of_positives, mean_predicted_value = calibration_curve(y_val, Isotonic_y_val_probs, n_bins = 8)\n",
    "plt.plot(mean_predicted_value, fraction_of_positives, \"s-\", label = \"Logistic Regression + Isotonic Calibration\")\n",
    "\n",
    "plt.xlabel(\"Mean predicted value\", size = 15)\n",
    "plt.ylabel(\"Fraction of positives\", size = 15)\n",
    "plt.ylim([-0.05, 1.05])\n",
    "plt.legend(loc=\"lower right\", fontsize = 15)\n",
    "plt.title('Calibration plots  (reliability curve)', size = 20)\n",
    "plt.savefig(os.path.join(figure_path, \"Calibration_validation_plot.png\"))"
   ]
  },
  {
   "cell_type": "markdown",
   "metadata": {},
   "source": [
    "### Results with calibrated model, default threshold\n",
    "- all patients are predicted for positive class."
   ]
  },
  {
   "cell_type": "code",
   "execution_count": 77,
   "metadata": {},
   "outputs": [
    {
     "data": {
      "text/plain": [
       "array([[  0,  65],\n",
       "       [  0, 297]])"
      ]
     },
     "metadata": {},
     "output_type": "display_data"
    },
    {
     "data": {
      "text/html": [
       "<div>\n",
       "<style scoped>\n",
       "    .dataframe tbody tr th:only-of-type {\n",
       "        vertical-align: middle;\n",
       "    }\n",
       "\n",
       "    .dataframe tbody tr th {\n",
       "        vertical-align: top;\n",
       "    }\n",
       "\n",
       "    .dataframe thead th {\n",
       "        text-align: right;\n",
       "    }\n",
       "</style>\n",
       "<table border=\"1\" class=\"dataframe\">\n",
       "  <thead>\n",
       "    <tr style=\"text-align: right;\">\n",
       "      <th></th>\n",
       "      <th>metrics</th>\n",
       "      <th>scores</th>\n",
       "    </tr>\n",
       "  </thead>\n",
       "  <tbody>\n",
       "    <tr>\n",
       "      <th>0</th>\n",
       "      <td>precision</td>\n",
       "      <td>0.820442</td>\n",
       "    </tr>\n",
       "    <tr>\n",
       "      <th>1</th>\n",
       "      <td>recall</td>\n",
       "      <td>1.000000</td>\n",
       "    </tr>\n",
       "    <tr>\n",
       "      <th>2</th>\n",
       "      <td>roc_auc</td>\n",
       "      <td>0.500000</td>\n",
       "    </tr>\n",
       "    <tr>\n",
       "      <th>3</th>\n",
       "      <td>accuracy</td>\n",
       "      <td>0.820442</td>\n",
       "    </tr>\n",
       "    <tr>\n",
       "      <th>4</th>\n",
       "      <td>f1 score</td>\n",
       "      <td>0.901366</td>\n",
       "    </tr>\n",
       "    <tr>\n",
       "      <th>5</th>\n",
       "      <td>pr_auc</td>\n",
       "      <td>0.820442</td>\n",
       "    </tr>\n",
       "    <tr>\n",
       "      <th>6</th>\n",
       "      <td>brier_score</td>\n",
       "      <td>0.179558</td>\n",
       "    </tr>\n",
       "  </tbody>\n",
       "</table>\n",
       "</div>"
      ],
      "text/plain": [
       "       metrics    scores\n",
       "0    precision  0.820442\n",
       "1       recall  1.000000\n",
       "2      roc_auc  0.500000\n",
       "3     accuracy  0.820442\n",
       "4     f1 score  0.901366\n",
       "5       pr_auc  0.820442\n",
       "6  brier_score  0.179558"
      ]
     },
     "metadata": {},
     "output_type": "display_data"
    }
   ],
   "source": [
    "Isotonic_y_val_probs = Isotonic.predict_proba(X_val)[:,1]\n",
    "Isotonic_y_val_pred = Isotonic.predict(X_val)\n",
    "cm = confusion_matrix(y_val, Isotonic_y_val_pred)\n",
    "display(cm)\n",
    "val_scores = pd.DataFrame(get_scores(y_val, Isotonic_y_val_pred))\n",
    "display(val_scores)"
   ]
  },
  {
   "cell_type": "markdown",
   "metadata": {},
   "source": [
    "### Results with calibrated model, adjust threshold"
   ]
  },
  {
   "cell_type": "code",
   "execution_count": 73,
   "metadata": {},
   "outputs": [
    {
     "data": {
      "image/png": "[encoded data removed]",
      "text/plain": [
       "<Figure size 720x432 with 1 Axes>"
      ]
     },
     "metadata": {},
     "output_type": "display_data"
    },
    {
     "data": {
      "image/png": "[encoded data removed]",
      "text/plain": [
       "<Figure size 720x432 with 1 Axes>"
      ]
     },
     "metadata": {},
     "output_type": "display_data"
    }
   ],
   "source": [
    "key_thresh = 0.85\n",
    "\n",
    "custom_plots.plot_pr_curve(y_val, Isotonic_y_val_probs, key_thresh, \n",
    "                           filename = os.path.join(figure_path,\"validation_PR_curve.png\"))\n",
    "custom_plots.plot_roc_curve(y_val, Isotonic_y_val_probs, key_thresh, \n",
    "                           filename = os.path.join(figure_path,\"validation_ROC_curve.png\"))"
   ]
  },
  {
   "cell_type": "code",
   "execution_count": 79,
   "metadata": {},
   "outputs": [
    {
     "data": {
      "text/plain": [
       "array([[ 43,  22],\n",
       "       [108, 189]])"
      ]
     },
     "metadata": {},
     "output_type": "display_data"
    },
    {
     "data": {
      "text/html": [
       "<div>\n",
       "<style scoped>\n",
       "    .dataframe tbody tr th:only-of-type {\n",
       "        vertical-align: middle;\n",
       "    }\n",
       "\n",
       "    .dataframe tbody tr th {\n",
       "        vertical-align: top;\n",
       "    }\n",
       "\n",
       "    .dataframe thead th {\n",
       "        text-align: right;\n",
       "    }\n",
       "</style>\n",
       "<table border=\"1\" class=\"dataframe\">\n",
       "  <thead>\n",
       "    <tr style=\"text-align: right;\">\n",
       "      <th></th>\n",
       "      <th>metrics</th>\n",
       "      <th>scores</th>\n",
       "    </tr>\n",
       "  </thead>\n",
       "  <tbody>\n",
       "    <tr>\n",
       "      <th>0</th>\n",
       "      <td>precision</td>\n",
       "      <td>0.895735</td>\n",
       "    </tr>\n",
       "    <tr>\n",
       "      <th>1</th>\n",
       "      <td>recall</td>\n",
       "      <td>0.636364</td>\n",
       "    </tr>\n",
       "    <tr>\n",
       "      <th>2</th>\n",
       "      <td>roc_auc</td>\n",
       "      <td>0.648951</td>\n",
       "    </tr>\n",
       "    <tr>\n",
       "      <th>3</th>\n",
       "      <td>accuracy</td>\n",
       "      <td>0.640884</td>\n",
       "    </tr>\n",
       "    <tr>\n",
       "      <th>4</th>\n",
       "      <td>f1 score</td>\n",
       "      <td>0.744094</td>\n",
       "    </tr>\n",
       "    <tr>\n",
       "      <th>5</th>\n",
       "      <td>pr_auc</td>\n",
       "      <td>0.868355</td>\n",
       "    </tr>\n",
       "    <tr>\n",
       "      <th>6</th>\n",
       "      <td>brier_score</td>\n",
       "      <td>0.359116</td>\n",
       "    </tr>\n",
       "  </tbody>\n",
       "</table>\n",
       "</div>"
      ],
      "text/plain": [
       "       metrics    scores\n",
       "0    precision  0.895735\n",
       "1       recall  0.636364\n",
       "2      roc_auc  0.648951\n",
       "3     accuracy  0.640884\n",
       "4     f1 score  0.744094\n",
       "5       pr_auc  0.868355\n",
       "6  brier_score  0.359116"
      ]
     },
     "metadata": {},
     "output_type": "display_data"
    }
   ],
   "source": [
    "\n",
    "Isotonic_y_val_pred_adjusted =  Isotonic_y_val_probs > key_thresh\n",
    "cm = confusion_matrix(y_val, Isotonic_y_val_pred_adjusted)\n",
    "display(cm)\n",
    "val_scores_adjusted = pd.DataFrame(get_scores(y_val, Isotonic_y_val_pred_adjusted))\n",
    "display(val_scores_adjusted)"
   ]
  },
  {
   "cell_type": "markdown",
   "metadata": {},
   "source": [
    "### Final model evaluation with logistic reg & isotonic calibration\n",
    "- evaluate on hold out test set"
   ]
  },
  {
   "cell_type": "code",
   "execution_count": 74,
   "metadata": {},
   "outputs": [
    {
     "data": {
      "text/html": [
       "<div>\n",
       "<style scoped>\n",
       "    .dataframe tbody tr th:only-of-type {\n",
       "        vertical-align: middle;\n",
       "    }\n",
       "\n",
       "    .dataframe tbody tr th {\n",
       "        vertical-align: top;\n",
       "    }\n",
       "\n",
       "    .dataframe thead th {\n",
       "        text-align: right;\n",
       "    }\n",
       "</style>\n",
       "<table border=\"1\" class=\"dataframe\">\n",
       "  <thead>\n",
       "    <tr style=\"text-align: right;\">\n",
       "      <th></th>\n",
       "      <th>metrics</th>\n",
       "      <th>scores</th>\n",
       "    </tr>\n",
       "  </thead>\n",
       "  <tbody>\n",
       "    <tr>\n",
       "      <th>0</th>\n",
       "      <td>precision</td>\n",
       "      <td>0.898361</td>\n",
       "    </tr>\n",
       "    <tr>\n",
       "      <th>1</th>\n",
       "      <td>recall</td>\n",
       "      <td>0.618510</td>\n",
       "    </tr>\n",
       "    <tr>\n",
       "      <th>2</th>\n",
       "      <td>roc_auc</td>\n",
       "      <td>0.649461</td>\n",
       "    </tr>\n",
       "    <tr>\n",
       "      <th>3</th>\n",
       "      <td>accuracy</td>\n",
       "      <td>0.629630</td>\n",
       "    </tr>\n",
       "    <tr>\n",
       "      <th>4</th>\n",
       "      <td>f1 score</td>\n",
       "      <td>0.732620</td>\n",
       "    </tr>\n",
       "    <tr>\n",
       "      <th>5</th>\n",
       "      <td>pr_auc</td>\n",
       "      <td>0.868608</td>\n",
       "    </tr>\n",
       "    <tr>\n",
       "      <th>6</th>\n",
       "      <td>brier_score</td>\n",
       "      <td>0.370370</td>\n",
       "    </tr>\n",
       "  </tbody>\n",
       "</table>\n",
       "</div>"
      ],
      "text/plain": [
       "       metrics    scores\n",
       "0    precision  0.898361\n",
       "1       recall  0.618510\n",
       "2      roc_auc  0.649461\n",
       "3     accuracy  0.629630\n",
       "4     f1 score  0.732620\n",
       "5       pr_auc  0.868608\n",
       "6  brier_score  0.370370"
      ]
     },
     "execution_count": 74,
     "metadata": {},
     "output_type": "execute_result"
    }
   ],
   "source": [
    "\n",
    "Isotonic_y_test_probs = Isotonic.predict_proba(X_test)[:,1]\n",
    "Isotonic_y_test_pred = Isotonic.predict(X_test)\n",
    "Isotonic_y_test_pred_adjusted =  Isotonic_y_test_probs > key_thresh\n",
    "Isotonic_scores = pd.DataFrame(get_scores(y_test, Isotonic_y_test_pred_adjusted))\n",
    "\n",
    "Isotonic_scores.to_csv(\"../model_output/TNM_outcome/final_calibrated_logreg_test_scores.csv\")\n",
    "Isotonic_scores\n"
   ]
  },
  {
   "cell_type": "code",
   "execution_count": 75,
   "metadata": {},
   "outputs": [
    {
     "name": "stderr",
     "output_type": "stream",
     "text": [
      "../mcc_metastasis/modeling.py:70: UserWarning: FixedFormatter should only be used together with FixedLocator\n",
      "  ax.set_xticklabels(['']+['Mets', 'No Mets'])\n",
      "../mcc_metastasis/modeling.py:71: UserWarning: FixedFormatter should only be used together with FixedLocator\n",
      "  ax.set_yticklabels(['']+['Mets', 'No Mets'])\n"
     ]
    },
    {
     "data": {
      "image/png": "[encoded data removed]",
      "text/plain": [
       "<Figure size 432x288 with 1 Axes>"
      ]
     },
     "metadata": {},
     "output_type": "display_data"
    },
    {
     "data": {
      "text/plain": [
       "0.012396694214876033"
      ]
     },
     "execution_count": 75,
     "metadata": {},
     "output_type": "execute_result"
    }
   ],
   "source": [
    "cm = confusion_matrix(y_test, Isotonic_y_test_pred_adjusted)\n",
    "\n",
    "modeling.pretty_cm(cm, os.path.join(figure_path, \"Test_confusion_matrix_adjusted.png\"))\n",
    "\n",
    "17/(595 + 17)\n",
    "3/ (239+3)\n"
   ]
  },
  {
   "cell_type": "markdown",
   "metadata": {},
   "source": [
    "### conclusions\n",
    "- 1/3 of patients with metastasis would be miss-classified ... not good!"
   ]
  },
  {
   "cell_type": "code",
   "execution_count": null,
   "metadata": {},
   "outputs": [],
   "source": []
  },
  {
   "cell_type": "code",
   "execution_count": null,
   "metadata": {},
   "outputs": [],
   "source": []
  }
 ],
 "metadata": {
  "kernelspec": {
   "display_name": "Python 3",
   "language": "python",
   "name": "python3"
  },
  "language_info": {
   "codemirror_mode": {
    "name": "ipython",
    "version": 3
   },
   "file_extension": ".py",
   "mimetype": "text/x-python",
   "name": "python",
   "nbconvert_exporter": "python",
   "pygments_lexer": "ipython3",
   "version": "3.7.9"
  }
 },
 "nbformat": 4,
 "nbformat_minor": 4
}
