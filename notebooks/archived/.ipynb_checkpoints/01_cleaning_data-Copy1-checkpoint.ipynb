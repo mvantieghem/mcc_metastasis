{
 "cells": [
  {
   "cell_type": "markdown",
   "metadata": {},
   "source": [
    "# Data cleaning of NCDB dataset"
   ]
  },
  {
   "cell_type": "code",
   "execution_count": 1,
   "metadata": {},
   "outputs": [],
   "source": [
    "import pandas as pd  \n",
    "import numpy as np\n",
    "import warnings \n",
    "import math\n",
    "warnings.simplefilter('ignore')"
   ]
  },
  {
   "cell_type": "code",
   "execution_count": 2,
   "metadata": {},
   "outputs": [],
   "source": [
    "##  custom function!!!\n",
    "def N_table(df, var):\n",
    "    table =  (\n",
    "        df\n",
    "        .groupby(var, dropna = False)\n",
    "        .size()\n",
    "        .to_frame('N')\n",
    "        .reset_index()\n",
    "    )\n",
    "    return table"
   ]
  },
  {
   "cell_type": "code",
   "execution_count": 4,
   "metadata": {},
   "outputs": [
    {
     "data": {
      "text/plain": [
       "(34886, 126)"
      ]
     },
     "execution_count": 4,
     "metadata": {},
     "output_type": "execute_result"
    }
   ],
   "source": [
    "# first dataset: use for training \n",
    "NCDB = pd.read_csv(\"../../data/raw/Merkel.csv\")\n",
    "NCDB.shape"
   ]
  },
  {
   "cell_type": "code",
   "execution_count": 5,
   "metadata": {},
   "outputs": [
    {
     "data": {
      "text/plain": [
       "Index(['PUF_CASE_ID', 'PUF_FACILITY_ID', 'FACILITY_TYPE_CD',\n",
       "       'FACILITY_LOCATION_CD', 'AGE', 'SEX', 'RACE', 'SPANISH_HISPANIC_ORIGIN',\n",
       "       'INSURANCE_STATUS', 'MED_INC_QUAR_00',\n",
       "       ...\n",
       "       'RX_HOSP_SURG_PRIM_SITE', 'RX_HOSP_CHEMO', 'RX_HOSP_IMMUNOTHERAPY',\n",
       "       'RX_HOSP_HORMONE', 'RX_HOSP_OTHER', 'PUF_MULT_SOURCE',\n",
       "       'PUF_REFERENCE_DATE_FLAG', 'RX_SUMM_SCOPE_REG_LN_2012',\n",
       "       'RX_HOSP_DXSTG_PROC', 'PALLIATIVE_CARE_HOSP'],\n",
       "      dtype='object', length=126)"
      ]
     },
     "execution_count": 5,
     "metadata": {},
     "output_type": "execute_result"
    }
   ],
   "source": [
    "NCDB.columns"
   ]
  },
  {
   "cell_type": "markdown",
   "metadata": {},
   "source": [
    "### Filter for Merkel cell carcinoma \n",
    "Histology code 8247"
   ]
  },
  {
   "cell_type": "code",
   "execution_count": 6,
   "metadata": {},
   "outputs": [
    {
     "data": {
      "text/plain": [
       "(14948, 126)"
      ]
     },
     "execution_count": 6,
     "metadata": {},
     "output_type": "execute_result"
    }
   ],
   "source": [
    "NCDB = NCDB[NCDB.HISTOLOGY == 8247]\n",
    "NCDB.shape"
   ]
  },
  {
   "cell_type": "code",
   "execution_count": 7,
   "metadata": {},
   "outputs": [
    {
     "data": {
      "text/html": [
       "<div>\n",
       "<style scoped>\n",
       "    .dataframe tbody tr th:only-of-type {\n",
       "        vertical-align: middle;\n",
       "    }\n",
       "\n",
       "    .dataframe tbody tr th {\n",
       "        vertical-align: top;\n",
       "    }\n",
       "\n",
       "    .dataframe thead th {\n",
       "        text-align: right;\n",
       "    }\n",
       "</style>\n",
       "<table border=\"1\" class=\"dataframe\">\n",
       "  <thead>\n",
       "    <tr style=\"text-align: right;\">\n",
       "      <th></th>\n",
       "      <th>PUF_CASE_ID</th>\n",
       "      <th>PUF_FACILITY_ID</th>\n",
       "      <th>FACILITY_TYPE_CD</th>\n",
       "      <th>FACILITY_LOCATION_CD</th>\n",
       "      <th>AGE</th>\n",
       "      <th>SEX</th>\n",
       "      <th>RACE</th>\n",
       "      <th>SPANISH_HISPANIC_ORIGIN</th>\n",
       "      <th>INSURANCE_STATUS</th>\n",
       "      <th>MED_INC_QUAR_00</th>\n",
       "      <th>...</th>\n",
       "      <th>RX_HOSP_SURG_PRIM_SITE</th>\n",
       "      <th>RX_HOSP_CHEMO</th>\n",
       "      <th>RX_HOSP_IMMUNOTHERAPY</th>\n",
       "      <th>RX_HOSP_HORMONE</th>\n",
       "      <th>RX_HOSP_OTHER</th>\n",
       "      <th>PUF_MULT_SOURCE</th>\n",
       "      <th>PUF_REFERENCE_DATE_FLAG</th>\n",
       "      <th>RX_SUMM_SCOPE_REG_LN_2012</th>\n",
       "      <th>RX_HOSP_DXSTG_PROC</th>\n",
       "      <th>PALLIATIVE_CARE_HOSP</th>\n",
       "    </tr>\n",
       "  </thead>\n",
       "  <tbody>\n",
       "    <tr>\n",
       "      <th>7</th>\n",
       "      <td>Ddd391a23-a24e-4cc2-bb8f-722d75cb44ab</td>\n",
       "      <td>AQGTAXQUGM</td>\n",
       "      <td>2.0</td>\n",
       "      <td>9.0</td>\n",
       "      <td>90</td>\n",
       "      <td>2</td>\n",
       "      <td>1</td>\n",
       "      <td>0</td>\n",
       "      <td>3</td>\n",
       "      <td>4.0</td>\n",
       "      <td>...</td>\n",
       "      <td>0</td>\n",
       "      <td>0</td>\n",
       "      <td>0</td>\n",
       "      <td>0</td>\n",
       "      <td>0</td>\n",
       "      <td>0</td>\n",
       "      <td>1</td>\n",
       "      <td>NaN</td>\n",
       "      <td>0</td>\n",
       "      <td>0</td>\n",
       "    </tr>\n",
       "    <tr>\n",
       "      <th>8</th>\n",
       "      <td>D5383f9e2-76b0-48f6-b820-1a375f274b36</td>\n",
       "      <td>LVMXOQOZBB</td>\n",
       "      <td>3.0</td>\n",
       "      <td>3.0</td>\n",
       "      <td>71</td>\n",
       "      <td>1</td>\n",
       "      <td>1</td>\n",
       "      <td>0</td>\n",
       "      <td>1</td>\n",
       "      <td>3.0</td>\n",
       "      <td>...</td>\n",
       "      <td>27</td>\n",
       "      <td>0</td>\n",
       "      <td>0</td>\n",
       "      <td>0</td>\n",
       "      <td>0</td>\n",
       "      <td>0</td>\n",
       "      <td>1</td>\n",
       "      <td>NaN</td>\n",
       "      <td>0</td>\n",
       "      <td>0</td>\n",
       "    </tr>\n",
       "    <tr>\n",
       "      <th>12</th>\n",
       "      <td>D49ae77af-8319-4805-a13c-b7070a1ba25d</td>\n",
       "      <td>BTFNKIQFXQ</td>\n",
       "      <td>3.0</td>\n",
       "      <td>4.0</td>\n",
       "      <td>87</td>\n",
       "      <td>1</td>\n",
       "      <td>1</td>\n",
       "      <td>0</td>\n",
       "      <td>3</td>\n",
       "      <td>NaN</td>\n",
       "      <td>...</td>\n",
       "      <td>20</td>\n",
       "      <td>0</td>\n",
       "      <td>0</td>\n",
       "      <td>0</td>\n",
       "      <td>0</td>\n",
       "      <td>1</td>\n",
       "      <td>1</td>\n",
       "      <td>NaN</td>\n",
       "      <td>0</td>\n",
       "      <td>0</td>\n",
       "    </tr>\n",
       "    <tr>\n",
       "      <th>14</th>\n",
       "      <td>Dfd47ceb1-8ecf-42ef-8b66-17c87587cc96</td>\n",
       "      <td>IOEYAMIRQV</td>\n",
       "      <td>3.0</td>\n",
       "      <td>6.0</td>\n",
       "      <td>43</td>\n",
       "      <td>1</td>\n",
       "      <td>1</td>\n",
       "      <td>0</td>\n",
       "      <td>1</td>\n",
       "      <td>4.0</td>\n",
       "      <td>...</td>\n",
       "      <td>0</td>\n",
       "      <td>0</td>\n",
       "      <td>0</td>\n",
       "      <td>0</td>\n",
       "      <td>0</td>\n",
       "      <td>1</td>\n",
       "      <td>1</td>\n",
       "      <td>2.0</td>\n",
       "      <td>0</td>\n",
       "      <td>0</td>\n",
       "    </tr>\n",
       "    <tr>\n",
       "      <th>18</th>\n",
       "      <td>D2dc0d6f0-2160-421b-8bdf-0fb260950e04</td>\n",
       "      <td>HIXOPCCPFV</td>\n",
       "      <td>2.0</td>\n",
       "      <td>9.0</td>\n",
       "      <td>81</td>\n",
       "      <td>1</td>\n",
       "      <td>1</td>\n",
       "      <td>0</td>\n",
       "      <td>1</td>\n",
       "      <td>4.0</td>\n",
       "      <td>...</td>\n",
       "      <td>0</td>\n",
       "      <td>0</td>\n",
       "      <td>0</td>\n",
       "      <td>0</td>\n",
       "      <td>0</td>\n",
       "      <td>0</td>\n",
       "      <td>1</td>\n",
       "      <td>NaN</td>\n",
       "      <td>0</td>\n",
       "      <td>0</td>\n",
       "    </tr>\n",
       "  </tbody>\n",
       "</table>\n",
       "<p>5 rows × 126 columns</p>\n",
       "</div>"
      ],
      "text/plain": [
       "                              PUF_CASE_ID PUF_FACILITY_ID  FACILITY_TYPE_CD  \\\n",
       "7   Ddd391a23-a24e-4cc2-bb8f-722d75cb44ab      AQGTAXQUGM               2.0   \n",
       "8   D5383f9e2-76b0-48f6-b820-1a375f274b36      LVMXOQOZBB               3.0   \n",
       "12  D49ae77af-8319-4805-a13c-b7070a1ba25d      BTFNKIQFXQ               3.0   \n",
       "14  Dfd47ceb1-8ecf-42ef-8b66-17c87587cc96      IOEYAMIRQV               3.0   \n",
       "18  D2dc0d6f0-2160-421b-8bdf-0fb260950e04      HIXOPCCPFV               2.0   \n",
       "\n",
       "    FACILITY_LOCATION_CD  AGE  SEX  RACE  SPANISH_HISPANIC_ORIGIN  \\\n",
       "7                    9.0   90    2     1                        0   \n",
       "8                    3.0   71    1     1                        0   \n",
       "12                   4.0   87    1     1                        0   \n",
       "14                   6.0   43    1     1                        0   \n",
       "18                   9.0   81    1     1                        0   \n",
       "\n",
       "    INSURANCE_STATUS  MED_INC_QUAR_00  ...  RX_HOSP_SURG_PRIM_SITE  \\\n",
       "7                  3              4.0  ...                       0   \n",
       "8                  1              3.0  ...                      27   \n",
       "12                 3              NaN  ...                      20   \n",
       "14                 1              4.0  ...                       0   \n",
       "18                 1              4.0  ...                       0   \n",
       "\n",
       "    RX_HOSP_CHEMO  RX_HOSP_IMMUNOTHERAPY  RX_HOSP_HORMONE  RX_HOSP_OTHER  \\\n",
       "7               0                      0                0              0   \n",
       "8               0                      0                0              0   \n",
       "12              0                      0                0              0   \n",
       "14              0                      0                0              0   \n",
       "18              0                      0                0              0   \n",
       "\n",
       "    PUF_MULT_SOURCE  PUF_REFERENCE_DATE_FLAG  RX_SUMM_SCOPE_REG_LN_2012  \\\n",
       "7                 0                        1                        NaN   \n",
       "8                 0                        1                        NaN   \n",
       "12                1                        1                        NaN   \n",
       "14                1                        1                        2.0   \n",
       "18                0                        1                        NaN   \n",
       "\n",
       "    RX_HOSP_DXSTG_PROC  PALLIATIVE_CARE_HOSP  \n",
       "7                    0                     0  \n",
       "8                    0                     0  \n",
       "12                   0                     0  \n",
       "14                   0                     0  \n",
       "18                   0                     0  \n",
       "\n",
       "[5 rows x 126 columns]"
      ]
     },
     "execution_count": 7,
     "metadata": {},
     "output_type": "execute_result"
    }
   ],
   "source": [
    "# PUF_CASE_ID = id number\n",
    "# PUF FACIILITY ID = de-identified cancer site.\n",
    "# FACILITY TYPE = type of location ... not avail for everyone\n",
    "NCDB.head()"
   ]
  },
  {
   "cell_type": "markdown",
   "metadata": {},
   "source": [
    "## Features of interest: tumor characteristics\n",
    "- Primary Site on body\n",
    "- LYMPH_VASCULAR_INVASION \n",
    "- CS_Tumor_Size (width in mm)\n",
    "- CS Site Specific Factor 1 (depth in mm)\n",
    "- CS Site Specific Factor 20 (lymphocytes)\n",
    "- CS Site Specific Factor 22 (immuno)\n",
    "- also include Age, Sex\n"
   ]
  },
  {
   "cell_type": "markdown",
   "metadata": {},
   "source": [
    "#### Recode PRIMARY_SITE to tumor_site\n",
    "\n",
    "Primary site of lesion\n",
    " - Head and neck = C440, C441, C442, C444 \n",
    " - Trunk = C445 \n",
    " -  Extremity = C446, C447\n",
    " - Other = Everything else\n",
    " -  datatype: categorical\n"
   ]
  },
  {
   "cell_type": "code",
   "execution_count": 8,
   "metadata": {},
   "outputs": [
    {
     "data": {
      "text/html": [
       "<div>\n",
       "<style scoped>\n",
       "    .dataframe tbody tr th:only-of-type {\n",
       "        vertical-align: middle;\n",
       "    }\n",
       "\n",
       "    .dataframe tbody tr th {\n",
       "        vertical-align: top;\n",
       "    }\n",
       "\n",
       "    .dataframe thead th {\n",
       "        text-align: right;\n",
       "    }\n",
       "</style>\n",
       "<table border=\"1\" class=\"dataframe\">\n",
       "  <thead>\n",
       "    <tr style=\"text-align: right;\">\n",
       "      <th></th>\n",
       "      <th>tumor_site</th>\n",
       "      <th>N</th>\n",
       "    </tr>\n",
       "  </thead>\n",
       "  <tbody>\n",
       "    <tr>\n",
       "      <th>0</th>\n",
       "      <td>extremity</td>\n",
       "      <td>5917</td>\n",
       "    </tr>\n",
       "    <tr>\n",
       "      <th>1</th>\n",
       "      <td>head_neck</td>\n",
       "      <td>2440</td>\n",
       "    </tr>\n",
       "    <tr>\n",
       "      <th>2</th>\n",
       "      <td>other</td>\n",
       "      <td>5072</td>\n",
       "    </tr>\n",
       "    <tr>\n",
       "      <th>3</th>\n",
       "      <td>trunk</td>\n",
       "      <td>1519</td>\n",
       "    </tr>\n",
       "  </tbody>\n",
       "</table>\n",
       "</div>"
      ],
      "text/plain": [
       "  tumor_site     N\n",
       "0  extremity  5917\n",
       "1  head_neck  2440\n",
       "2      other  5072\n",
       "3      trunk  1519"
      ]
     },
     "execution_count": 8,
     "metadata": {},
     "output_type": "execute_result"
    }
   ],
   "source": [
    "# recode variable: primary site \n",
    "def recode_site(var):\n",
    "    if (var == 'C440') | (var == 'C441') | (var == 'C442') | (var == 'C444'):\n",
    "        recode_var = 'head_neck'\n",
    "    elif (var == 'C445'):\n",
    "        recode_var = 'trunk'\n",
    "    elif (var == 'C446') | (var == 'C447'):\n",
    "        recode_var = 'extremity'\n",
    "    else:\n",
    "        recode_var = 'other'\n",
    "    return recode_var\n",
    "\n",
    "# apply rercoding  and convert to categorical variable\n",
    "NCDB['tumor_site'] = NCDB.PRIMARY_SITE.map(recode_site).astype('category')\n",
    "N_table(NCDB, 'tumor_site')"
   ]
  },
  {
   "cell_type": "markdown",
   "metadata": {},
   "source": [
    "#### Recode LYMPH_VASCULAR_INVASION to lymph_vasc_invasion\n",
    "\n",
    "0=No, 1= Yes, 8 or 9 =no information, recode to NA"
   ]
  },
  {
   "cell_type": "code",
   "execution_count": 9,
   "metadata": {},
   "outputs": [
    {
     "data": {
      "text/html": [
       "<div>\n",
       "<style scoped>\n",
       "    .dataframe tbody tr th:only-of-type {\n",
       "        vertical-align: middle;\n",
       "    }\n",
       "\n",
       "    .dataframe tbody tr th {\n",
       "        vertical-align: top;\n",
       "    }\n",
       "\n",
       "    .dataframe thead th {\n",
       "        text-align: right;\n",
       "    }\n",
       "</style>\n",
       "<table border=\"1\" class=\"dataframe\">\n",
       "  <thead>\n",
       "    <tr style=\"text-align: right;\">\n",
       "      <th></th>\n",
       "      <th>lymph_vasc_invasion</th>\n",
       "      <th>N</th>\n",
       "    </tr>\n",
       "  </thead>\n",
       "  <tbody>\n",
       "    <tr>\n",
       "      <th>0</th>\n",
       "      <td>0.0</td>\n",
       "      <td>3139</td>\n",
       "    </tr>\n",
       "    <tr>\n",
       "      <th>1</th>\n",
       "      <td>1.0</td>\n",
       "      <td>1783</td>\n",
       "    </tr>\n",
       "    <tr>\n",
       "      <th>2</th>\n",
       "      <td>NaN</td>\n",
       "      <td>10026</td>\n",
       "    </tr>\n",
       "  </tbody>\n",
       "</table>\n",
       "</div>"
      ],
      "text/plain": [
       "   lymph_vasc_invasion      N\n",
       "0                  0.0   3139\n",
       "1                  1.0   1783\n",
       "2                  NaN  10026"
      ]
     },
     "execution_count": 9,
     "metadata": {},
     "output_type": "execute_result"
    }
   ],
   "source": [
    "# recode variable: mark 8 and 9 as None / Null / NaN\n",
    "NCDB['lymph_vasc_invasion'] = NCDB.LYMPH_VASCULAR_INVASION.replace([8,9], np.nan)\n",
    "N_table(NCDB, 'lymph_vasc_invasion')\n",
    "# *** PROBLEM: ALOT OF MISSING DATA !"
   ]
  },
  {
   "cell_type": "markdown",
   "metadata": {},
   "source": [
    "#### Recode CS_SITESPECIFIC_FACTOR_1 to tumor_depth\n",
    "\n",
    "Measured thickness (depth) of tumor, continuous\n",
    "\n",
    "- 0 = no mass found... recode to NA, or leave as zero?\n",
    "- 00.1-979 = 0.1 mm - 97.9 mm measurements \n",
    "- 98.0 = 98.0mm or larger \n",
    "- 98.8/99.0/99.8/99.9 = Not applicable... recode to NA \n",
    "- infering that 98.7 and 88.8 are also  Not applicable, recoded to NA.\n",
    "\n",
    " see http://web2.facs.org/cstage0205/merkelcellskin/MerkelCellSkin_jpt.html)\n",
    " "
   ]
  },
  {
   "cell_type": "code",
   "execution_count": 10,
   "metadata": {},
   "outputs": [
    {
     "name": "stdout",
     "output_type": "stream",
     "text": [
      "Tumor depth provided: 3460\n",
      "No mass found (Zero): 253\n",
      "Not valid data (NaN): 11235\n"
     ]
    },
    {
     "data": {
      "text/plain": [
       "count    3713.000000\n",
       "mean        7.990250\n",
       "std        14.397075\n",
       "min         0.000000\n",
       "25%         1.000000\n",
       "50%         3.000000\n",
       "75%         9.000000\n",
       "max        98.000000\n",
       "Name: tumor_depth, dtype: float64"
      ]
     },
     "execution_count": 10,
     "metadata": {},
     "output_type": "execute_result"
    }
   ],
   "source": [
    "# replace invalid with NA\n",
    "NCDB['tumor_depth'] = NCDB.CS_SITESPECIFIC_FACTOR_1.\\\n",
    "replace([988.0, 990.0,998.0, 999.0, 888, 987], np.nan)# becomes NaN\n",
    "\n",
    "# convert units to mm\n",
    "NCDB['tumor_depth'] = NCDB.tumor_depth/10\n",
    "\n",
    "# compute valid data metrics \n",
    "valid = (NCDB.tumor_depth > 0) & (NCDB.tumor_depth <= 98.0)\n",
    "print(\"Tumor depth provided: {}\".format(sum(valid)))\n",
    "print(\"No mass found (Zero): {}\".format(sum(NCDB.tumor_depth == 0)))\n",
    "print(\"Not valid data (NaN): {}\".format(NCDB.tumor_depth.isnull().sum()))\n",
    "\n",
    "NCDB.tumor_depth.describe()"
   ]
  },
  {
   "cell_type": "markdown",
   "metadata": {},
   "source": [
    "#### Recoding CS_SITESPECIFIC_FACTOR_20 to tumor_lymphocytes\n",
    "\n",
    "Tumor infiltrating lymphocytes, categorical \n",
    "- 000 = negative\n",
    "- 010 = weakly present\n",
    "- 020 = strongly present\n",
    "- 030 = present -  but no information on how strong\n",
    "- 988, 998, 999 - Not available, recode to NA\n",
    "\n",
    "recding into binary >0 positive \n",
    "\n",
    "http://web2.facs.org/cstage0205/merkelcellskin/MerkelCellSkin_sra.html\n"
   ]
  },
  {
   "cell_type": "code",
   "execution_count": 11,
   "metadata": {},
   "outputs": [
    {
     "data": {
      "text/html": [
       "<div>\n",
       "<style scoped>\n",
       "    .dataframe tbody tr th:only-of-type {\n",
       "        vertical-align: middle;\n",
       "    }\n",
       "\n",
       "    .dataframe tbody tr th {\n",
       "        vertical-align: top;\n",
       "    }\n",
       "\n",
       "    .dataframe thead th {\n",
       "        text-align: right;\n",
       "    }\n",
       "</style>\n",
       "<table border=\"1\" class=\"dataframe\">\n",
       "  <thead>\n",
       "    <tr style=\"text-align: right;\">\n",
       "      <th></th>\n",
       "      <th>tumor_lymphocytes</th>\n",
       "      <th>N</th>\n",
       "    </tr>\n",
       "  </thead>\n",
       "  <tbody>\n",
       "    <tr>\n",
       "      <th>0</th>\n",
       "      <td>0</td>\n",
       "      <td>1875</td>\n",
       "    </tr>\n",
       "    <tr>\n",
       "      <th>1</th>\n",
       "      <td>1</td>\n",
       "      <td>813</td>\n",
       "    </tr>\n",
       "    <tr>\n",
       "      <th>2</th>\n",
       "      <td>&lt;NA&gt;</td>\n",
       "      <td>12260</td>\n",
       "    </tr>\n",
       "  </tbody>\n",
       "</table>\n",
       "</div>"
      ],
      "text/plain": [
       "  tumor_lymphocytes      N\n",
       "0                 0   1875\n",
       "1                 1    813\n",
       "2              <NA>  12260"
      ]
     },
     "execution_count": 11,
     "metadata": {},
     "output_type": "execute_result"
    }
   ],
   "source": [
    "# replace 988 and 999 and 998 with NAs and convert \n",
    "NCDB['tumor_lymphocytes'] = NCDB.CS_SITESPECIFIC_FACTOR_20.\\\n",
    "replace([998.0, 988.0, 999.0], np.nan).\\\n",
    "apply(lambda x: x if math.isnan(x) else x>0).\\\n",
    "replace({True: 1, False: 0}).astype('Int32')\n",
    "\n",
    "N_table(NCDB, 'tumor_lymphocytes')\n",
    "#** CANT GET RID OF 988"
   ]
  },
  {
   "cell_type": "markdown",
   "metadata": {},
   "source": [
    "#### Recoding CS_SITESPECIFIC_FACTOR_22 to immuno_suppressed\n",
    "\n",
    "Immunosuppression, binarize\n",
    "- 000 = negative\n",
    "- 988 or 999 = no information, recode to NA\n",
    "- anything else = positive\n",
    "\n",
    "http://web2.facs.org/cstage0205/merkelcellskin/MerkelCellSkin_src.html"
   ]
  },
  {
   "cell_type": "code",
   "execution_count": 12,
   "metadata": {},
   "outputs": [],
   "source": [
    "# replace 988 and 999 and 998 with NAs \n",
    "NCDB['CS_SITESPECIFIC_FACTOR_22_R'] = NCDB.CS_SITESPECIFIC_FACTOR_22.\\\n",
    "replace([998, 988, 999.0],  np.nan)\n",
    "#** CANT GET RID OF 988"
   ]
  },
  {
   "cell_type": "code",
   "execution_count": 13,
   "metadata": {},
   "outputs": [
    {
     "data": {
      "text/html": [
       "<div>\n",
       "<style scoped>\n",
       "    .dataframe tbody tr th:only-of-type {\n",
       "        vertical-align: middle;\n",
       "    }\n",
       "\n",
       "    .dataframe tbody tr th {\n",
       "        vertical-align: top;\n",
       "    }\n",
       "\n",
       "    .dataframe thead th {\n",
       "        text-align: right;\n",
       "    }\n",
       "</style>\n",
       "<table border=\"1\" class=\"dataframe\">\n",
       "  <thead>\n",
       "    <tr style=\"text-align: right;\">\n",
       "      <th></th>\n",
       "      <th>immuno_suppressed</th>\n",
       "      <th>N</th>\n",
       "    </tr>\n",
       "  </thead>\n",
       "  <tbody>\n",
       "    <tr>\n",
       "      <th>0</th>\n",
       "      <td>0</td>\n",
       "      <td>4113</td>\n",
       "    </tr>\n",
       "    <tr>\n",
       "      <th>1</th>\n",
       "      <td>1</td>\n",
       "      <td>524</td>\n",
       "    </tr>\n",
       "    <tr>\n",
       "      <th>2</th>\n",
       "      <td>&lt;NA&gt;</td>\n",
       "      <td>10311</td>\n",
       "    </tr>\n",
       "  </tbody>\n",
       "</table>\n",
       "</div>"
      ],
      "text/plain": [
       "  immuno_suppressed      N\n",
       "0                 0   4113\n",
       "1                 1    524\n",
       "2              <NA>  10311"
      ]
     },
     "execution_count": 13,
     "metadata": {},
     "output_type": "execute_result"
    }
   ],
   "source": [
    "# make binary whether positive or negative \n",
    "NCDB['immuno_suppressed'] = NCDB.CS_SITESPECIFIC_FACTOR_22_R.\\\n",
    "apply(lambda x: x if math.isnan(x) else x>0).\\\n",
    "replace({True: 1, False: 0}).astype('Int32')\n",
    "N_table(NCDB, 'immuno_suppressed')"
   ]
  },
  {
   "cell_type": "markdown",
   "metadata": {},
   "source": [
    "#### RECODING TUMOR_SIZE to tumor_size_bins_cm\n",
    "\n",
    "Tumor size, but this changed in newest data version...\n",
    "- 000 = no mass found \n",
    "- 001-988 = exact size in mm ... but move decimal.\n",
    "- 989 = 989 mm or larger\n",
    "- 990  = foci only, no size given\n",
    "- 991 = less than 1 cm (10 mm)\n",
    "- 992 = between 1-2 cm \n",
    "- 993 = between 2-3 cm \n",
    "- 994 = between 3-4 cm\n",
    "- 995 = between 4-5 cm \n",
    "- 996 = greater than 5cm (50 mm)\n",
    "- 999 = No info available \n",
    "\n",
    "Recode to bins of 10 mm, 1 cm \n",
    "- 0 (no mass) \n",
    "- 991 or < 10mm = less than 1 cm\n",
    "- 992 or < 20mm = <2 cm\n",
    "- 993 or < 30 mm = <3 cm\n",
    "- 994 or < 40 mm = <4 cm\n",
    "- 995 or < 50 mm = <5 cm\n",
    "- 996 or > 50 mm or  989 = > 5 cm \n",
    "- 990 and 999 = NaN\n",
    "\n",
    "\n",
    "see http://web2.facs.org/cstage0205/merkelcellskin/MerkelCellSkin_apo.html)"
   ]
  },
  {
   "cell_type": "code",
   "execution_count": 14,
   "metadata": {},
   "outputs": [
    {
     "data": {
      "text/plain": [
       "1.0    10034\n",
       "NaN     3521\n",
       "2.0      629\n",
       "0.0      520\n",
       "5.0       99\n",
       "3.0       91\n",
       "4.0       28\n",
       "6.0       26\n",
       "Name: tumor_size_bins_cm, dtype: int64"
      ]
     },
     "execution_count": 14,
     "metadata": {},
     "output_type": "execute_result"
    }
   ],
   "source": [
    "# recode variable: primary size, in cm\n",
    "def recode_size(var):\n",
    "    if (var == 0):\n",
    "        recode_var = 0\n",
    "    elif (var == 991) | (var < 100):\n",
    "        recode_var = 1\n",
    "    elif (var == 992) | (var < 200):\n",
    "        recode_var = 2\n",
    "    elif (var == 993) | (var < 300):\n",
    "        recode_var = 3\n",
    "    elif (var == 994)  | (var < 400):\n",
    "        recode_var = 4\n",
    "    elif (var == 995) | (var < 500):\n",
    "        recode_var = 5\n",
    "    elif(var == 996) | (var < 990):\n",
    "        recode_var = 6 # but this really means 6 +\n",
    "    else:\n",
    "        recode_var = None\n",
    "    return recode_var\n",
    "\n",
    "# apply rercoding  and convert to categorical variable\n",
    "NCDB['tumor_size_bins_cm'] = NCDB['TUMOR_SIZE'].map(recode_size)\n",
    "NCDB['tumor_size_bins_cm'].value_counts(dropna=False)"
   ]
  },
  {
   "cell_type": "markdown",
   "metadata": {},
   "source": [
    "#### Demographic variables"
   ]
  },
  {
   "cell_type": "code",
   "execution_count": 15,
   "metadata": {},
   "outputs": [
    {
     "data": {
      "text/plain": [
       "count    14948.000000\n",
       "mean        74.221702\n",
       "std         10.998389\n",
       "min         21.000000\n",
       "25%         67.000000\n",
       "50%         76.000000\n",
       "75%         83.000000\n",
       "max         90.000000\n",
       "Name: AGE, dtype: float64"
      ]
     },
     "execution_count": 15,
     "metadata": {},
     "output_type": "execute_result"
    }
   ],
   "source": [
    "# all plausible values.\n",
    "NCDB.AGE.describe()"
   ]
  },
  {
   "cell_type": "code",
   "execution_count": 16,
   "metadata": {},
   "outputs": [
    {
     "data": {
      "text/html": [
       "<div>\n",
       "<style scoped>\n",
       "    .dataframe tbody tr th:only-of-type {\n",
       "        vertical-align: middle;\n",
       "    }\n",
       "\n",
       "    .dataframe tbody tr th {\n",
       "        vertical-align: top;\n",
       "    }\n",
       "\n",
       "    .dataframe thead th {\n",
       "        text-align: right;\n",
       "    }\n",
       "</style>\n",
       "<table border=\"1\" class=\"dataframe\">\n",
       "  <thead>\n",
       "    <tr style=\"text-align: right;\">\n",
       "      <th></th>\n",
       "      <th>SEX</th>\n",
       "      <th>N</th>\n",
       "    </tr>\n",
       "  </thead>\n",
       "  <tbody>\n",
       "    <tr>\n",
       "      <th>0</th>\n",
       "      <td>1</td>\n",
       "      <td>9431</td>\n",
       "    </tr>\n",
       "    <tr>\n",
       "      <th>1</th>\n",
       "      <td>2</td>\n",
       "      <td>5517</td>\n",
       "    </tr>\n",
       "  </tbody>\n",
       "</table>\n",
       "</div>"
      ],
      "text/plain": [
       "   SEX     N\n",
       "0    1  9431\n",
       "1    2  5517"
      ]
     },
     "execution_count": 16,
     "metadata": {},
     "output_type": "execute_result"
    }
   ],
   "source": [
    "# 1 = male, 2 = female \n",
    "N_table(NCDB, 'SEX')"
   ]
  },
  {
   "cell_type": "markdown",
   "metadata": {},
   "source": [
    "\n",
    "## Outcome variables of interest\n",
    "Metastasis of cancer - positive reading in lymph node biopsy\n",
    "\n",
    "Based on two variables:\n",
    "- Regional Nodes Postive = number of positive lymph nodes\n",
    "- CS_SIITESPECIFIC_FACTOR_3 = clinical status of lymph node mets"
   ]
  },
  {
   "cell_type": "markdown",
   "metadata": {},
   "source": [
    "#### Recoding REGIONAL_NODES_POSITIVE to regional_nodes_positive_bin\n",
    "\n",
    "- 00 = all nodes are negative, recode to positive\n",
    "- 01-89 =  exact # of positive nodes, recode to postive\n",
    "- 90 = more than 90 nodes are positive, recode to positive\n",
    "- 95 = positive aspiration of lymph nodes was performed, recode to positive\n",
    "- 97 = positive nodes, but # unspecified, recode to positive\n",
    "- 98 = no nodes were examined, recoded to NaN\n",
    "- 99 = not applicable, recode to NaN\n",
    "\n",
    "Recode to binary variable, where 1 = positive regional nodes, 9 = negative regional nodes"
   ]
  },
  {
   "cell_type": "code",
   "execution_count": 17,
   "metadata": {},
   "outputs": [
    {
     "data": {
      "text/plain": [
       "count    14948.000000\n",
       "mean        41.748261\n",
       "std         47.684039\n",
       "min          0.000000\n",
       "25%          0.000000\n",
       "50%          2.000000\n",
       "75%         98.000000\n",
       "max         99.000000\n",
       "Name: REGIONAL_NODES_POSITIVE, dtype: float64"
      ]
     },
     "execution_count": 17,
     "metadata": {},
     "output_type": "execute_result"
    }
   ],
   "source": [
    "# raw variable = number of positive lymph nodes detected in surgery \n",
    "NCDB.REGIONAL_NODES_POSITIVE.describe()"
   ]
  },
  {
   "cell_type": "code",
   "execution_count": 18,
   "metadata": {},
   "outputs": [
    {
     "data": {
      "text/html": [
       "<div>\n",
       "<style scoped>\n",
       "    .dataframe tbody tr th:only-of-type {\n",
       "        vertical-align: middle;\n",
       "    }\n",
       "\n",
       "    .dataframe tbody tr th {\n",
       "        vertical-align: top;\n",
       "    }\n",
       "\n",
       "    .dataframe thead th {\n",
       "        text-align: right;\n",
       "    }\n",
       "</style>\n",
       "<table border=\"1\" class=\"dataframe\">\n",
       "  <thead>\n",
       "    <tr style=\"text-align: right;\">\n",
       "      <th></th>\n",
       "      <th>regional_nodes_positive_bin</th>\n",
       "      <th>N</th>\n",
       "    </tr>\n",
       "  </thead>\n",
       "  <tbody>\n",
       "    <tr>\n",
       "      <th>0</th>\n",
       "      <td>0</td>\n",
       "      <td>4862</td>\n",
       "    </tr>\n",
       "    <tr>\n",
       "      <th>1</th>\n",
       "      <td>1</td>\n",
       "      <td>4129</td>\n",
       "    </tr>\n",
       "    <tr>\n",
       "      <th>2</th>\n",
       "      <td>&lt;NA&gt;</td>\n",
       "      <td>5957</td>\n",
       "    </tr>\n",
       "  </tbody>\n",
       "</table>\n",
       "</div>"
      ],
      "text/plain": [
       "  regional_nodes_positive_bin     N\n",
       "0                           0  4862\n",
       "1                           1  4129\n",
       "2                        <NA>  5957"
      ]
     },
     "execution_count": 18,
     "metadata": {},
     "output_type": "execute_result"
    }
   ],
   "source": [
    "# make a binary variable.\n",
    "NCDB['regional_nodes_positive_bin'] = NCDB.REGIONAL_NODES_POSITIVE.\\\n",
    "replace([99, 98], np.nan).\\\n",
    "apply(lambda x: x if math.isnan(x) else x>0).\\\n",
    "replace({True: 1, False: 0}).astype('Int32')\n",
    "\n",
    "# ** MISSING A LOT OF DATA \n",
    "N_table(NCDB, 'regional_nodes_positive_bin')"
   ]
  },
  {
   "cell_type": "markdown",
   "metadata": {},
   "source": [
    "#### Recode CS_SITESPECIFIC_FACTOR_3 to lymph_node_mets_bin\n",
    "\n",
    "- 0 = no mets, negative\n",
    "-  5 = clinically negative mets, recode as negative\n",
    "- 10 = micro-mets, positive cases from biopsy\n",
    "- 20 = macro-mets, exclude from consideration (NA) because positive case without biospsy needed\n",
    "- 100 = spreading mets, exclude from consideration (NA) because positive case without biospsy needed\n",
    "- 150 = spreadingg more , exclude from consideration (NA)because positive case without biospsy needed\n",
    "- 888, 988, 999 = not applicable, convert to NA\n",
    "\n",
    "\n",
    "http://web2.facs.org/cstage0205/merkelcellskin/MerkelCellSkin_lpq.html\n"
   ]
  },
  {
   "cell_type": "code",
   "execution_count": 19,
   "metadata": {},
   "outputs": [
    {
     "data": {
      "text/plain": [
       "988.0    5385\n",
       "5.0      4027\n",
       "20.0     1828\n",
       "0.0      1258\n",
       "999.0    1141\n",
       "10.0      851\n",
       "888.0     302\n",
       "150.0      92\n",
       "100.0      49\n",
       "998.0      15\n",
       "Name: CS_SITESPECIFIC_FACTOR_3, dtype: int64"
      ]
     },
     "execution_count": 19,
     "metadata": {},
     "output_type": "execute_result"
    }
   ],
   "source": [
    "# raw variable = \n",
    "NCDB.CS_SITESPECIFIC_FACTOR_3.value_counts(dropna = False)"
   ]
  },
  {
   "cell_type": "code",
   "execution_count": 20,
   "metadata": {},
   "outputs": [
    {
     "data": {
      "text/html": [
       "<div>\n",
       "<style scoped>\n",
       "    .dataframe tbody tr th:only-of-type {\n",
       "        vertical-align: middle;\n",
       "    }\n",
       "\n",
       "    .dataframe tbody tr th {\n",
       "        vertical-align: top;\n",
       "    }\n",
       "\n",
       "    .dataframe thead th {\n",
       "        text-align: right;\n",
       "    }\n",
       "</style>\n",
       "<table border=\"1\" class=\"dataframe\">\n",
       "  <thead>\n",
       "    <tr style=\"text-align: right;\">\n",
       "      <th></th>\n",
       "      <th>lymph_node_mets_bin</th>\n",
       "      <th>N</th>\n",
       "    </tr>\n",
       "  </thead>\n",
       "  <tbody>\n",
       "    <tr>\n",
       "      <th>0</th>\n",
       "      <td>0.0</td>\n",
       "      <td>5285</td>\n",
       "    </tr>\n",
       "    <tr>\n",
       "      <th>1</th>\n",
       "      <td>1.0</td>\n",
       "      <td>851</td>\n",
       "    </tr>\n",
       "    <tr>\n",
       "      <th>2</th>\n",
       "      <td>NaN</td>\n",
       "      <td>8812</td>\n",
       "    </tr>\n",
       "  </tbody>\n",
       "</table>\n",
       "</div>"
      ],
      "text/plain": [
       "   lymph_node_mets_bin     N\n",
       "0                  0.0  5285\n",
       "1                  1.0   851\n",
       "2                  NaN  8812"
      ]
     },
     "execution_count": 20,
     "metadata": {},
     "output_type": "execute_result"
    }
   ],
   "source": [
    "# make a binary variable, metastasis present or absent.\n",
    "NCDB['lymph_node_mets_bin'] = NCDB.CS_SITESPECIFIC_FACTOR_3.\\\n",
    "replace([888, 988, 999, 998, 997, 20,  100, 150], np.nan).\\\n",
    "apply(lambda x: x if math.isnan(x) else (x > 5)).\\\n",
    "replace({True: 1, False: 0})\n",
    "\n",
    "N_table(NCDB, 'lymph_node_mets_bin')"
   ]
  },
  {
   "cell_type": "markdown",
   "metadata": {},
   "source": [
    "#### recode CS_SITESPECIFIC_FACTOR_18 to regional_lymph_nodes_ITC\n",
    "\n",
    "tie-breaker variable for  ambigous cases\n",
    "\n",
    "Isolated  tumor cells identified in regional lymph nodes?\n",
    "- 000 = nodes clinically negative, not examined -   negative\n",
    "-10 = ITC not present, negative \n",
    "- 20 = ITC present, positive \n",
    "- 90 - positive\n",
    "-100 - positive\n",
    "-200 - positive\n",
    "- 300 - positive \n",
    "-988, 999- NA"
   ]
  },
  {
   "cell_type": "code",
   "execution_count": 21,
   "metadata": {},
   "outputs": [
    {
     "data": {
      "text/plain": [
       "0.0      5188\n",
       "999.0    4335\n",
       "988.0    2260\n",
       "300.0    1340\n",
       "10.0      798\n",
       "100.0     313\n",
       "NaN       302\n",
       "200.0     219\n",
       "20.0      117\n",
       "90.0       76\n",
       "Name: CS_SITESPECIFIC_FACTOR_18, dtype: int64"
      ]
     },
     "execution_count": 21,
     "metadata": {},
     "output_type": "execute_result"
    }
   ],
   "source": [
    "NCDB.CS_SITESPECIFIC_FACTOR_18.value_counts(dropna = False)"
   ]
  },
  {
   "cell_type": "code",
   "execution_count": 22,
   "metadata": {},
   "outputs": [
    {
     "data": {
      "text/html": [
       "<div>\n",
       "<style scoped>\n",
       "    .dataframe tbody tr th:only-of-type {\n",
       "        vertical-align: middle;\n",
       "    }\n",
       "\n",
       "    .dataframe tbody tr th {\n",
       "        vertical-align: top;\n",
       "    }\n",
       "\n",
       "    .dataframe thead th {\n",
       "        text-align: right;\n",
       "    }\n",
       "</style>\n",
       "<table border=\"1\" class=\"dataframe\">\n",
       "  <thead>\n",
       "    <tr style=\"text-align: right;\">\n",
       "      <th></th>\n",
       "      <th>regional_nodes_ITC_bin</th>\n",
       "      <th>N</th>\n",
       "    </tr>\n",
       "  </thead>\n",
       "  <tbody>\n",
       "    <tr>\n",
       "      <th>0</th>\n",
       "      <td>0.0</td>\n",
       "      <td>5986</td>\n",
       "    </tr>\n",
       "    <tr>\n",
       "      <th>1</th>\n",
       "      <td>1.0</td>\n",
       "      <td>2065</td>\n",
       "    </tr>\n",
       "    <tr>\n",
       "      <th>2</th>\n",
       "      <td>NaN</td>\n",
       "      <td>6897</td>\n",
       "    </tr>\n",
       "  </tbody>\n",
       "</table>\n",
       "</div>"
      ],
      "text/plain": [
       "   regional_nodes_ITC_bin     N\n",
       "0                     0.0  5986\n",
       "1                     1.0  2065\n",
       "2                     NaN  6897"
      ]
     },
     "execution_count": 22,
     "metadata": {},
     "output_type": "execute_result"
    }
   ],
   "source": [
    "NCDB['regional_nodes_ITC_bin'] = NCDB.CS_SITESPECIFIC_FACTOR_18.\\\n",
    "replace([ 988, 999], np.nan).\\\n",
    "apply(lambda x: x if math.isnan(x) else (x >= 20 )).\\\n",
    "replace({True: 1, False: 0}) #.astype('Int32')\n",
    "\n",
    "N_table(NCDB, 'regional_nodes_ITC_bin')"
   ]
  },
  {
   "cell_type": "markdown",
   "metadata": {},
   "source": [
    "## Evaluate data for missingness\n",
    "Subset the data for only features that we care about"
   ]
  },
  {
   "cell_type": "code",
   "execution_count": 23,
   "metadata": {},
   "outputs": [],
   "source": [
    "# select features and outcome variable\n",
    "NCDB1 = NCDB[['AGE', 'SEX', 'tumor_size_bins_cm', 'tumor_site', \n",
    "                    'immuno_suppressed', 'tumor_lymphocytes',\n",
    "                     'lymph_vasc_invasion', 'tumor_depth',\n",
    "                      'regional_nodes_positive_bin', \n",
    "                     'regional_nodes_ITC_bin', 'lymph_node_mets_bin' ]]\n"
   ]
  },
  {
   "cell_type": "markdown",
   "metadata": {},
   "source": [
    "Drop rows where patients have NA for outcome variables.\n"
   ]
  },
  {
   "cell_type": "code",
   "execution_count": 24,
   "metadata": {},
   "outputs": [
    {
     "name": "stdout",
     "output_type": "stream",
     "text": [
      "Missingness of outcomes:\n",
      "Removed 8812 missing rows for lymph node mets = NA \n",
      "Left with 6136 rows\n",
      "Removed 2416 missing rows for regional nodes positive  = NA\n",
      "Left with 3720 rows\n",
      "Removed 524 missing rows for regional nodes ITC  = NA\n",
      "Left with 3196 rows\n"
     ]
    }
   ],
   "source": [
    "print(\"Missingness of outcomes:\")\n",
    "NCDB2  = NCDB1[(NCDB1.lymph_node_mets_bin.isnull() == False)]\n",
    "print(\"Removed {} missing rows for lymph node mets = NA \".format(NCDB.shape[0] - NCDB2.shape[0]))\n",
    "print(\"Left with {} rows\".format(NCDB2.shape[0]))\n",
    "\n",
    "NCDB3 = NCDB2[(NCDB2.regional_nodes_positive_bin.isnull() == False)]\n",
    "print(\"Removed {} missing rows for regional nodes positive  = NA\".format(NCDB2.shape[0] - NCDB3.shape[0]))\n",
    "print(\"Left with {} rows\".format(NCDB3.shape[0]))\n",
    "\n",
    "NCDB4 = NCDB3[(NCDB3.regional_nodes_ITC_bin.isnull() == False)]\n",
    "print(\"Removed {} missing rows for regional nodes ITC  = NA\".format(NCDB3.shape[0] - NCDB4.shape[0]))\n",
    "print(\"Left with {} rows\".format(NCDB4.shape[0]))"
   ]
  },
  {
   "cell_type": "markdown",
   "metadata": {},
   "source": [
    "## Coding primary outcome of positive_metastasis:\n",
    "\n",
    "From Wes:\n",
    "- Negative = 000 or 005 in the CS_SITESPECIFIC_FACTOR_3 column AND 00 in Regional Nodes Positive Column\n",
    "- Positive = 010 in CS_SITESPECIFIC_FACTOR_3 column AND not 00 in Regional Nodes Positive column\n",
    "- tie breaker = if regional lymph nodes ITC (positive in histology) is positive\n"
   ]
  },
  {
   "cell_type": "code",
   "execution_count": 25,
   "metadata": {},
   "outputs": [
    {
     "data": {
      "text/html": [
       "<div>\n",
       "<style scoped>\n",
       "    .dataframe tbody tr th:only-of-type {\n",
       "        vertical-align: middle;\n",
       "    }\n",
       "\n",
       "    .dataframe tbody tr th {\n",
       "        vertical-align: top;\n",
       "    }\n",
       "\n",
       "    .dataframe thead th {\n",
       "        text-align: right;\n",
       "    }\n",
       "</style>\n",
       "<table border=\"1\" class=\"dataframe\">\n",
       "  <thead>\n",
       "    <tr style=\"text-align: right;\">\n",
       "      <th></th>\n",
       "      <th>lymph_node_mets_bin</th>\n",
       "      <th>regional_nodes_positive_bin</th>\n",
       "      <th>N</th>\n",
       "    </tr>\n",
       "  </thead>\n",
       "  <tbody>\n",
       "    <tr>\n",
       "      <th>0</th>\n",
       "      <td>0.0</td>\n",
       "      <td>0</td>\n",
       "      <td>2573</td>\n",
       "    </tr>\n",
       "    <tr>\n",
       "      <th>1</th>\n",
       "      <td>0.0</td>\n",
       "      <td>1</td>\n",
       "      <td>2</td>\n",
       "    </tr>\n",
       "    <tr>\n",
       "      <th>2</th>\n",
       "      <td>1.0</td>\n",
       "      <td>0</td>\n",
       "      <td>14</td>\n",
       "    </tr>\n",
       "    <tr>\n",
       "      <th>3</th>\n",
       "      <td>1.0</td>\n",
       "      <td>1</td>\n",
       "      <td>607</td>\n",
       "    </tr>\n",
       "  </tbody>\n",
       "</table>\n",
       "</div>"
      ],
      "text/plain": [
       "   lymph_node_mets_bin  regional_nodes_positive_bin     N\n",
       "0                  0.0                            0  2573\n",
       "1                  0.0                            1     2\n",
       "2                  1.0                            0    14\n",
       "3                  1.0                            1   607"
      ]
     },
     "execution_count": 25,
     "metadata": {},
     "output_type": "execute_result"
    }
   ],
   "source": [
    "# Looks like we need a tie breaker! \n",
    "N_table(NCDB4, ['lymph_node_mets_bin',  'regional_nodes_positive_bin'])"
   ]
  },
  {
   "cell_type": "code",
   "execution_count": 26,
   "metadata": {},
   "outputs": [
    {
     "data": {
      "text/html": [
       "<div>\n",
       "<style scoped>\n",
       "    .dataframe tbody tr th:only-of-type {\n",
       "        vertical-align: middle;\n",
       "    }\n",
       "\n",
       "    .dataframe tbody tr th {\n",
       "        vertical-align: top;\n",
       "    }\n",
       "\n",
       "    .dataframe thead th {\n",
       "        text-align: right;\n",
       "    }\n",
       "</style>\n",
       "<table border=\"1\" class=\"dataframe\">\n",
       "  <thead>\n",
       "    <tr style=\"text-align: right;\">\n",
       "      <th></th>\n",
       "      <th>lymph_node_mets_bin</th>\n",
       "      <th>regional_nodes_positive_bin</th>\n",
       "      <th>regional_nodes_ITC_bin</th>\n",
       "      <th>N</th>\n",
       "    </tr>\n",
       "  </thead>\n",
       "  <tbody>\n",
       "    <tr>\n",
       "      <th>0</th>\n",
       "      <td>0.0</td>\n",
       "      <td>0</td>\n",
       "      <td>0.0</td>\n",
       "      <td>2568</td>\n",
       "    </tr>\n",
       "    <tr>\n",
       "      <th>1</th>\n",
       "      <td>0.0</td>\n",
       "      <td>0</td>\n",
       "      <td>1.0</td>\n",
       "      <td>5</td>\n",
       "    </tr>\n",
       "    <tr>\n",
       "      <th>2</th>\n",
       "      <td>0.0</td>\n",
       "      <td>1</td>\n",
       "      <td>0.0</td>\n",
       "      <td>2</td>\n",
       "    </tr>\n",
       "    <tr>\n",
       "      <th>3</th>\n",
       "      <td>1.0</td>\n",
       "      <td>0</td>\n",
       "      <td>0.0</td>\n",
       "      <td>7</td>\n",
       "    </tr>\n",
       "    <tr>\n",
       "      <th>4</th>\n",
       "      <td>1.0</td>\n",
       "      <td>0</td>\n",
       "      <td>1.0</td>\n",
       "      <td>7</td>\n",
       "    </tr>\n",
       "    <tr>\n",
       "      <th>5</th>\n",
       "      <td>1.0</td>\n",
       "      <td>1</td>\n",
       "      <td>1.0</td>\n",
       "      <td>607</td>\n",
       "    </tr>\n",
       "  </tbody>\n",
       "</table>\n",
       "</div>"
      ],
      "text/plain": [
       "   lymph_node_mets_bin  regional_nodes_positive_bin  regional_nodes_ITC_bin  \\\n",
       "0                  0.0                            0                     0.0   \n",
       "1                  0.0                            0                     1.0   \n",
       "2                  0.0                            1                     0.0   \n",
       "3                  1.0                            0                     0.0   \n",
       "4                  1.0                            0                     1.0   \n",
       "5                  1.0                            1                     1.0   \n",
       "\n",
       "      N  \n",
       "0  2568  \n",
       "1     5  \n",
       "2     2  \n",
       "3     7  \n",
       "4     7  \n",
       "5   607  "
      ]
     },
     "execution_count": 26,
     "metadata": {},
     "output_type": "execute_result"
    }
   ],
   "source": [
    "# adding in regional_nodes_ITC\n",
    "\n",
    "N_table(NCDB4, ['lymph_node_mets_bin',  'regional_nodes_positive_bin', 'regional_nodes_ITC_bin'])"
   ]
  },
  {
   "cell_type": "code",
   "execution_count": 27,
   "metadata": {},
   "outputs": [
    {
     "data": {
      "text/html": [
       "<div>\n",
       "<style scoped>\n",
       "    .dataframe tbody tr th:only-of-type {\n",
       "        vertical-align: middle;\n",
       "    }\n",
       "\n",
       "    .dataframe tbody tr th {\n",
       "        vertical-align: top;\n",
       "    }\n",
       "\n",
       "    .dataframe thead th {\n",
       "        text-align: right;\n",
       "    }\n",
       "</style>\n",
       "<table border=\"1\" class=\"dataframe\">\n",
       "  <thead>\n",
       "    <tr style=\"text-align: right;\">\n",
       "      <th></th>\n",
       "      <th>metastasis</th>\n",
       "      <th>N</th>\n",
       "    </tr>\n",
       "  </thead>\n",
       "  <tbody>\n",
       "    <tr>\n",
       "      <th>0</th>\n",
       "      <td>0</td>\n",
       "      <td>2582</td>\n",
       "    </tr>\n",
       "    <tr>\n",
       "      <th>1</th>\n",
       "      <td>1</td>\n",
       "      <td>614</td>\n",
       "    </tr>\n",
       "  </tbody>\n",
       "</table>\n",
       "</div>"
      ],
      "text/plain": [
       "   metastasis     N\n",
       "0           0  2582\n",
       "1           1   614"
      ]
     },
     "execution_count": 27,
     "metadata": {},
     "output_type": "execute_result"
    }
   ],
   "source": [
    "def recode_outcome (df):\n",
    "    # ignore Na values for this variable, convert to zero\n",
    "        # if both are positive, confirmed metastasis\n",
    "    if (df.regional_nodes_positive_bin == 1) & (df.lymph_node_mets_bin == 1): return 1\n",
    "        # if only one is positive, mark as undetermined\n",
    "    elif (df.regional_nodes_positive_bin == 0) & (df.lymph_node_mets_bin == 0): return 0\n",
    "        #  use tie-breaker variable if only one of these is positive \n",
    "    elif (df.regional_nodes_positive_bin == 1)  | (df.lymph_node_mets_bin == 1):\n",
    "            if (df.regional_nodes_ITC_bin == 1):  return 1\n",
    "            else:  return 0\n",
    "            \n",
    "# apply recoding to datafrarme.\n",
    "NCDB4['metastasis'] = NCDB4.apply(recode_outcome, axis = 1)\n",
    "N_table(NCDB4, 'metastasis')"
   ]
  },
  {
   "cell_type": "markdown",
   "metadata": {},
   "source": [
    "## Listwise deletion of missing data, for now\n",
    "\n",
    "removing rows with NaNs for features."
   ]
  },
  {
   "cell_type": "code",
   "execution_count": 28,
   "metadata": {},
   "outputs": [
    {
     "name": "stdout",
     "output_type": "stream",
     "text": [
      "Missingness of features:\n"
     ]
    },
    {
     "data": {
      "text/html": [
       "<div>\n",
       "<style scoped>\n",
       "    .dataframe tbody tr th:only-of-type {\n",
       "        vertical-align: middle;\n",
       "    }\n",
       "\n",
       "    .dataframe tbody tr th {\n",
       "        vertical-align: top;\n",
       "    }\n",
       "\n",
       "    .dataframe thead th {\n",
       "        text-align: right;\n",
       "    }\n",
       "</style>\n",
       "<table border=\"1\" class=\"dataframe\">\n",
       "  <thead>\n",
       "    <tr style=\"text-align: right;\">\n",
       "      <th></th>\n",
       "      <th>index</th>\n",
       "      <th>Missing</th>\n",
       "    </tr>\n",
       "  </thead>\n",
       "  <tbody>\n",
       "    <tr>\n",
       "      <th>0</th>\n",
       "      <td>AGE</td>\n",
       "      <td>0</td>\n",
       "    </tr>\n",
       "    <tr>\n",
       "      <th>1</th>\n",
       "      <td>SEX</td>\n",
       "      <td>0</td>\n",
       "    </tr>\n",
       "    <tr>\n",
       "      <th>2</th>\n",
       "      <td>tumor_size_bins_cm</td>\n",
       "      <td>419</td>\n",
       "    </tr>\n",
       "    <tr>\n",
       "      <th>3</th>\n",
       "      <td>tumor_site</td>\n",
       "      <td>0</td>\n",
       "    </tr>\n",
       "    <tr>\n",
       "      <th>4</th>\n",
       "      <td>immuno_suppressed</td>\n",
       "      <td>1251</td>\n",
       "    </tr>\n",
       "    <tr>\n",
       "      <th>5</th>\n",
       "      <td>tumor_lymphocytes</td>\n",
       "      <td>1855</td>\n",
       "    </tr>\n",
       "    <tr>\n",
       "      <th>6</th>\n",
       "      <td>lymph_vasc_invasion</td>\n",
       "      <td>1131</td>\n",
       "    </tr>\n",
       "    <tr>\n",
       "      <th>7</th>\n",
       "      <td>tumor_depth</td>\n",
       "      <td>1646</td>\n",
       "    </tr>\n",
       "    <tr>\n",
       "      <th>8</th>\n",
       "      <td>regional_nodes_positive_bin</td>\n",
       "      <td>0</td>\n",
       "    </tr>\n",
       "    <tr>\n",
       "      <th>9</th>\n",
       "      <td>regional_nodes_ITC_bin</td>\n",
       "      <td>0</td>\n",
       "    </tr>\n",
       "    <tr>\n",
       "      <th>10</th>\n",
       "      <td>lymph_node_mets_bin</td>\n",
       "      <td>0</td>\n",
       "    </tr>\n",
       "    <tr>\n",
       "      <th>11</th>\n",
       "      <td>metastasis</td>\n",
       "      <td>0</td>\n",
       "    </tr>\n",
       "  </tbody>\n",
       "</table>\n",
       "</div>"
      ],
      "text/plain": [
       "                          index  Missing\n",
       "0                           AGE        0\n",
       "1                           SEX        0\n",
       "2            tumor_size_bins_cm      419\n",
       "3                    tumor_site        0\n",
       "4             immuno_suppressed     1251\n",
       "5             tumor_lymphocytes     1855\n",
       "6           lymph_vasc_invasion     1131\n",
       "7                   tumor_depth     1646\n",
       "8   regional_nodes_positive_bin        0\n",
       "9        regional_nodes_ITC_bin        0\n",
       "10          lymph_node_mets_bin        0\n",
       "11                   metastasis        0"
      ]
     },
     "execution_count": 28,
     "metadata": {},
     "output_type": "execute_result"
    }
   ],
   "source": [
    "# missingness table\n",
    "# drop any rows with missing data.\n",
    "#NCDB5 = NCDB4.drop(columns = ['regional_nodes_ITC_bin'])\n",
    "\n",
    "print(\"Missingness of features:\")\n",
    "missing_table  = ( \n",
    "    NCDB4.isna()\n",
    "    .sum()\n",
    "    .to_frame(\"Missing\")\n",
    "    .reset_index()\n",
    ")\n",
    "missing_table"
   ]
  },
  {
   "cell_type": "code",
   "execution_count": 29,
   "metadata": {},
   "outputs": [
    {
     "name": "stdout",
     "output_type": "stream",
     "text": [
      "Rows with full data: 513\n",
      "Rows dropped for missingness: 2683\n",
      "Proprtion of rows with missing data: 0.84\n"
     ]
    }
   ],
   "source": [
    "NCDB_cleaned = NCDB4.dropna(axis = 'rows', how = 'any')\n",
    "\n",
    "# count how many dropped \n",
    "original_rows = NCDB4.shape[0]\n",
    "rows_remaining  = NCDB_cleaned.shape[0]\n",
    "dropped_rows = (original_rows - rows_remaining)\n",
    "prop_missing = round(dropped_rows / original_rows, 2)\n",
    "\n",
    "print(\"Rows with full data: {}\".format(rows_remaining))\n",
    "print(\"Rows dropped for missingness: {}\".format(dropped_rows))\n",
    "print(\"Proprtion of rows with missing data: {}\".format(prop_missing))\n"
   ]
  },
  {
   "cell_type": "code",
   "execution_count": 810,
   "metadata": {},
   "outputs": [],
   "source": [
    "NCDB_cleaned.to_csv(\"../data/cleaned/NCDB_cleaned_N513.csv\", index = False)"
   ]
  },
  {
   "cell_type": "code",
   "execution_count": 811,
   "metadata": {},
   "outputs": [
    {
     "data": {
      "text/plain": [
       "Index(['AGE', 'SEX', 'tumor_size_bins_cm', 'tumor_site', 'immuno_suppressed',\n",
       "       'tumor_lymphocytes', 'lymph_vasc_invasion', 'tumor_depth',\n",
       "       'regional_nodes_positive_bin', 'regional_nodes_ITC_bin',\n",
       "       'lymph_node_mets_bin', 'metastasis'],\n",
       "      dtype='object')"
      ]
     },
     "execution_count": 811,
     "metadata": {},
     "output_type": "execute_result"
    }
   ],
   "source": [
    "NCDB_cleaned.columns"
   ]
  },
  {
   "cell_type": "code",
   "execution_count": null,
   "metadata": {},
   "outputs": [],
   "source": []
  }
 ],
 "metadata": {
  "kernelspec": {
   "display_name": "Python 3",
   "language": "python",
   "name": "python3"
  },
  "language_info": {
   "codemirror_mode": {
    "name": "ipython",
    "version": 3
   },
   "file_extension": ".py",
   "mimetype": "text/x-python",
   "name": "python",
   "nbconvert_exporter": "python",
   "pygments_lexer": "ipython3",
   "version": "3.7.9"
  }
 },
 "nbformat": 4,
 "nbformat_minor": 4
}
