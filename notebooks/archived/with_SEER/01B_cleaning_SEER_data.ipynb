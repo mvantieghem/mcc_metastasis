{
 "cells": [
  {
   "cell_type": "markdown",
   "metadata": {},
   "source": [
    "# Data cleaning of SEER dataset"
   ]
  },
  {
   "cell_type": "code",
   "execution_count": 12,
   "metadata": {},
   "outputs": [],
   "source": [
    "import pandas as pd  \n",
    "import numpy as np\n",
    "import warnings \n",
    "import math\n",
    "warnings.simplefilter('ignore')"
   ]
  },
  {
   "cell_type": "code",
   "execution_count": 13,
   "metadata": {},
   "outputs": [],
   "source": [
    "##  custom function!!!\n",
    "def N_table(df, var):\n",
    "    table =  (\n",
    "        df\n",
    "        .groupby(var, dropna = False)\n",
    "        .size()\n",
    "        .to_frame('N')\n",
    "        .reset_index()\n",
    "    )\n",
    "    return table"
   ]
  },
  {
   "cell_type": "code",
   "execution_count": 92,
   "metadata": {},
   "outputs": [],
   "source": [
    "# first dataset: use for training \n",
    "SEER = pd.read_csv(\"../data/raw/MerkelAllVarSEER_RT.csv\")"
   ]
  },
  {
   "cell_type": "code",
   "execution_count": 94,
   "metadata": {},
   "outputs": [
    {
     "data": {
      "text/html": [
       "<div>\n",
       "<style scoped>\n",
       "    .dataframe tbody tr th:only-of-type {\n",
       "        vertical-align: middle;\n",
       "    }\n",
       "\n",
       "    .dataframe tbody tr th {\n",
       "        vertical-align: top;\n",
       "    }\n",
       "\n",
       "    .dataframe thead th {\n",
       "        text-align: right;\n",
       "    }\n",
       "</style>\n",
       "<table border=\"1\" class=\"dataframe\">\n",
       "  <thead>\n",
       "    <tr style=\"text-align: right;\">\n",
       "      <th></th>\n",
       "      <th>AGE</th>\n",
       "      <th>SEX</th>\n",
       "      <th>PRIMARY_SITE</th>\n",
       "      <th>TUMOR_SIZE</th>\n",
       "      <th>CS_SITESPECIFIC_FACTOR1</th>\n",
       "      <th>CS_SITESPECIFIC_FACTOR3</th>\n",
       "      <th>REGIONAL_NODES_POSITIVE</th>\n",
       "    </tr>\n",
       "  </thead>\n",
       "  <tbody>\n",
       "    <tr>\n",
       "      <th>0</th>\n",
       "      <td>54</td>\n",
       "      <td>1</td>\n",
       "      <td>447</td>\n",
       "      <td>1022</td>\n",
       "      <td>1022</td>\n",
       "      <td>5</td>\n",
       "      <td>0</td>\n",
       "    </tr>\n",
       "    <tr>\n",
       "      <th>1</th>\n",
       "      <td>69</td>\n",
       "      <td>1</td>\n",
       "      <td>447</td>\n",
       "      <td>999</td>\n",
       "      <td>1022</td>\n",
       "      <td>988</td>\n",
       "      <td>5</td>\n",
       "    </tr>\n",
       "    <tr>\n",
       "      <th>2</th>\n",
       "      <td>75</td>\n",
       "      <td>1</td>\n",
       "      <td>443</td>\n",
       "      <td>999</td>\n",
       "      <td>1022</td>\n",
       "      <td>988</td>\n",
       "      <td>0</td>\n",
       "    </tr>\n",
       "    <tr>\n",
       "      <th>3</th>\n",
       "      <td>85</td>\n",
       "      <td>2</td>\n",
       "      <td>443</td>\n",
       "      <td>25</td>\n",
       "      <td>1022</td>\n",
       "      <td>999</td>\n",
       "      <td>98</td>\n",
       "    </tr>\n",
       "    <tr>\n",
       "      <th>4</th>\n",
       "      <td>84</td>\n",
       "      <td>1</td>\n",
       "      <td>444</td>\n",
       "      <td>41</td>\n",
       "      <td>1022</td>\n",
       "      <td>988</td>\n",
       "      <td>98</td>\n",
       "    </tr>\n",
       "  </tbody>\n",
       "</table>\n",
       "</div>"
      ],
      "text/plain": [
       "   AGE  SEX  PRIMARY_SITE  TUMOR_SIZE  CS_SITESPECIFIC_FACTOR1  \\\n",
       "0   54    1           447        1022                     1022   \n",
       "1   69    1           447         999                     1022   \n",
       "2   75    1           443         999                     1022   \n",
       "3   85    2           443          25                     1022   \n",
       "4   84    1           444          41                     1022   \n",
       "\n",
       "   CS_SITESPECIFIC_FACTOR3  REGIONAL_NODES_POSITIVE  \n",
       "0                        5                        0  \n",
       "1                      988                        5  \n",
       "2                      988                        0  \n",
       "3                      999                       98  \n",
       "4                      988                       98  "
      ]
     },
     "execution_count": 94,
     "metadata": {},
     "output_type": "execute_result"
    }
   ],
   "source": [
    "#renaming columns to match NCDB variable names.\n",
    "# old variable on the left, new variable on right \n",
    "SEER_renamed = SEER.rename(columns = \n",
    "                        {'Age recode with single ages and 85+':'AGE',\n",
    "                        'Sex':'SEX',\n",
    "                        'Primary Site': 'PRIMARY_SITE',\n",
    "                        'CS tumor size (2004-2015)':'TUMOR_SIZE',\n",
    "                        'CS site-specific factor 1 (2004+ varying by schema)':'CS_SITESPECIFIC_FACTOR1',\n",
    "                        'Regional nodes positive (1988+)': 'REGIONAL_NODES_POSITIVE',\n",
    "                        'CS site-specific factor 3 (2004+ varying by schema)':'CS_SITESPECIFIC_FACTOR3'}) \n",
    "\n",
    "SEER = SEER_renamed[['AGE', 'SEX', 'PRIMARY_SITE', 'TUMOR_SIZE', \n",
    "                  'CS_SITESPECIFIC_FACTOR1', \n",
    "                 'CS_SITESPECIFIC_FACTOR3', 'REGIONAL_NODES_POSITIVE']]\n",
    "\n",
    "SEER.head()"
   ]
  },
  {
   "cell_type": "markdown",
   "metadata": {},
   "source": [
    "### Filter for Merkel cell carcinoma \n",
    "Histology code 8247"
   ]
  },
  {
   "cell_type": "code",
   "execution_count": 95,
   "metadata": {},
   "outputs": [
    {
     "data": {
      "text/plain": [
       "(9280, 7)"
      ]
     },
     "execution_count": 95,
     "metadata": {},
     "output_type": "execute_result"
    }
   ],
   "source": [
    "# unnecessary! Already filtered.\n",
    "\n",
    "SEER.shape"
   ]
  },
  {
   "cell_type": "markdown",
   "metadata": {},
   "source": [
    "## Features of interest: tumor characteristics\n",
    "- Primary Site on body\n",
    "- LYMPH_VASCULAR_INVASION - not available in SEER\n",
    "- CS_Tumor_Size (width in mm)\n",
    "- CS Site Specific Factor 1 (depth in mm) - hardly any valid data in SEER\n",
    "- CS Site Specific Factor 20 (lymphocytes) - not  available in SEER\n",
    "- CS Site Specific Factor 22 (immuno) - not available in SEER\n",
    "- also include Age, Sex\n"
   ]
  },
  {
   "cell_type": "markdown",
   "metadata": {},
   "source": [
    "#### Recode PRIMARY_SITE to tumor_site\n",
    "\n",
    "Primary site of lesion\n",
    " - Head and neck = C440, C441, C442, C444 \n",
    " - Trunk = C445 \n",
    " -  Extremity = C446, C447\n",
    " - Other = Everything else\n",
    " -  datatype: categorical\n"
   ]
  },
  {
   "cell_type": "code",
   "execution_count": 96,
   "metadata": {},
   "outputs": [
    {
     "data": {
      "text/plain": [
       "387595"
      ]
     },
     "execution_count": 96,
     "metadata": {},
     "output_type": "execute_result"
    }
   ],
   "source": [
    "SEER.PRIMARY_SITE[SEER.PRIMARY_SITE == 445].sum()"
   ]
  },
  {
   "cell_type": "code",
   "execution_count": 97,
   "metadata": {},
   "outputs": [
    {
     "data": {
      "text/html": [
       "<div>\n",
       "<style scoped>\n",
       "    .dataframe tbody tr th:only-of-type {\n",
       "        vertical-align: middle;\n",
       "    }\n",
       "\n",
       "    .dataframe tbody tr th {\n",
       "        vertical-align: top;\n",
       "    }\n",
       "\n",
       "    .dataframe thead th {\n",
       "        text-align: right;\n",
       "    }\n",
       "</style>\n",
       "<table border=\"1\" class=\"dataframe\">\n",
       "  <thead>\n",
       "    <tr style=\"text-align: right;\">\n",
       "      <th></th>\n",
       "      <th>tumor_site</th>\n",
       "      <th>N</th>\n",
       "    </tr>\n",
       "  </thead>\n",
       "  <tbody>\n",
       "    <tr>\n",
       "      <th>0</th>\n",
       "      <td>extremity</td>\n",
       "      <td>3545</td>\n",
       "    </tr>\n",
       "    <tr>\n",
       "      <th>1</th>\n",
       "      <td>head_neck</td>\n",
       "      <td>1564</td>\n",
       "    </tr>\n",
       "    <tr>\n",
       "      <th>2</th>\n",
       "      <td>other</td>\n",
       "      <td>3300</td>\n",
       "    </tr>\n",
       "    <tr>\n",
       "      <th>3</th>\n",
       "      <td>trunk</td>\n",
       "      <td>871</td>\n",
       "    </tr>\n",
       "  </tbody>\n",
       "</table>\n",
       "</div>"
      ],
      "text/plain": [
       "  tumor_site     N\n",
       "0  extremity  3545\n",
       "1  head_neck  1564\n",
       "2      other  3300\n",
       "3      trunk   871"
      ]
     },
     "execution_count": 97,
     "metadata": {},
     "output_type": "execute_result"
    }
   ],
   "source": [
    "# recode variable: primary site \n",
    "# dropped 'C'  and instead it's a number.\n",
    "def recode_site_SEER(var):\n",
    "    if (var == 440) | (var == 441) | (var == 442) | (var == 444):\n",
    "        recode_var = 'head_neck'\n",
    "    elif (var == 445):\n",
    "        recode_var = 'trunk'\n",
    "    elif (var == 446) | (var == 447):\n",
    "        recode_var = 'extremity'\n",
    "    else:\n",
    "        recode_var = 'other'\n",
    "    return recode_var\n",
    "\n",
    "# apply rercoding  and convert to categorical variable\n",
    "SEER['tumor_site'] = SEER.PRIMARY_SITE.map(recode_site_SEER).astype('category')\n",
    "N_table(SEER, 'tumor_site')"
   ]
  },
  {
   "cell_type": "markdown",
   "metadata": {},
   "source": [
    "#### Recode CS_SITESPECIFIC_FACTOR_1 to tumor_depth\n",
    "\n",
    "Measured thickness (depth) of tumor, continuous\n",
    "\n",
    "- 0 = no mass found... recode to NA, or leave as zero?\n",
    "- 00.1-979 = 0.1 mm - 97.9 mm measurements \n",
    "- 98.0 = 98.0mm or larger \n",
    "- 98.8/99.0/99.8/99.9 = Not applicable... recode to NA \n",
    "- infering that 98.7 and 88.8 are also  Not applicable, recoded to NA.\n",
    "\n",
    " see http://web2.facs.org/cstage0205/merkelcellskin/MerkelCellSkin_jpt.html)\n",
    "\n",
    "**UPDATE for SEER:**\n",
    "- Assuming value of 1022 = NaN\n",
    "\n",
    " "
   ]
  },
  {
   "cell_type": "code",
   "execution_count": 142,
   "metadata": {},
   "outputs": [
    {
     "data": {
      "text/plain": [
       "1022    9164\n",
       "0         45\n",
       "999       33\n",
       "988       13\n",
       "15         3\n",
       "24         2\n",
       "30         2\n",
       "200        2\n",
       "42         1\n",
       "40         1\n",
       "400        1\n",
       "992        1\n",
       "993        1\n",
       "2          1\n",
       "19         1\n",
       "11         1\n",
       "23         1\n",
       "31         1\n",
       "12         1\n",
       "20         1\n",
       "14         1\n",
       "54         1\n",
       "998        1\n",
       "51         1\n",
       "Name: CS_SITESPECIFIC_FACTOR1, dtype: int64"
      ]
     },
     "execution_count": 142,
     "metadata": {},
     "output_type": "execute_result"
    }
   ],
   "source": [
    "SEER.CS_SITESPECIFIC_FACTOR1.value_counts(dropna = False)"
   ]
  },
  {
   "cell_type": "code",
   "execution_count": 98,
   "metadata": {},
   "outputs": [
    {
     "name": "stdout",
     "output_type": "stream",
     "text": [
      "Tumor depth provided: 22\n",
      "No mass found (Zero): 45\n",
      "Not valid data (NaN): 9164\n"
     ]
    }
   ],
   "source": [
    "# replace invalid with NA\n",
    "SEER['tumor_depth'] = SEER.CS_SITESPECIFIC_FACTOR1.\\\n",
    "replace([988.0, 990.0,998.0, 999.0, 888, 987, 1022], np.nan)# becomes NaN\n",
    "\n",
    "# convert units to mm\n",
    "SEER['tumor_depth'] = SEER.tumor_depth/10\n",
    "\n",
    "# compute valid data metrics \n",
    "valid = (SEER.tumor_depth > 0) & (SEER.tumor_depth <= 98.0)\n",
    "print(\"Tumor depth provided: {}\".format(sum(valid)))\n",
    "print(\"No mass found (Zero): {}\".format(sum(SEER.tumor_depth == 0)))\n",
    "print(\"Not valid data (NaN): {}\".format(SEER.tumor_depth.isnull().sum()))\n"
   ]
  },
  {
   "cell_type": "markdown",
   "metadata": {},
   "source": [
    "#### RECODING TUMOR_SIZE to tumor_size_bins_cm\n",
    "\n",
    "Tumor size, but this changed in newest data version...\n",
    "- 000 = no mass found \n",
    "- 001-988 = exact size in mm ... but move decimal.\n",
    "- 989 = 989 mm or larger\n",
    "- 990  = foci only, no size given\n",
    "- 991 = less than 1 cm (10 mm)\n",
    "- 992 = between 1-2 cm \n",
    "- 993 = between 2-3 cm \n",
    "- 994 = between 3-4 cm\n",
    "- 995 = between 4-5 cm \n",
    "- 996 = greater than 5cm (50 mm)\n",
    "- 999 = No info available \n",
    "\n",
    "Recode to bins of 10 mm, 1 cm \n",
    "- 0 (no mass) \n",
    "- 991 or < 10mm = less than 1 cm\n",
    "- 992 or < 20mm = <2 cm\n",
    "- 993 or < 30 mm = <3 cm\n",
    "- 994 or < 40 mm = <4 cm\n",
    "- 995 or < 50 mm = <5 cm\n",
    "- 996 or > 50 mm or  989 = > 5 cm \n",
    "- 990 and 999 = NaN\n",
    "\n",
    "\n",
    "see http://web2.facs.org/cstage0205/merkelcellskin/MerkelCellSkin_apo.html)"
   ]
  },
  {
   "cell_type": "code",
   "execution_count": 143,
   "metadata": {},
   "outputs": [
    {
     "data": {
      "text/plain": [
       "count    9280.000000\n",
       "mean      570.686638\n",
       "std       492.116375\n",
       "min         0.000000\n",
       "25%        18.000000\n",
       "50%       999.000000\n",
       "75%      1022.000000\n",
       "max      1022.000000\n",
       "Name: TUMOR_SIZE, dtype: float64"
      ]
     },
     "execution_count": 143,
     "metadata": {},
     "output_type": "execute_result"
    }
   ],
   "source": [
    "SEER.TUMOR_SIZE.describe()"
   ]
  },
  {
   "cell_type": "code",
   "execution_count": 104,
   "metadata": {},
   "outputs": [
    {
     "data": {
      "text/plain": [
       "NaN    4926\n",
       "1.0    3844\n",
       "0.0     261\n",
       "2.0     178\n",
       "5.0      31\n",
       "3.0      21\n",
       "6.0      15\n",
       "4.0       4\n",
       "Name: tumor_size_bins_cm, dtype: int64"
      ]
     },
     "execution_count": 104,
     "metadata": {},
     "output_type": "execute_result"
    }
   ],
   "source": [
    "# recode variable: primary size, in cm\n",
    "def recode_size(var):\n",
    "    if (var == 0):\n",
    "        recode_var = 0\n",
    "    elif (var == 991) | (var < 100):\n",
    "        recode_var = 1\n",
    "    elif (var == 992) | (var < 200):\n",
    "        recode_var = 2\n",
    "    elif (var == 993) | (var < 300):\n",
    "        recode_var = 3\n",
    "    elif (var == 994)  | (var < 400):\n",
    "        recode_var = 4\n",
    "    elif (var == 995) | (var < 500):\n",
    "        recode_var = 5\n",
    "    elif(var == 996) | (var < 990):\n",
    "        recode_var = 6 # but this really means 6 +\n",
    "    else:\n",
    "        recode_var = None\n",
    "    return recode_var\n",
    "\n",
    "# apply rercoding  and convert to categorical variable\n",
    "SEER['tumor_size_bins_cm'] = SEER.TUMOR_SIZE.map(recode_size)\n",
    "SEER['tumor_size_bins_cm'].value_counts(dropna=False)"
   ]
  },
  {
   "cell_type": "markdown",
   "metadata": {},
   "source": [
    "#### Demographic variables\n",
    "\n",
    "SEER note: Age is capped at 85+"
   ]
  },
  {
   "cell_type": "code",
   "execution_count": 107,
   "metadata": {},
   "outputs": [
    {
     "data": {
      "text/plain": [
       "count    9280.000000\n",
       "mean       74.462284\n",
       "std        10.395979\n",
       "min        11.000000\n",
       "25%        68.000000\n",
       "50%        77.000000\n",
       "75%        84.000000\n",
       "max        85.000000\n",
       "Name: AGE, dtype: float64"
      ]
     },
     "execution_count": 107,
     "metadata": {},
     "output_type": "execute_result"
    }
   ],
   "source": [
    "# all plausible values.\n",
    "SEER.AGE.describe()"
   ]
  },
  {
   "cell_type": "code",
   "execution_count": 109,
   "metadata": {},
   "outputs": [
    {
     "data": {
      "text/html": [
       "<div>\n",
       "<style scoped>\n",
       "    .dataframe tbody tr th:only-of-type {\n",
       "        vertical-align: middle;\n",
       "    }\n",
       "\n",
       "    .dataframe tbody tr th {\n",
       "        vertical-align: top;\n",
       "    }\n",
       "\n",
       "    .dataframe thead th {\n",
       "        text-align: right;\n",
       "    }\n",
       "</style>\n",
       "<table border=\"1\" class=\"dataframe\">\n",
       "  <thead>\n",
       "    <tr style=\"text-align: right;\">\n",
       "      <th></th>\n",
       "      <th>SEX</th>\n",
       "      <th>N</th>\n",
       "    </tr>\n",
       "  </thead>\n",
       "  <tbody>\n",
       "    <tr>\n",
       "      <th>0</th>\n",
       "      <td>1</td>\n",
       "      <td>5853</td>\n",
       "    </tr>\n",
       "    <tr>\n",
       "      <th>1</th>\n",
       "      <td>2</td>\n",
       "      <td>3427</td>\n",
       "    </tr>\n",
       "  </tbody>\n",
       "</table>\n",
       "</div>"
      ],
      "text/plain": [
       "   SEX     N\n",
       "0    1  5853\n",
       "1    2  3427"
      ]
     },
     "execution_count": 109,
     "metadata": {},
     "output_type": "execute_result"
    }
   ],
   "source": [
    "# 1 = male, 2 = female \n",
    "N_table(SEER, 'SEX')"
   ]
  },
  {
   "cell_type": "markdown",
   "metadata": {},
   "source": [
    "## Coding primary outcome of metastasis:\n",
    "\n",
    "For SEER, only using lymph_node_mets_bin (CS_SITESPECIFIC_FACTOR3)"
   ]
  },
  {
   "cell_type": "markdown",
   "metadata": {},
   "source": [
    "#### Recode CS_SITESPECIFIC_FACTOR_3 to lymph_node_mets_bin --> metastasis\n",
    "\n",
    "- 0 = no mets, negative\n",
    "-  5 = clinically negative mets, recode as negative\n",
    "- 10 = micro-mets, positive cases from biopsy\n",
    "- 20 = macro-mets, exclude from consideration (NA) because positive case without biospsy needed\n",
    "- 100 = spreading mets, exclude from consideration (NA) because positive case without biospsy needed\n",
    "- 150 = spreadingg more , exclude from consideration (NA)because positive case without biospsy needed\n",
    "- 888, 988, 999 = not applicable, convert to NA\n",
    "\n",
    "\n",
    "http://web2.facs.org/cstage0205/merkelcellskin/MerkelCellSkin_lpq.html\n"
   ]
  },
  {
   "cell_type": "code",
   "execution_count": 129,
   "metadata": {},
   "outputs": [
    {
     "data": {
      "text/plain": [
       "988     2543\n",
       "5       2440\n",
       "1022    1728\n",
       "999      907\n",
       "20       838\n",
       "10       365\n",
       "0        364\n",
       "150       47\n",
       "100       37\n",
       "111        4\n",
       "11         3\n",
       "95         1\n",
       "110        1\n",
       "98         1\n",
       "90         1\n",
       "Name: CS_SITESPECIFIC_FACTOR3, dtype: int64"
      ]
     },
     "execution_count": 129,
     "metadata": {},
     "output_type": "execute_result"
    }
   ],
   "source": [
    "# raw variable = \n",
    "SEER.CS_SITESPECIFIC_FACTOR3.value_counts(dropna = False)"
   ]
  },
  {
   "cell_type": "code",
   "execution_count": 130,
   "metadata": {},
   "outputs": [
    {
     "data": {
      "text/html": [
       "<div>\n",
       "<style scoped>\n",
       "    .dataframe tbody tr th:only-of-type {\n",
       "        vertical-align: middle;\n",
       "    }\n",
       "\n",
       "    .dataframe tbody tr th {\n",
       "        vertical-align: top;\n",
       "    }\n",
       "\n",
       "    .dataframe thead th {\n",
       "        text-align: right;\n",
       "    }\n",
       "</style>\n",
       "<table border=\"1\" class=\"dataframe\">\n",
       "  <thead>\n",
       "    <tr style=\"text-align: right;\">\n",
       "      <th></th>\n",
       "      <th>metastasis</th>\n",
       "      <th>N</th>\n",
       "    </tr>\n",
       "  </thead>\n",
       "  <tbody>\n",
       "    <tr>\n",
       "      <th>0</th>\n",
       "      <td>0.0</td>\n",
       "      <td>2804</td>\n",
       "    </tr>\n",
       "    <tr>\n",
       "      <th>1</th>\n",
       "      <td>1.0</td>\n",
       "      <td>376</td>\n",
       "    </tr>\n",
       "    <tr>\n",
       "      <th>2</th>\n",
       "      <td>NaN</td>\n",
       "      <td>6100</td>\n",
       "    </tr>\n",
       "  </tbody>\n",
       "</table>\n",
       "</div>"
      ],
      "text/plain": [
       "   metastasis     N\n",
       "0         0.0  2804\n",
       "1         1.0   376\n",
       "2         NaN  6100"
      ]
     },
     "execution_count": 130,
     "metadata": {},
     "output_type": "execute_result"
    }
   ],
   "source": [
    "# make a binary variable, metastasis present or absent.\n",
    "SEER['metastasis'] = SEER.CS_SITESPECIFIC_FACTOR3.\\\n",
    "replace([888, 988, 999, 998, 997, 20,  100, 150, 1022], np.nan).\\\n",
    "apply(lambda x: x if math.isnan(x) else (x > 5)).\\\n",
    "replace({True: 1, False: 0})\n",
    "\n",
    "# **ALOT OF MISSING DATA**\n",
    "N_table(SEER, 'metastasis')"
   ]
  },
  {
   "cell_type": "markdown",
   "metadata": {},
   "source": [
    "## Evaluate data for missingness\n",
    "Subset the data for only features that we care about\n",
    "- excluding regional_nodes_posititve for now.\n",
    "- also need to remove tumor depth, only 24 patients with data"
   ]
  },
  {
   "cell_type": "code",
   "execution_count": 139,
   "metadata": {},
   "outputs": [],
   "source": [
    "# select features and outcome variable\n",
    "SEER1 = SEER[['AGE', 'SEX', 'tumor_size_bins_cm', 'tumor_site', \n",
    "                    'metastasis' ]]\n"
   ]
  },
  {
   "cell_type": "code",
   "execution_count": 140,
   "metadata": {},
   "outputs": [
    {
     "name": "stdout",
     "output_type": "stream",
     "text": [
      "Missingness of features:\n"
     ]
    },
    {
     "data": {
      "text/html": [
       "<div>\n",
       "<style scoped>\n",
       "    .dataframe tbody tr th:only-of-type {\n",
       "        vertical-align: middle;\n",
       "    }\n",
       "\n",
       "    .dataframe tbody tr th {\n",
       "        vertical-align: top;\n",
       "    }\n",
       "\n",
       "    .dataframe thead th {\n",
       "        text-align: right;\n",
       "    }\n",
       "</style>\n",
       "<table border=\"1\" class=\"dataframe\">\n",
       "  <thead>\n",
       "    <tr style=\"text-align: right;\">\n",
       "      <th></th>\n",
       "      <th>index</th>\n",
       "      <th>Missing</th>\n",
       "    </tr>\n",
       "  </thead>\n",
       "  <tbody>\n",
       "    <tr>\n",
       "      <th>0</th>\n",
       "      <td>AGE</td>\n",
       "      <td>0</td>\n",
       "    </tr>\n",
       "    <tr>\n",
       "      <th>1</th>\n",
       "      <td>SEX</td>\n",
       "      <td>0</td>\n",
       "    </tr>\n",
       "    <tr>\n",
       "      <th>2</th>\n",
       "      <td>tumor_size_bins_cm</td>\n",
       "      <td>4926</td>\n",
       "    </tr>\n",
       "    <tr>\n",
       "      <th>3</th>\n",
       "      <td>tumor_site</td>\n",
       "      <td>0</td>\n",
       "    </tr>\n",
       "    <tr>\n",
       "      <th>4</th>\n",
       "      <td>metastasis</td>\n",
       "      <td>6100</td>\n",
       "    </tr>\n",
       "  </tbody>\n",
       "</table>\n",
       "</div>"
      ],
      "text/plain": [
       "                index  Missing\n",
       "0                 AGE        0\n",
       "1                 SEX        0\n",
       "2  tumor_size_bins_cm     4926\n",
       "3          tumor_site        0\n",
       "4          metastasis     6100"
      ]
     },
     "execution_count": 140,
     "metadata": {},
     "output_type": "execute_result"
    }
   ],
   "source": [
    "# drop any rows with missing data.\n",
    "print(\"Missingness of features:\")\n",
    "missing_table  = ( \n",
    "   SEER1.isna()\n",
    "    .sum()\n",
    "    .to_frame(\"Missing\")\n",
    "    .reset_index()\n",
    ")\n",
    "missing_table"
   ]
  },
  {
   "cell_type": "code",
   "execution_count": 144,
   "metadata": {},
   "outputs": [
    {
     "name": "stdout",
     "output_type": "stream",
     "text": [
      "Rows with full data: 1803\n",
      "Rows dropped for missingness: 7477\n",
      "Proprtion of rows with missing data: 0.81\n"
     ]
    }
   ],
   "source": [
    "SEER1_cleaned = SEER1.dropna(axis = 'rows', how = 'any')\n",
    "\n",
    "# count how many dropped \n",
    "original_rows = SEER1.shape[0]\n",
    "rows_remaining  = SEER1_cleaned.shape[0]\n",
    "dropped_rows = (original_rows - rows_remaining)\n",
    "prop_missing = round(dropped_rows / original_rows, 2)\n",
    "\n",
    "SEER1_cleaned.to_csv(\"../data/cleaned/SEER_cleaned_for_NCDB_merge.csv\", index = False)\n",
    "\n",
    "print(\"Rows with full data: {}\".format(rows_remaining))\n",
    "print(\"Rows dropped for missingness: {}\".format(dropped_rows))\n",
    "print(\"Proprtion of rows with missing data: {}\".format(prop_missing))\n"
   ]
  },
  {
   "cell_type": "code",
   "execution_count": 145,
   "metadata": {},
   "outputs": [
    {
     "data": {
      "text/plain": [
       "(1803, 5)"
      ]
     },
     "execution_count": 145,
     "metadata": {},
     "output_type": "execute_result"
    }
   ],
   "source": [
    "SEER1_cleaned.shape"
   ]
  },
  {
   "cell_type": "code",
   "execution_count": null,
   "metadata": {},
   "outputs": [],
   "source": []
  }
 ],
 "metadata": {
  "kernelspec": {
   "display_name": "Python 3",
   "language": "python",
   "name": "python3"
  },
  "language_info": {
   "codemirror_mode": {
    "name": "ipython",
    "version": 3
   },
   "file_extension": ".py",
   "mimetype": "text/x-python",
   "name": "python",
   "nbconvert_exporter": "python",
   "pygments_lexer": "ipython3",
   "version": "3.7.9"
  }
 },
 "nbformat": 4,
 "nbformat_minor": 4
}
