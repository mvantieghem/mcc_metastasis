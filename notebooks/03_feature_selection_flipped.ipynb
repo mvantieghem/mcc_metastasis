{
 "cells": [
  {
   "cell_type": "code",
   "execution_count": 207,
   "metadata": {},
   "outputs": [],
   "source": [
    "import sklearn\n",
    "import pandas as pd\n",
    "import numpy as np\n",
    "import math\n",
    "import warnings\n",
    "# plotting\n",
    "import seaborn as sns\n",
    "from matplotlib import pyplot \n",
    "import matplotlib.pyplot as plt\n",
    "sns.set(context='paper', style='whitegrid', rc={'figure.facecolor':'white'}, font_scale=1.2)\n",
    "\n",
    "# preproc\n",
    "from scipy.stats import zscore\n",
    "from sklearn.preprocessing import StandardScaler, OneHotEncoder\n",
    "from sklearn.preprocessing import PolynomialFeatures\n",
    "from sklearn.pipeline import make_pipeline, Pipeline\n",
    "from sklearn.compose import ColumnTransformer, make_column_transformer\n",
    "\n",
    "# modeling\n",
    "from sklearn.linear_model import LogisticRegression\n",
    "from sklearn.svm import SVC\n",
    "from sklearn.ensemble import RandomForestClassifier\n",
    "\n",
    "# grid search CV for model tuning\n",
    "from sklearn.model_selection import train_test_split, GridSearchCV, RepeatedStratifiedKFold\n",
    "\n",
    "# metrics for classification\n",
    "from sklearn.metrics import roc_auc_score, roc_curve\n",
    "from sklearn.metrics import precision_recall_curve\n",
    "from sklearn.metrics import recall_score, precision_score, average_precision_score\n",
    "from sklearn.metrics import accuracy_score, f1_score, brier_score_loss\n",
    "from sklearn.metrics import classification_report, confusion_matrix \n",
    "from sklearn.metrics import make_scorer, auc\n",
    "\n",
    "# post-processing \n",
    "from sklearn.calibration import calibration_curve\n",
    "from sklearn.calibration import CalibratedClassifierCV\n",
    "\n",
    "\n",
    "# statistical reporting\n",
    "import statsmodels.api as sm\n",
    "from sklearn.utils import resample\n",
    "\n",
    "\n",
    "# import custom functions from my package\n",
    "import sys\n",
    "import os\n",
    "sys.path.append(\"../\")\n",
    "from mcc_metastasis import modeling \n",
    "from mcc_metastasis import custom_plots\n",
    "\n",
    "RANDOM = 0\n",
    "figure_path = \"../figures/NCDB_7_features/\""
   ]
  },
  {
   "cell_type": "code",
   "execution_count": 208,
   "metadata": {},
   "outputs": [],
   "source": [
    "\n",
    "# custom func\n",
    "def pretty_cm(confmat, filename):\n",
    "\n",
    "     \"\"\"\n",
    "     this creates the matplotlib graph to make the confmat look nicer\n",
    "     \"\"\"\n",
    "     fig, ax = plt.subplots(figsize=(6, 4))\n",
    "     ax.matshow(confmat, cmap=plt.cm.Reds, alpha=0.3)\n",
    "     for i in range(confmat.shape[0]):\n",
    "         for j in range(confmat.shape[1]):\n",
    "             ax.text(x=j, y=i, s=confmat[i, j], va='center', ha='center', fontsize = 20)\n",
    "       \n",
    "     ax.set_xticklabels(['']+['Mets', 'No Mets'])\n",
    "     ax.set_yticklabels(['']+['Mets', 'No Mets'])\n",
    "     plt.xlabel('Predicted Label', size = 20)\n",
    "     plt.ylabel('True Label', fontsize = 20)\n",
    "     plt.xticks(fontsize = 15)\n",
    "     plt.yticks (fontsize = 15)\n",
    "     ax.xaxis.set_label_position('top')\n",
    "     plt.tight_layout()\n",
    "     plt.savefig(filename)\n",
    "     plt.show()"
   ]
  },
  {
   "cell_type": "markdown",
   "metadata": {},
   "source": [
    "## 1. Prep data\n",
    "\n",
    "- load data "
   ]
  },
  {
   "cell_type": "code",
   "execution_count": 209,
   "metadata": {},
   "outputs": [],
   "source": [
    "# OPEN DATA \n",
    "df = pd.read_csv(\"../data/cleaned/NCDB_cleaned_all_cases.csv\") \n"
   ]
  },
  {
   "cell_type": "markdown",
   "metadata": {},
   "source": [
    "### Filter for features of interest\n",
    "- 7 features (excluding tumor_depth) "
   ]
  },
  {
   "cell_type": "code",
   "execution_count": 210,
   "metadata": {},
   "outputs": [
    {
     "data": {
      "text/plain": [
       "Index(['no_mets', 'AGE', 'tumor_size', 'tumor_site', 'SEX',\n",
       "       'tumor_lymphocytes', 'lymph_vasc_invasion', 'immuno_suppressed'],\n",
       "      dtype='object')"
      ]
     },
     "execution_count": 210,
     "metadata": {},
     "output_type": "execute_result"
    }
   ],
   "source": [
    "# fix up some features\n",
    "df['AGE'] = df.AGE.astype('float')\n",
    "df['no_mets'] = df.metastasis.replace({0:1, 1:0})\n",
    "df['tumor_site'] = df.tumor_site.astype(\"category\")\n",
    "# select only features for analysis\n",
    "df = df[['no_mets', 'AGE', 'tumor_size', 'tumor_site', 'SEX', \n",
    "               'tumor_lymphocytes', 'lymph_vasc_invasion', 'immuno_suppressed']]\n",
    "df = df.dropna(axis = 0)\n",
    "df.columns"
   ]
  },
  {
   "cell_type": "markdown",
   "metadata": {},
   "source": [
    "### designate features and outcome"
   ]
  },
  {
   "cell_type": "code",
   "execution_count": 211,
   "metadata": {},
   "outputs": [],
   "source": [
    "outcome = df['no_mets']\n",
    "features = df.drop(columns = 'no_mets')"
   ]
  },
  {
   "cell_type": "markdown",
   "metadata": {},
   "source": [
    "### Define preprocessing\n",
    "- one-hot encode categorical features\n",
    "-- tumor site: dropping one level as reference (extremity)\n",
    "- standard scale (zscore) numeric, continuous features"
   ]
  },
  {
   "cell_type": "code",
   "execution_count": 212,
   "metadata": {},
   "outputs": [
    {
     "data": {
      "text/plain": [
       "(1273, 9)"
      ]
     },
     "execution_count": 212,
     "metadata": {},
     "output_type": "execute_result"
    }
   ],
   "source": [
    "# DEFINE PREPROCESSING \n",
    "num_features = ['AGE', 'tumor_size']\n",
    "cat_features = ['tumor_site']\n",
    "all_features = features.columns\n",
    "\n",
    "# Build a preprcessing pipeline for numeric variables\n",
    "num_pipeline = Pipeline(steps=[\n",
    "    ('std_scaler', StandardScaler())])\n",
    "    # Build a preprocessing pipeline for categorical variables\n",
    "cat_pipeline = Pipeline(steps=[\n",
    "    ('onehot', OneHotEncoder(drop = 'first'))])\n",
    "\n",
    "\n",
    "# Instantiate a preprocessor\n",
    "preprocessor = ColumnTransformer(\n",
    "    transformers=[\n",
    "    (\"num\", num_pipeline, num_features),\n",
    "    (\"cat\", cat_pipeline, cat_features)],\n",
    "    remainder = 'passthrough')\n",
    "\n",
    "\n",
    "# generate interaction terms from all features after transforming \n",
    "add_interactions = Pipeline(steps=[\n",
    "    ('interaction_terms', PolynomialFeatures(degree=3, include_bias=False, interaction_only=True))])\n",
    "\n",
    "# put together the column transfrmer and option to add interactions\n",
    "preproc_basic = Pipeline(steps = [('preproc', preprocessor)])\n",
    "preproc_interactions = Pipeline(steps = [('preproc', preprocessor),\n",
    "                                       ('int', add_interactions)])\n",
    "\n",
    "preproc_X_check = pd.DataFrame(preproc_basic.fit_transform(features))    \n",
    "preproc_X_check.shape"
   ]
  },
  {
   "cell_type": "markdown",
   "metadata": {},
   "source": [
    "### Define cross validation\n",
    "- split data into train-val and hold-out test sets \n",
    "- stratified CV folds, 5 folds repeated 5x with random sampling"
   ]
  },
  {
   "cell_type": "code",
   "execution_count": 295,
   "metadata": {},
   "outputs": [],
   "source": [
    "# split into train-test split, \n",
    "X_trainval, X_test, y_trainval, y_test = train_test_split(features, \n",
    "                                                          outcome,\n",
    "                                                          random_state = 0)\n",
    "# make cross val folds - \n",
    "CV_folds =  RepeatedStratifiedKFold(n_splits = 5, \n",
    "                                    n_repeats =  5,  \n",
    "                                    random_state = 0)"
   ]
  },
  {
   "cell_type": "markdown",
   "metadata": {},
   "source": [
    "## Tune lasso models \n",
    "- logistic regression for classification\n",
    "- automated feature selection via L1 regularization  (Lasso)\n"
   ]
  },
  {
   "cell_type": "code",
   "execution_count": 214,
   "metadata": {},
   "outputs": [],
   "source": [
    "\n",
    "Lasso_L1 = LogisticRegression( penalty = 'l1',\n",
    "                                 solver = 'liblinear', \n",
    "                                 max_iter = 1000, \n",
    "                                 random_state = RANDOM)\n",
    "Lasso_L1_balanced =  LogisticRegression(class_weight = \"balanced\",\n",
    "                                 penalty = 'l1',\n",
    "                                 solver = 'liblinear', \n",
    "                                 max_iter = 1000, \n",
    "                                 random_state = RANDOM)\n"
   ]
  },
  {
   "cell_type": "markdown",
   "metadata": {},
   "source": [
    "### grid search\n",
    " comparisons in grid search\n",
    " - with or without interactions in preproc\n",
    " - with or without balanced class weights \n",
    " - different levels of regularization (parameter C, inverse of alpha in R)\n",
    "\n",
    "\n"
   ]
  },
  {
   "cell_type": "code",
   "execution_count": 215,
   "metadata": {},
   "outputs": [],
   "source": [
    "\n",
    "score_list = {'acc': 'accuracy',\n",
    "              'precision' : 'precision',\n",
    "              'recall': 'recall', \n",
    "              'f1': 'f1',\n",
    "              'roc_auc': 'roc_auc', \n",
    "              'average_precision': 'average_precision', \n",
    "             'brier_score_loss': 'brier_score_loss'}\n",
    "# define hyper-parametrs to tune \n",
    "# C is the inverse of alpha \n",
    "param_grid_C = {'model__C': [0.001, 0.01, 0.1, 1, 10, 100]}"
   ]
  },
  {
   "cell_type": "code",
   "execution_count": 616,
   "metadata": {},
   "outputs": [
    {
     "name": "stdout",
     "output_type": "stream",
     "text": [
      "L1\n",
      "Basic\n",
      "L1\n",
      "Interactions\n",
      "L1 bal\n",
      "Basic\n",
      "L1 bal\n",
      "Interactions\n"
     ]
    }
   ],
   "source": [
    "classifiers = [Lasso_L1, Lasso_L1_balanced]\n",
    "classifier_names = [\"L1\", \"L1 bal\"]\n",
    "preproc_options = [preproc_basic, preproc_interactions]\n",
    "preproc_names = ['Basic', 'Interactions']\n",
    "\n",
    "i = 0\n",
    "\n",
    "grid_results = pd.DataFrame()\n",
    "for classifier in classifiers:\n",
    "    j = 0\n",
    "    for preproc_choice in preproc_options:\n",
    "        pipe =  Pipeline(steps = [('preprocessing', preproc_choice),\n",
    "                                  ('model', classifier)])\n",
    "        grid = GridSearchCV(pipe,\n",
    "                        param_grid = param_grid_C, \n",
    "                        return_train_score = True,\n",
    "                        cv = CV_folds, \n",
    "                        scoring = score_list,\n",
    "                        refit = \"precision\",\n",
    "                        n_jobs =  -1)\n",
    "        grid.fit(X_trainval, y_trainval)\n",
    "        results = pd.DataFrame(grid.cv_results_)\n",
    "        results['model'] = classifier_names[i]\n",
    "        results['preproc'] = preproc_names[j]\n",
    "        print(classifier_names[i])\n",
    "        print(preproc_names[j])\n",
    "        grid_results = pd.concat([grid_results, results], ignore_index = True)\n",
    "        j = j+1\n",
    "    i = i+1\n",
    "\n"
   ]
  },
  {
   "cell_type": "code",
   "execution_count": 621,
   "metadata": {},
   "outputs": [],
   "source": [
    "# get log  of C for easier visualization\n",
    "grid_results['param_model__C']= grid_results.param_model__C.astype('float')\n",
    "grid_results['log_C'] = grid_results.param_model__C.map(lambda x: math.log10(x))\n",
    "\n",
    "# clean up dataframe so only have mean scores \n",
    "grid_results = grid_results[['model', 'preproc', 'param_model__C', 'log_C',\n",
    "                             'mean_train_f1', 'mean_test_f1', \n",
    "                             'mean_train_precision', 'mean_test_precision',\n",
    "                             'mean_train_recall', 'mean_test_recall', \n",
    "                             'mean_train_acc', 'mean_test_acc', \n",
    "                             'mean_train_roc_auc', 'mean_test_roc_auc', \n",
    "                             'mean_train_average_precision', 'mean_test_average_precision',\n",
    "                             'mean_train_brier_score_loss', 'mean_test_brier_score_loss']]\n"
   ]
  },
  {
   "cell_type": "code",
   "execution_count": 622,
   "metadata": {},
   "outputs": [
    {
     "data": {
      "text/plain": [
       "Index(['model', 'preproc', 'param_model__C', 'log_C', 'metric', 'score',\n",
       "       'dataset'],\n",
       "      dtype='object')"
      ]
     },
     "execution_count": 622,
     "metadata": {},
     "output_type": "execute_result"
    }
   ],
   "source": [
    "# reshape data from wide to long\n",
    "grid_results_long = pd.melt(grid_results, \n",
    "                            id_vars = ['model', 'preproc', 'param_model__C', 'log_C'], \n",
    "                            value_vars = ['mean_train_f1', 'mean_test_f1', \n",
    "                                          'mean_train_precision', 'mean_test_precision',\n",
    "                                          'mean_train_recall', 'mean_test_recall',\n",
    "                                          'mean_train_acc','mean_test_acc', \n",
    "                                          'mean_train_roc_auc', 'mean_test_roc_auc',\n",
    "                                         'mean_train_average_precision', 'mean_test_average_precision',\n",
    "                                          'mean_train_brier_score_loss', 'mean_test_brier_score_loss'],\n",
    "                                          \n",
    "                           var_name = 'metric', \n",
    "                           value_name = 'score')\n",
    "\n",
    "# add indicator for train vs. tteam\n",
    "#apply(lambda x: 0 if x == 1 else 1)\n",
    "grid_results_long['dataset'] = grid_results_long.metric.str.contains(\"train\").\\\n",
    "apply(lambda x: \"Train\" if x == True else \"Validation\")\n",
    "# get rid of prefix \n",
    "grid_results_long[\"metric\"] = grid_results_long.metric.str.replace('mean_test_', \"\").str.replace('mean_train_', \"\")\n",
    "grid_results_long.columns"
   ]
  },
  {
   "cell_type": "markdown",
   "metadata": {},
   "source": [
    "## Visualize hyperparameter tuning: learning curves\n",
    "- as a function of train vs validation sets \n",
    "- can see whether model is over-fit or underfit \n",
    "- interactions don't help! \n",
    "- balancing the class weights does help."
   ]
  },
  {
   "cell_type": "code",
   "execution_count": 623,
   "metadata": {},
   "outputs": [
    {
     "data": {
      "text/plain": [
       "<seaborn.axisgrid.FacetGrid at 0x1a20de2c90>"
      ]
     },
     "execution_count": 623,
     "metadata": {},
     "output_type": "execute_result"
    },
    {
     "data": {
      "text/plain": [
       "<Figure size 576x720 with 0 Axes>"
      ]
     },
     "metadata": {},
     "output_type": "display_data"
    },
    {
     "data": {
      "image/png": "[encoded data removed]",
      "text/plain": [
       "<Figure size 803.766x720 with 4 Axes>"
      ]
     },
     "metadata": {},
     "output_type": "display_data"
    }
   ],
   "source": [
    "# figure of model comparisons on training  \n",
    "plt.figure(figsize = (8, 10))\n",
    "g = sns.relplot(data = grid_results_long[(grid_results_long.metric == \"precision\")], \n",
    "                x = \"log_C\", y = 'score', \n",
    "                color = \"black\", hue = \"dataset\",  \n",
    "                kind = \"line\",  col = \"preproc\", row = \"model\")\n",
    "g.set_xlabels(\"Log C\", size = 18)\n",
    "g.set_ylabels(\"Precision (mean CV)\", size = 18)\n",
    "plt.setp(g._legend.get_title(), fontsize = 18)\n",
    "plt.setp(g._legend.get_texts(), fontsize = 18)\n",
    "g.set_titles(size = 16)\n",
    "#plt.savefig(os.path.join(figure_path, \"Grid_CV_learning_curves_precision.png\"))"
   ]
  },
  {
   "cell_type": "markdown",
   "metadata": {},
   "source": [
    "## Find the best model"
   ]
  },
  {
   "cell_type": "code",
   "execution_count": 624,
   "metadata": {},
   "outputs": [
    {
     "data": {
      "text/html": [
       "<div>\n",
       "<style scoped>\n",
       "    .dataframe tbody tr th:only-of-type {\n",
       "        vertical-align: middle;\n",
       "    }\n",
       "\n",
       "    .dataframe tbody tr th {\n",
       "        vertical-align: top;\n",
       "    }\n",
       "\n",
       "    .dataframe thead th {\n",
       "        text-align: right;\n",
       "    }\n",
       "</style>\n",
       "<table border=\"1\" class=\"dataframe\">\n",
       "  <thead>\n",
       "    <tr style=\"text-align: right;\">\n",
       "      <th></th>\n",
       "      <th>model</th>\n",
       "      <th>preproc</th>\n",
       "      <th>param_model__C</th>\n",
       "      <th>log_C</th>\n",
       "      <th>mean_train_f1</th>\n",
       "      <th>mean_test_f1</th>\n",
       "      <th>mean_train_precision</th>\n",
       "      <th>mean_test_precision</th>\n",
       "      <th>mean_train_recall</th>\n",
       "      <th>mean_test_recall</th>\n",
       "      <th>mean_train_acc</th>\n",
       "      <th>mean_test_acc</th>\n",
       "      <th>mean_train_roc_auc</th>\n",
       "      <th>mean_test_roc_auc</th>\n",
       "      <th>mean_train_average_precision</th>\n",
       "      <th>mean_test_average_precision</th>\n",
       "      <th>mean_train_brier_score_loss</th>\n",
       "      <th>mean_test_brier_score_loss</th>\n",
       "    </tr>\n",
       "  </thead>\n",
       "  <tbody>\n",
       "    <tr>\n",
       "      <th>15</th>\n",
       "      <td>L1 bal</td>\n",
       "      <td>Basic</td>\n",
       "      <td>1.0</td>\n",
       "      <td>0.0</td>\n",
       "      <td>0.731094</td>\n",
       "      <td>0.725263</td>\n",
       "      <td>0.762061</td>\n",
       "      <td>0.757271</td>\n",
       "      <td>0.702667</td>\n",
       "      <td>0.696983</td>\n",
       "      <td>0.654927</td>\n",
       "      <td>0.648212</td>\n",
       "      <td>0.657258</td>\n",
       "      <td>0.631777</td>\n",
       "      <td>0.775176</td>\n",
       "      <td>0.7563</td>\n",
       "      <td>-0.230517</td>\n",
       "      <td>-0.23533</td>\n",
       "    </tr>\n",
       "  </tbody>\n",
       "</table>\n",
       "</div>"
      ],
      "text/plain": [
       "     model preproc  param_model__C  log_C  mean_train_f1  mean_test_f1  \\\n",
       "15  L1 bal   Basic             1.0    0.0       0.731094      0.725263   \n",
       "\n",
       "    mean_train_precision  mean_test_precision  mean_train_recall  \\\n",
       "15              0.762061             0.757271           0.702667   \n",
       "\n",
       "    mean_test_recall  mean_train_acc  mean_test_acc  mean_train_roc_auc  \\\n",
       "15          0.696983        0.654927       0.648212            0.657258   \n",
       "\n",
       "    mean_test_roc_auc  mean_train_average_precision  \\\n",
       "15           0.631777                      0.775176   \n",
       "\n",
       "    mean_test_average_precision  mean_train_brier_score_loss  \\\n",
       "15                       0.7563                    -0.230517   \n",
       "\n",
       "    mean_test_brier_score_loss  \n",
       "15                    -0.23533  "
      ]
     },
     "execution_count": 624,
     "metadata": {},
     "output_type": "execute_result"
    }
   ],
   "source": [
    "best_metric = grid_results['mean_test_precision'].max()\n",
    "match_best = grid_results['mean_test_precision'] == best_metric\n",
    "best_model = grid_results[match_best]\n",
    "best_model"
   ]
  },
  {
   "cell_type": "code",
   "execution_count": 222,
   "metadata": {},
   "outputs": [
    {
     "name": "stdout",
     "output_type": "stream",
     "text": [
      "Best precision: 0.757\n",
      "Best PR AUC : 0.756 \n",
      "Best F1 score:0.725 \n",
      "Best ROC AUC 0.632 \n",
      "Best Recall 0.697\n",
      "Best C parameter: 1.000\n",
      "Best model: 15    L1 bal\n",
      "Name: model, dtype: object with 15    Basic\n",
      "Name: preproc, dtype: object \n"
     ]
    }
   ],
   "source": [
    "\n",
    "print(\"Best precision: %0.3f\" % best_metric)\n",
    "print(\"Best Recall %0.3f\" % best_model['mean_test_recall'])\n",
    "\n",
    "print(\"Best PR AUC : %0.3f \" % best_model['mean_test_average_precision'])\n",
    "print(\"Best ROC AUC %0.3f \" % best_model['mean_test_roc_auc'])\n",
    "\n",
    "print(\"Best F1 score:%0.3f \" % best_model['mean_test_f1'])\n",
    "print(\"Best C parameter: %.3f\" % best_model['param_model__C'])\n",
    "print(\"Best model: %s with %s \" % (best_model['model'], best_model['preproc']))\n"
   ]
  },
  {
   "cell_type": "markdown",
   "metadata": {},
   "source": [
    "### obtain feature names from preprocessed data\n",
    "- note: tumor_site was dummy-encoded, with \"Extremity\" as the reference.\n",
    "- preprocessor changes order of variables"
   ]
  },
  {
   "cell_type": "code",
   "execution_count": 728,
   "metadata": {},
   "outputs": [
    {
     "name": "stderr",
     "output_type": "stream",
     "text": [
      "../mcc_metastasis/modeling.py:159: UserWarning: Transformer std_scaler (type StandardScaler) does not provide get_feature_names. Will return input column names if available\n",
      "  # names to the column transformer\n"
     ]
    }
   ],
   "source": [
    "\n",
    "# get new feature order frorm preprocessor\n",
    "preproc_feature_order = pd.DataFrame(modeling.get_feature_names(preprocessor))\n",
    "preproc_feature_order.columns = ['variable']\n",
    "preproc_feature_order['num'] = np.arange(start = 0, stop = 9, step = 1).astype('str')\n",
    "preproc_feature_order['blah'] = 'x'\n",
    "preproc_feature_order['index'] = preproc_feature_order.blah.str.cat(preproc_feature_order.num, sep = \"\")\n",
    "preproc_feature_order['variable'] = preproc_feature_order.variable.replace({'num__AGE': 'age',\n",
    "                                                                            'num__tumor_size':'tumor_size',\n",
    "                                                                           'onehot__x0_head_neck':'tumor_head/neck',\n",
    "                                                                           'onehot__x0_other': 'tumor_other',\n",
    "                                                                           'onehot__x0_trunk':  'tumor_trunk',\n",
    "                                                                           'SEX': 'sex'})\n",
    "\n",
    "# apply to the preprocessed datasets\n",
    "preproc_X_train_df = pd.DataFrame(preproc_X_train, columns = preproc_feature_order.variable) \n",
    "preproc_X_test_df = pd.DataFrame(preproc_X_test, columns = preproc_feature_order.variable)\n"
   ]
  },
  {
   "cell_type": "markdown",
   "metadata": {},
   "source": [
    "### Define the best model "
   ]
  },
  {
   "cell_type": "code",
   "execution_count": 729,
   "metadata": {},
   "outputs": [],
   "source": [
    "best_LR_model = LogisticRegression(class_weight = \"balanced\",\n",
    "                                   max_iter = 1000,\n",
    "                                   penalty = 'l1', \n",
    "                                   solver = 'liblinear',\n",
    "                                   C = 1)"
   ]
  },
  {
   "cell_type": "markdown",
   "metadata": {},
   "source": [
    "###  Find feature importance with bootstrapped CI\n",
    "- retrain model using all train-val data\n",
    "- using empirical quantiles for 95% CI \n",
    "- not using parametric estimates from SE, because w non-parametric bootstrap, inflated estimates... \n"
   ]
  },
  {
   "cell_type": "markdown",
   "metadata": {},
   "source": [
    "#### fit model with boostrap resamples "
   ]
  },
  {
   "cell_type": "code",
   "execution_count": 730,
   "metadata": {},
   "outputs": [
    {
     "name": "stdout",
     "output_type": "stream",
     "text": [
      "319\n"
     ]
    }
   ],
   "source": [
    "# use data frrom your test sample\n",
    "data = pd.concat([X_test, y_test], axis = 1)\n",
    "# set up lloop \n",
    "n_iterations = 1000\n",
    "n_size = int(data.shape[0])\n",
    "print(n_size)\n",
    "# run bootstrap\n",
    "stats = pd.DataFrame()\n",
    "for i in range(n_iterations):\n",
    "    # prepare boostrap sample with resampling, and make sure you stratify!\n",
    "    train = resample(data, n_samples = n_size, replace = True, stratify = data['no_mets'])\n",
    "    X_train_boot = pd.DataFrame(train.iloc[:, :-1],  columns = features.columns)\n",
    "    y_train_boot = train.iloc[:, -1] # last collumns\n",
    "\n",
    "   # print(X_train_boot.shape)\n",
    "    # get out-of-bag estimates to test, find rows that weren't included in the train sample\n",
    "    test = np.array([x for x in data.to_numpy() if x.tolist() not in train.to_numpy().tolist()])\n",
    "    X_test_boot = pd.DataFrame(test[:, :-1],  columns = features.columns )\n",
    "    y_test_boot = pd.DataFrame(test[:, -1]).astype('float') # last column \n",
    "    \n",
    "   # print(X_test_boot.shape)\n",
    "    # apply preproc \n",
    "    # apply preprocessing to your bootstrap sample\n",
    "    preproc_X_train_boot = preproc_basic.fit_transform(X_train_boot)\n",
    "    preproc_X_test_boot = preproc_basic.fit_transform(X_test_boot)\n",
    "\n",
    "    # fit model\n",
    "    model = best_LR_model\n",
    "    model.fit(preproc_X_train_boot, y_train_boot)\n",
    "    y_pred_boot = model.predict(preproc_X_test_boot)\n",
    "\n",
    "    #print(classification_report(y_test_boot, y_pred_boot))\n",
    "    coefs = pd.DataFrame(model.coef_.T)\n",
    "    stats = pd.concat([stats, coefs], axis = 1)\n"
   ]
  },
  {
   "cell_type": "markdown",
   "metadata": {},
   "source": [
    "#### calculate CI from bootstraps"
   ]
  },
  {
   "cell_type": "code",
   "execution_count": 733,
   "metadata": {},
   "outputs": [],
   "source": [
    "upper_CI_q = pd.DataFrame()\n",
    "lower_CI_q = pd.DataFrame()\n",
    "\n",
    "for i in range(stats.shape[0]):\n",
    "   # print(i)\n",
    "    coef_row = stats.iloc[i, :]\n",
    "    # a different way, empirical quantiles \n",
    "    CI_quantile = (coef_row).quantile([0.025, 0.975])\n",
    "    upper_q = pd.Series(CI_quantile.iloc[1])\n",
    "    lower_q = pd.Series(CI_quantile.iloc[0])\n",
    "    upper_CI_q = pd.concat([upper_CI_q, upper_q], axis = 0, ignore_index = True)\n",
    "    lower_CI_q = pd.concat([lower_CI_q, lower_q], axis = 0, ignore_index = True)\n",
    "    "
   ]
  },
  {
   "cell_type": "code",
   "execution_count": 736,
   "metadata": {},
   "outputs": [
    {
     "name": "stderr",
     "output_type": "stream",
     "text": [
      "/Users/michellevantieghem2/.conda/envs/insight/lib/python3.7/site-packages/ipykernel_launcher.py:18: UserWarning: FixedFormatter should only be used together with FixedLocator\n"
     ]
    },
    {
     "data": {
      "text/plain": [
       "<Figure size 720x576 with 0 Axes>"
      ]
     },
     "metadata": {},
     "output_type": "display_data"
    },
    {
     "data": {
      "image/png": "[encoded data removed]",
      "text/plain": [
       "<Figure size 720x432 with 1 Axes>"
      ]
     },
     "metadata": {},
     "output_type": "display_data"
    }
   ],
   "source": [
    "# make summary table \n",
    "stats_summary = pd.DataFrame()\n",
    "stats_summary['features'] = preproc_feature_order.variable\n",
    "stats_summary['mean'] = stats.mean(axis = 1)\n",
    "stats_summary['upper'] = upper_CI_q\n",
    "stats_summary['lower'] = lower_CI_q\n",
    "\n",
    "# redo feature importance, with CI \n",
    "coefs_ordered = stats_summary.sort_values(by = 'mean', ascending = False, ignore_index = True)\n",
    "n_features = coefs_ordered.shape[0]\n",
    "error = coefs_ordered['upper'] - coefs_ordered['mean']\n",
    "\n",
    "filename = os.path.join(figure_path, \"feature_importance_trainval_bootstrap_CI.png\")\n",
    "plt.figure(figsize = (10, 8))\n",
    "fig, ax = plt.subplots(1,1, figsize = (10,6))\n",
    "ax.barh(coefs_ordered['features'], coefs_ordered['mean'], xerr = error,\n",
    "        align = 'center', alpha = 0.5, ecolor = \"black\")\n",
    "ax.set_yticklabels(coefs_ordered['features'], size = 15)\n",
    "ax.invert_yaxis()\n",
    "ax.set_xlabel(\"Coefficients\", size = 15)\n",
    "ax.set_title(\"Feature Importance\", size = 20)\n",
    "plt.savefig(filename, bbox_inches = 'tight')\n",
    "plt.show()\n"
   ]
  }
 ],
 "metadata": {
  "kernelspec": {
   "display_name": "Python 3",
   "language": "python",
   "name": "python3"
  },
  "language_info": {
   "codemirror_mode": {
    "name": "ipython",
    "version": 3
   },
   "file_extension": ".py",
   "mimetype": "text/x-python",
   "name": "python",
   "nbconvert_exporter": "python",
   "pygments_lexer": "ipython3",
   "version": "3.7.9"
  }
 },
 "nbformat": 4,
 "nbformat_minor": 4
}
