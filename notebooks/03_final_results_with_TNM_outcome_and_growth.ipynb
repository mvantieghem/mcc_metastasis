{
 "cells": [
  {
   "cell_type": "code",
   "execution_count": 20,
   "metadata": {},
   "outputs": [],
   "source": [
    "import sklearn\n",
    "import pandas as pd\n",
    "import numpy as np\n",
    "import math\n",
    "import warnings\n",
    "# plotting\n",
    "import seaborn as sns\n",
    "from matplotlib import pyplot \n",
    "import matplotlib.pyplot as plt\n",
    "sns.set(context='paper', style='whitegrid', rc={'figure.facecolor':'white'}, font_scale=1.2)\n",
    "\n",
    "# preproc\n",
    "from scipy.stats import zscore\n",
    "from sklearn.preprocessing import StandardScaler, OneHotEncoder\n",
    "from sklearn.preprocessing import PolynomialFeatures\n",
    "from sklearn.pipeline import make_pipeline, Pipeline\n",
    "from sklearn.compose import ColumnTransformer, make_column_transformer\n",
    "from sklearn.impute import KNNImputer\n",
    "from sklearn.experimental import enable_iterative_imputer\n",
    "from sklearn.impute import IterativeImputer\n",
    "\n",
    "# modeling\n",
    "from sklearn.linear_model import LogisticRegression\n",
    "from sklearn.svm import SVC\n",
    "from sklearn.ensemble import RandomForestClassifier\n",
    "\n",
    "# grid search CV for model tuning\n",
    "from sklearn.model_selection import train_test_split, GridSearchCV, RepeatedStratifiedKFold\n",
    "\n",
    "# metrics for classification\n",
    "from sklearn.metrics import roc_auc_score, roc_curve\n",
    "from sklearn.metrics import precision_recall_curve\n",
    "from sklearn.metrics import recall_score, precision_score, average_precision_score\n",
    "from sklearn.metrics import accuracy_score, f1_score, brier_score_loss\n",
    "from sklearn.metrics import classification_report, confusion_matrix \n",
    "from sklearn.metrics import make_scorer, auc\n",
    "\n",
    "# post-processing \n",
    "from sklearn.calibration import calibration_curve\n",
    "from sklearn.calibration import CalibratedClassifierCV\n",
    "\n",
    "\n",
    "# statistical reporting\n",
    "import statsmodels.api as sm\n",
    "from sklearn.utils import resample\n",
    "\n",
    "\n",
    "# import custom functions from my package\n",
    "import sys\n",
    "import os\n",
    "sys.path.append(\"../\")\n",
    "from mcc_metastasis import modeling \n",
    "from mcc_metastasis import custom_plots\n",
    "from mcc_metastasis import data_cleaning as dc\n",
    "\n",
    "RANDOM = 0\n",
    "figure_path = \"../figures/NCDB_final_model/\"\n",
    "\n",
    "def missingness_table(df) :\n",
    "    total = df.isnull().sum().sort_values(ascending = False)\n",
    "    percent = (df.isnull().sum()/df.isnull().count()*100).round(2).sort_values(ascending = False)\n",
    "    missing_data  = pd.concat([total, percent], axis=1, keys=['N missing', '% missing'])\n",
    "    return(missing_data)\n"
   ]
  },
  {
   "cell_type": "markdown",
   "metadata": {},
   "source": [
    "## Inspect data"
   ]
  },
  {
   "cell_type": "code",
   "execution_count": 12,
   "metadata": {},
   "outputs": [],
   "source": [
    " \n",
    "df = pd.read_csv(\"../data/cleaned/NCDB_cleaned_all_cases.csv\") \n",
    "\n",
    "# fix up some features\n",
    "df['AGE'] = df.AGE.astype('float')\n",
    "df['TNM_negative'] = df.TNM_positive.replace({0:1, 1:0})\n",
    "df['tumor_site'] = df.tumor_site.astype(\"category\")\n"
   ]
  },
  {
   "cell_type": "markdown",
   "metadata": {},
   "source": [
    "\n",
    "\n",
    "### Filter data for features of interest\n",
    "- 7 features: age, sex, tumor size, tumor site, growth pattern, lymphocytes, LVI\n",
    "- check missingness across all available data"
   ]
  },
  {
   "cell_type": "code",
   "execution_count": 21,
   "metadata": {},
   "outputs": [
    {
     "data": {
      "text/html": [
       "<div>\n",
       "<style scoped>\n",
       "    .dataframe tbody tr th:only-of-type {\n",
       "        vertical-align: middle;\n",
       "    }\n",
       "\n",
       "    .dataframe tbody tr th {\n",
       "        vertical-align: top;\n",
       "    }\n",
       "\n",
       "    .dataframe thead th {\n",
       "        text-align: right;\n",
       "    }\n",
       "</style>\n",
       "<table border=\"1\" class=\"dataframe\">\n",
       "  <thead>\n",
       "    <tr style=\"text-align: right;\">\n",
       "      <th></th>\n",
       "      <th>N missing</th>\n",
       "      <th>% missing</th>\n",
       "    </tr>\n",
       "  </thead>\n",
       "  <tbody>\n",
       "    <tr>\n",
       "      <th>growth_pattern</th>\n",
       "      <td>1998</td>\n",
       "      <td>69.21</td>\n",
       "    </tr>\n",
       "    <tr>\n",
       "      <th>tumor_lymphocytes</th>\n",
       "      <td>1555</td>\n",
       "      <td>53.86</td>\n",
       "    </tr>\n",
       "    <tr>\n",
       "      <th>tumor_size</th>\n",
       "      <td>263</td>\n",
       "      <td>9.11</td>\n",
       "    </tr>\n",
       "    <tr>\n",
       "      <th>lymph_vasc_invasion</th>\n",
       "      <td>0</td>\n",
       "      <td>0.00</td>\n",
       "    </tr>\n",
       "    <tr>\n",
       "      <th>SEX</th>\n",
       "      <td>0</td>\n",
       "      <td>0.00</td>\n",
       "    </tr>\n",
       "    <tr>\n",
       "      <th>tumor_site</th>\n",
       "      <td>0</td>\n",
       "      <td>0.00</td>\n",
       "    </tr>\n",
       "    <tr>\n",
       "      <th>AGE</th>\n",
       "      <td>0</td>\n",
       "      <td>0.00</td>\n",
       "    </tr>\n",
       "    <tr>\n",
       "      <th>TNM_negative</th>\n",
       "      <td>0</td>\n",
       "      <td>0.00</td>\n",
       "    </tr>\n",
       "  </tbody>\n",
       "</table>\n",
       "</div>"
      ],
      "text/plain": [
       "                     N missing  % missing\n",
       "growth_pattern            1998      69.21\n",
       "tumor_lymphocytes         1555      53.86\n",
       "tumor_size                 263       9.11\n",
       "lymph_vasc_invasion          0       0.00\n",
       "SEX                          0       0.00\n",
       "tumor_site                   0       0.00\n",
       "AGE                          0       0.00\n",
       "TNM_negative                 0       0.00"
      ]
     },
     "execution_count": 21,
     "metadata": {},
     "output_type": "execute_result"
    }
   ],
   "source": [
    "\n",
    "# select only features for analysis\n",
    "df = df[['TNM_negative', 'AGE', 'tumor_size', 'tumor_site', 'SEX', \n",
    "              'growth_pattern', 'tumor_lymphocytes', 'lymph_vasc_invasion']]\n",
    "\n",
    "# check missingness and save to table\n",
    "missingness_table(df).to_csv(\"../tables/full_missingness_table.csv\")\n",
    "missingness_table(df)\n"
   ]
  },
  {
   "cell_type": "markdown",
   "metadata": {},
   "source": [
    "### Filter data for only cases with valid outcome \n",
    "- check missingness"
   ]
  },
  {
   "cell_type": "code",
   "execution_count": 22,
   "metadata": {},
   "outputs": [
    {
     "name": "stdout",
     "output_type": "stream",
     "text": [
      "Total for MCC: 2887\n",
      "Total N with outcome: 2887\n",
      "Complete cases: 669\n"
     ]
    },
    {
     "data": {
      "text/html": [
       "<div>\n",
       "<style scoped>\n",
       "    .dataframe tbody tr th:only-of-type {\n",
       "        vertical-align: middle;\n",
       "    }\n",
       "\n",
       "    .dataframe tbody tr th {\n",
       "        vertical-align: top;\n",
       "    }\n",
       "\n",
       "    .dataframe thead th {\n",
       "        text-align: right;\n",
       "    }\n",
       "</style>\n",
       "<table border=\"1\" class=\"dataframe\">\n",
       "  <thead>\n",
       "    <tr style=\"text-align: right;\">\n",
       "      <th></th>\n",
       "      <th>N missing</th>\n",
       "      <th>% missing</th>\n",
       "    </tr>\n",
       "  </thead>\n",
       "  <tbody>\n",
       "    <tr>\n",
       "      <th>growth_pattern</th>\n",
       "      <td>1998</td>\n",
       "      <td>69.21</td>\n",
       "    </tr>\n",
       "    <tr>\n",
       "      <th>tumor_lymphocytes</th>\n",
       "      <td>1555</td>\n",
       "      <td>53.86</td>\n",
       "    </tr>\n",
       "    <tr>\n",
       "      <th>tumor_size</th>\n",
       "      <td>263</td>\n",
       "      <td>9.11</td>\n",
       "    </tr>\n",
       "    <tr>\n",
       "      <th>lymph_vasc_invasion</th>\n",
       "      <td>0</td>\n",
       "      <td>0.00</td>\n",
       "    </tr>\n",
       "    <tr>\n",
       "      <th>SEX</th>\n",
       "      <td>0</td>\n",
       "      <td>0.00</td>\n",
       "    </tr>\n",
       "    <tr>\n",
       "      <th>tumor_site</th>\n",
       "      <td>0</td>\n",
       "      <td>0.00</td>\n",
       "    </tr>\n",
       "    <tr>\n",
       "      <th>AGE</th>\n",
       "      <td>0</td>\n",
       "      <td>0.00</td>\n",
       "    </tr>\n",
       "    <tr>\n",
       "      <th>TNM_negative</th>\n",
       "      <td>0</td>\n",
       "      <td>0.00</td>\n",
       "    </tr>\n",
       "  </tbody>\n",
       "</table>\n",
       "</div>"
      ],
      "text/plain": [
       "                     N missing  % missing\n",
       "growth_pattern            1998      69.21\n",
       "tumor_lymphocytes         1555      53.86\n",
       "tumor_size                 263       9.11\n",
       "lymph_vasc_invasion          0       0.00\n",
       "SEX                          0       0.00\n",
       "tumor_site                   0       0.00\n",
       "AGE                          0       0.00\n",
       "TNM_negative                 0       0.00"
      ]
     },
     "execution_count": 22,
     "metadata": {},
     "output_type": "execute_result"
    }
   ],
   "source": [
    "# only include valid cases for outcome\n",
    "print(\"Total for MCC: %0.f\" % len(df))\n",
    "df = df[(df.TNM_negative.notnull())]\n",
    "print(\"Total N with outcome: %0.f\" % len(df))\n",
    "df_complete = df.dropna(axis = 0)\n",
    "print(\"Complete cases: %0.f\" % len(df_complete))\n",
    "missingness_table(df)"
   ]
  },
  {
   "cell_type": "markdown",
   "metadata": {},
   "source": [
    "### Decide which variables to impute\n",
    "-  don't want to impute 80% of LVI and TL..."
   ]
  },
  {
   "cell_type": "code",
   "execution_count": 23,
   "metadata": {},
   "outputs": [
    {
     "name": "stdout",
     "output_type": "stream",
     "text": [
      "Total N with outcome and LVI: 2887\n",
      "Complete cases: 669\n"
     ]
    },
    {
     "data": {
      "text/html": [
       "<div>\n",
       "<style scoped>\n",
       "    .dataframe tbody tr th:only-of-type {\n",
       "        vertical-align: middle;\n",
       "    }\n",
       "\n",
       "    .dataframe tbody tr th {\n",
       "        vertical-align: top;\n",
       "    }\n",
       "\n",
       "    .dataframe thead th {\n",
       "        text-align: right;\n",
       "    }\n",
       "</style>\n",
       "<table border=\"1\" class=\"dataframe\">\n",
       "  <thead>\n",
       "    <tr style=\"text-align: right;\">\n",
       "      <th></th>\n",
       "      <th>N missing</th>\n",
       "      <th>% missing</th>\n",
       "    </tr>\n",
       "  </thead>\n",
       "  <tbody>\n",
       "    <tr>\n",
       "      <th>growth_pattern</th>\n",
       "      <td>1998</td>\n",
       "      <td>69.21</td>\n",
       "    </tr>\n",
       "    <tr>\n",
       "      <th>tumor_lymphocytes</th>\n",
       "      <td>1555</td>\n",
       "      <td>53.86</td>\n",
       "    </tr>\n",
       "    <tr>\n",
       "      <th>tumor_size</th>\n",
       "      <td>263</td>\n",
       "      <td>9.11</td>\n",
       "    </tr>\n",
       "    <tr>\n",
       "      <th>lymph_vasc_invasion</th>\n",
       "      <td>0</td>\n",
       "      <td>0.00</td>\n",
       "    </tr>\n",
       "    <tr>\n",
       "      <th>SEX</th>\n",
       "      <td>0</td>\n",
       "      <td>0.00</td>\n",
       "    </tr>\n",
       "    <tr>\n",
       "      <th>tumor_site</th>\n",
       "      <td>0</td>\n",
       "      <td>0.00</td>\n",
       "    </tr>\n",
       "    <tr>\n",
       "      <th>AGE</th>\n",
       "      <td>0</td>\n",
       "      <td>0.00</td>\n",
       "    </tr>\n",
       "    <tr>\n",
       "      <th>TNM_negative</th>\n",
       "      <td>0</td>\n",
       "      <td>0.00</td>\n",
       "    </tr>\n",
       "  </tbody>\n",
       "</table>\n",
       "</div>"
      ],
      "text/plain": [
       "                     N missing  % missing\n",
       "growth_pattern            1998      69.21\n",
       "tumor_lymphocytes         1555      53.86\n",
       "tumor_size                 263       9.11\n",
       "lymph_vasc_invasion          0       0.00\n",
       "SEX                          0       0.00\n",
       "tumor_site                   0       0.00\n",
       "AGE                          0       0.00\n",
       "TNM_negative                 0       0.00"
      ]
     },
     "execution_count": 23,
     "metadata": {},
     "output_type": "execute_result"
    }
   ],
   "source": [
    "\n",
    "df = df[(df.TNM_negative.notnull()) & (df.lymph_vasc_invasion.notnull())]\n",
    "print(\"Total N with outcome and LVI: %0.f\" % len(df))\n",
    "df_complete = df.dropna(axis = 0)\n",
    "print(\"Complete cases: %0.f\" % len(df_complete))\n",
    "\n",
    "missingness_table(df).to_csv(\"../tables/N2887_missingness_table_to_impute.csv\")\n",
    "missingness_table(df)"
   ]
  },
  {
   "cell_type": "markdown",
   "metadata": {},
   "source": [
    "## Preprocessing\n",
    "### One-hot encode tumor site \n",
    "- one-hot encode categorical features\n",
    "-- tumor site: dropping one level as reference (extremity)\n"
   ]
  },
  {
   "cell_type": "code",
   "execution_count": 24,
   "metadata": {},
   "outputs": [],
   "source": [
    "one_hot_tumor_site = pd.get_dummies(df.tumor_site, prefix = 'tumor_site', drop_first =True)\n",
    "df = df.drop(columns = ['tumor_site'])\n",
    "df = pd.concat([df, one_hot_tumor_site], axis = 1)\n"
   ]
  },
  {
   "cell_type": "markdown",
   "metadata": {},
   "source": [
    "\n",
    "### Impute data \n",
    "- needs to be outside pipeline for now, since imputation provides non-binary values\n",
    "- add as custom preproc step later"
   ]
  },
  {
   "cell_type": "code",
   "execution_count": 26,
   "metadata": {},
   "outputs": [
    {
     "data": {
      "text/html": [
       "<div>\n",
       "<style scoped>\n",
       "    .dataframe tbody tr th:only-of-type {\n",
       "        vertical-align: middle;\n",
       "    }\n",
       "\n",
       "    .dataframe tbody tr th {\n",
       "        vertical-align: top;\n",
       "    }\n",
       "\n",
       "    .dataframe thead th {\n",
       "        text-align: right;\n",
       "    }\n",
       "</style>\n",
       "<table border=\"1\" class=\"dataframe\">\n",
       "  <thead>\n",
       "    <tr style=\"text-align: right;\">\n",
       "      <th></th>\n",
       "      <th>AGE</th>\n",
       "      <th>tumor_size</th>\n",
       "      <th>SEX</th>\n",
       "      <th>growth_pattern</th>\n",
       "      <th>tumor_lymphocytes</th>\n",
       "      <th>lymph_vasc_invasion</th>\n",
       "      <th>tumor_site_head_neck</th>\n",
       "      <th>tumor_site_other</th>\n",
       "      <th>tumor_site_trunk</th>\n",
       "      <th>TNM_negative</th>\n",
       "    </tr>\n",
       "  </thead>\n",
       "  <tbody>\n",
       "    <tr>\n",
       "      <th>0</th>\n",
       "      <td>71.0</td>\n",
       "      <td>1.0</td>\n",
       "      <td>1.0</td>\n",
       "      <td>0.284245</td>\n",
       "      <td>0.274179</td>\n",
       "      <td>0.0</td>\n",
       "      <td>1.0</td>\n",
       "      <td>0.0</td>\n",
       "      <td>0.0</td>\n",
       "      <td>1.0</td>\n",
       "    </tr>\n",
       "    <tr>\n",
       "      <th>1</th>\n",
       "      <td>59.0</td>\n",
       "      <td>2.5</td>\n",
       "      <td>0.0</td>\n",
       "      <td>0.268583</td>\n",
       "      <td>0.308079</td>\n",
       "      <td>0.0</td>\n",
       "      <td>0.0</td>\n",
       "      <td>0.0</td>\n",
       "      <td>0.0</td>\n",
       "      <td>1.0</td>\n",
       "    </tr>\n",
       "    <tr>\n",
       "      <th>2</th>\n",
       "      <td>90.0</td>\n",
       "      <td>1.5</td>\n",
       "      <td>1.0</td>\n",
       "      <td>0.313679</td>\n",
       "      <td>0.283550</td>\n",
       "      <td>0.0</td>\n",
       "      <td>0.0</td>\n",
       "      <td>0.0</td>\n",
       "      <td>0.0</td>\n",
       "      <td>1.0</td>\n",
       "    </tr>\n",
       "    <tr>\n",
       "      <th>3</th>\n",
       "      <td>58.0</td>\n",
       "      <td>0.5</td>\n",
       "      <td>1.0</td>\n",
       "      <td>0.000000</td>\n",
       "      <td>0.000000</td>\n",
       "      <td>0.0</td>\n",
       "      <td>0.0</td>\n",
       "      <td>0.0</td>\n",
       "      <td>0.0</td>\n",
       "      <td>1.0</td>\n",
       "    </tr>\n",
       "    <tr>\n",
       "      <th>4</th>\n",
       "      <td>53.0</td>\n",
       "      <td>1.7</td>\n",
       "      <td>1.0</td>\n",
       "      <td>0.251498</td>\n",
       "      <td>0.355273</td>\n",
       "      <td>0.0</td>\n",
       "      <td>0.0</td>\n",
       "      <td>0.0</td>\n",
       "      <td>0.0</td>\n",
       "      <td>0.0</td>\n",
       "    </tr>\n",
       "  </tbody>\n",
       "</table>\n",
       "</div>"
      ],
      "text/plain": [
       "    AGE  tumor_size  SEX  growth_pattern  tumor_lymphocytes  \\\n",
       "0  71.0         1.0  1.0        0.284245           0.274179   \n",
       "1  59.0         2.5  0.0        0.268583           0.308079   \n",
       "2  90.0         1.5  1.0        0.313679           0.283550   \n",
       "3  58.0         0.5  1.0        0.000000           0.000000   \n",
       "4  53.0         1.7  1.0        0.251498           0.355273   \n",
       "\n",
       "   lymph_vasc_invasion  tumor_site_head_neck  tumor_site_other  \\\n",
       "0                  0.0                   1.0               0.0   \n",
       "1                  0.0                   0.0               0.0   \n",
       "2                  0.0                   0.0               0.0   \n",
       "3                  0.0                   0.0               0.0   \n",
       "4                  0.0                   0.0               0.0   \n",
       "\n",
       "   tumor_site_trunk  TNM_negative  \n",
       "0               0.0           1.0  \n",
       "1               0.0           1.0  \n",
       "2               0.0           1.0  \n",
       "3               0.0           1.0  \n",
       "4               0.0           0.0  "
      ]
     },
     "execution_count": 26,
     "metadata": {},
     "output_type": "execute_result"
    }
   ],
   "source": [
    "\n",
    "# split up data \n",
    "outcome = df['TNM_negative'].reset_index(drop = True)\n",
    "features = df.drop(columns = 'TNM_negative')\n",
    "\n",
    "## impute\n",
    "imputer = IterativeImputer(max_iter=10, random_state=0)\n",
    "imputed_features =  pd.DataFrame(imputer.fit_transform(features), columns = features.columns)\n",
    "imputed_df = pd.concat([imputed_features, outcome], axis = 1)\n",
    "imputed_df.head()"
   ]
  },
  {
   "cell_type": "code",
   "execution_count": 27,
   "metadata": {},
   "outputs": [
    {
     "data": {
      "text/plain": [
       "2.000000     258\n",
       "1.000000     235\n",
       "1.500000     148\n",
       "0.500000     118\n",
       "0.600000     113\n",
       "            ... \n",
       "1.758647       1\n",
       "12.700000      1\n",
       "1.540144       1\n",
       "1.542694       1\n",
       "7.300000       1\n",
       "Name: tumor_size, Length: 318, dtype: int64"
      ]
     },
     "execution_count": 27,
     "metadata": {},
     "output_type": "execute_result"
    }
   ],
   "source": [
    "imputed_df.tumor_size.value_counts()"
   ]
  },
  {
   "cell_type": "code",
   "execution_count": 28,
   "metadata": {},
   "outputs": [
    {
     "data": {
      "text/plain": [
       "0.000000    862\n",
       "1.000000    470\n",
       "0.287929      4\n",
       "0.317781      4\n",
       "0.341049      3\n",
       "           ... \n",
       "0.333002      1\n",
       "0.329935      1\n",
       "0.335053      1\n",
       "0.215757      1\n",
       "0.296018      1\n",
       "Name: tumor_lymphocytes, Length: 1442, dtype: int64"
      ]
     },
     "execution_count": 28,
     "metadata": {},
     "output_type": "execute_result"
    }
   ],
   "source": [
    "imputed_df.tumor_lymphocytes.value_counts()"
   ]
  },
  {
   "cell_type": "code",
   "execution_count": 29,
   "metadata": {},
   "outputs": [
    {
     "data": {
      "text/plain": [
       "0.0    1958\n",
       "1.0     929\n",
       "Name: lymph_vasc_invasion, dtype: int64"
      ]
     },
     "execution_count": 29,
     "metadata": {},
     "output_type": "execute_result"
    }
   ],
   "source": [
    "# binarize imputed variable !! \n",
    "imputed_features['tumor_lymphocytes'] = imputed_features.tumor_lymphocytes.\\\n",
    "apply(lambda x : 1 if x > 0.5 else 0)\n",
    "imputed_features.lymph_vasc_invasion.value_counts()"
   ]
  },
  {
   "cell_type": "code",
   "execution_count": 30,
   "metadata": {},
   "outputs": [
    {
     "data": {
      "text/plain": [
       "0    2557\n",
       "1     330\n",
       "Name: growth_pattern, dtype: int64"
      ]
     },
     "execution_count": 30,
     "metadata": {},
     "output_type": "execute_result"
    }
   ],
   "source": [
    "#imputed_features.growth_pattern.value_counts()\n",
    "# binarize imputed variable !! \n",
    "imputed_features['growth_pattern'] = imputed_features.growth_pattern.\\\n",
    "apply(lambda x : 1 if x > 0.5 else 0)\n",
    "\n",
    "imputed_features.growth_pattern.value_counts()"
   ]
  },
  {
   "cell_type": "markdown",
   "metadata": {},
   "source": [
    "### Standardizing numeric features\n",
    "- standard scale (zscore) numeric, continuous features\n",
    "- using pipeline so that each sub-sample is standardized separately!"
   ]
  },
  {
   "cell_type": "code",
   "execution_count": 33,
   "metadata": {},
   "outputs": [],
   "source": [
    "# DEFINE PREPROCESSING \n",
    "num_features = ['AGE', 'tumor_size']\n",
    "all_features = features.columns\n",
    "\n",
    "# Build a preprcessing pipeline for numeric variables\n",
    "num_pipeline = Pipeline(steps=[\n",
    "    ('std_scaler', StandardScaler())])\n",
    "    # Build a preprocessing pipeline for categorical variables\n",
    "\n",
    "# Instantiate a preprocessor\n",
    "preprocessor = ColumnTransformer(\n",
    "    transformers=[\n",
    "    (\"num\", num_pipeline, num_features)],\n",
    "    remainder = 'passthrough')\n",
    "\n",
    "preproc_basic = Pipeline(steps = [('preproc', preprocessor)])"
   ]
  },
  {
   "cell_type": "markdown",
   "metadata": {},
   "source": [
    "## ML pipeline \n",
    "\n",
    "### Set up logistic regression\n",
    "- with 2 types of calibration and cross-validation"
   ]
  },
  {
   "cell_type": "code",
   "execution_count": 34,
   "metadata": {},
   "outputs": [],
   "source": [
    "# define CV folds                                                       \n",
    "CV_folds =  RepeatedStratifiedKFold(n_splits = 3, \n",
    "                                    n_repeats =  5,  \n",
    "                                    random_state = 0)\n",
    "# define logisic reg\n",
    "LR_model = LogisticRegression(class_weight = 'balanced', \n",
    "                              max_iter = 1000,\n",
    "                              penalty = 'l1', \n",
    "                               C = 10,\n",
    "                              solver = 'liblinear', \n",
    "                             random_state = 0)\n",
    "\n",
    "# add extra step of calibration \n",
    "Isotonic = CalibratedClassifierCV(LR_model, method = \"isotonic\", cv = CV_folds)\n",
    "Sigmoid = CalibratedClassifierCV(LR_model, method = \"sigmoid\", cv = CV_folds)\n",
    "\n",
    "# define scores to get from each model \n",
    "def get_scores(y_test, y_pred):\n",
    "        scores = pd.DataFrame({ \"metrics\"  : [\"precision\", \"recall\", \"roc_auc\",\n",
    "                                          \"accuracy\", \"f1 score\", \"pr_auc\", \"brier_score\"],\n",
    "                                \"scores\" : [precision_score(y_test, y_pred), \n",
    "                                           recall_score(y_test, y_pred),\n",
    "                                            roc_auc_score(y_test, y_pred),\n",
    "                                            accuracy_score(y_test, y_pred),\n",
    "                                           f1_score(y_test, y_pred), \n",
    "                                           average_precision_score(y_test, y_pred), \n",
    "                                           brier_score_loss (y_test, y_pred)]\n",
    "                               })\n",
    "        scores['scores'] = scores.scores.round(3)\n",
    "        return (scores)\n"
   ]
  },
  {
   "cell_type": "markdown",
   "metadata": {},
   "source": [
    "#### Set up train-test splits\n",
    "- stratified by metastasis outcome "
   ]
  },
  {
   "cell_type": "code",
   "execution_count": 35,
   "metadata": {},
   "outputs": [
    {
     "name": "stdout",
     "output_type": "stream",
     "text": [
      "Training N: 1407\n",
      "Validation N: 1011\n",
      "Test N: 1011\n"
     ]
    }
   ],
   "source": [
    "# split into train and test set \n",
    "X_trainval, X_test, y_trainval, y_test = train_test_split(imputed_features, \n",
    "                                                              outcome,\n",
    "                                                              stratify =outcome,\n",
    "                                                              test_size = 0.35, \n",
    "                                                             random_state = 0)\n",
    "    # further split so only doing CV on the training, validattion for ccalibration\n",
    "X_train, X_val, y_train, y_val = train_test_split(X_trainval,\n",
    "                                                     y_trainval,\n",
    "                                                     stratify = y_trainval, \n",
    "                                                     test_size = 0.25, \n",
    "                                                     random_state = 0)\n",
    "print(\"Training N: %0.f\" % len(X_train))\n",
    "print(\"Validation N: %0.f\" % len(X_test))\n",
    "print(\"Test N: %0.f\" % len(X_test))"
   ]
  },
  {
   "cell_type": "markdown",
   "metadata": {},
   "source": [
    "#### Run model training and compare scores"
   ]
  },
  {
   "cell_type": "code",
   "execution_count": 71,
   "metadata": {},
   "outputs": [
    {
     "ename": "AttributeError",
     "evalue": "'LogisticRegression' object has no attribute 'scores_'",
     "output_type": "error",
     "traceback": [
      "\u001b[0;31m---------------------------------------------------------------------------\u001b[0m",
      "\u001b[0;31mAttributeError\u001b[0m                            Traceback (most recent call last)",
      "\u001b[0;32m<ipython-input-71-a09b34538497>\u001b[0m in \u001b[0;36m<module>\u001b[0;34m\u001b[0m\n\u001b[1;32m      8\u001b[0m \u001b[0mIsotonic\u001b[0m\u001b[0;34m.\u001b[0m\u001b[0mfit\u001b[0m\u001b[0;34m(\u001b[0m\u001b[0mX_train\u001b[0m\u001b[0;34m,\u001b[0m \u001b[0my_train\u001b[0m\u001b[0;34m)\u001b[0m\u001b[0;34m\u001b[0m\u001b[0;34m\u001b[0m\u001b[0m\n\u001b[1;32m      9\u001b[0m \u001b[0;34m\u001b[0m\u001b[0m\n\u001b[0;32m---> 10\u001b[0;31m \u001b[0mLR_model\u001b[0m\u001b[0;34m.\u001b[0m\u001b[0mscores_\u001b[0m\u001b[0;34m\u001b[0m\u001b[0;34m\u001b[0m\u001b[0m\n\u001b[0m",
      "\u001b[0;31mAttributeError\u001b[0m: 'LogisticRegression' object has no attribute 'scores_'"
     ]
    }
   ],
   "source": [
    "# preproc by hand beccause pipeline doesn't wrk with calibrated classifier      \n",
    "X_train_preproc = preproc_basic.fit_transform(X_train)\n",
    "X_val_preproc = preproc_basic.fit_transform(X_val)\n",
    "X_test_preproc = preproc_basic.fit_transform(X_test)\n",
    "\n",
    "LR_model.fit(X_train_preproc, y_train)        \n",
    "Sigmoid.fit(X_train, y_train)        \n",
    "Isotonic.fit(X_train, y_train)        "
   ]
  },
  {
   "cell_type": "code",
   "execution_count": 68,
   "metadata": {},
   "outputs": [],
   "source": [
    "\n",
    "# fit regular model \n",
    "LR_model.fit(X_train_preproc, y_train)        \n",
    "LR_y_val_probs = LR_model.predict_proba(X_val_preproc)[:,1]\n",
    "LR_y_val_pred = LR_model.predict(X_val_preproc)\n",
    "LR_scores = pd.DataFrame(get_scores(y_val, LR_y_val_pred))\n",
    "LR_scores['model'] = 'LR'\n",
    "\n",
    "# with calibration\n",
    "Sigmoid.fit(X_train, y_train)        \n",
    "Sigmoid_y_val_probs = Sigmoid.predict_proba(X_val)[:,1]\n",
    "Sigmoid_y_val_pred = Sigmoid.predict(X_val)\n",
    "Sigmoid_scores = pd.DataFrame(get_scores(y_val, Sigmoid_y_val_pred))\n",
    "Sigmoid_scores['model'] = 'Sigmoid'\n",
    "\n",
    "# with calibration\n",
    "Isotonic.fit(X_train, y_train)        \n",
    "Isotonic_y_val_probs = Isotonic.predict_proba(X_val)[:,1]\n",
    "Isotonic_y_val_pred = Isotonic.predict(X_val)\n",
    "Isotonic_scores = pd.DataFrame(get_scores(y_val, Isotonic_y_val_pred))\n",
    "Isotonic_scores['model'] = 'Isotonic'\n"
   ]
  },
  {
   "cell_type": "code",
   "execution_count": 69,
   "metadata": {},
   "outputs": [
    {
     "data": {
      "text/html": [
       "<div>\n",
       "<style scoped>\n",
       "    .dataframe tbody tr th:only-of-type {\n",
       "        vertical-align: middle;\n",
       "    }\n",
       "\n",
       "    .dataframe tbody tr th {\n",
       "        vertical-align: top;\n",
       "    }\n",
       "\n",
       "    .dataframe thead th {\n",
       "        text-align: right;\n",
       "    }\n",
       "</style>\n",
       "<table border=\"1\" class=\"dataframe\">\n",
       "  <thead>\n",
       "    <tr style=\"text-align: right;\">\n",
       "      <th></th>\n",
       "      <th>metrics</th>\n",
       "      <th>scores</th>\n",
       "      <th>model</th>\n",
       "    </tr>\n",
       "  </thead>\n",
       "  <tbody>\n",
       "    <tr>\n",
       "      <th>0</th>\n",
       "      <td>precision</td>\n",
       "      <td>0.830</td>\n",
       "      <td>LR</td>\n",
       "    </tr>\n",
       "    <tr>\n",
       "      <th>6</th>\n",
       "      <td>brier_score</td>\n",
       "      <td>0.307</td>\n",
       "      <td>LR</td>\n",
       "    </tr>\n",
       "    <tr>\n",
       "      <th>7</th>\n",
       "      <td>precision</td>\n",
       "      <td>0.735</td>\n",
       "      <td>Isotonic</td>\n",
       "    </tr>\n",
       "    <tr>\n",
       "      <th>13</th>\n",
       "      <td>brier_score</td>\n",
       "      <td>0.267</td>\n",
       "      <td>Isotonic</td>\n",
       "    </tr>\n",
       "    <tr>\n",
       "      <th>14</th>\n",
       "      <td>precision</td>\n",
       "      <td>0.729</td>\n",
       "      <td>Sigmoid</td>\n",
       "    </tr>\n",
       "    <tr>\n",
       "      <th>20</th>\n",
       "      <td>brier_score</td>\n",
       "      <td>0.273</td>\n",
       "      <td>Sigmoid</td>\n",
       "    </tr>\n",
       "  </tbody>\n",
       "</table>\n",
       "</div>"
      ],
      "text/plain": [
       "        metrics  scores     model\n",
       "0     precision   0.830        LR\n",
       "6   brier_score   0.307        LR\n",
       "7     precision   0.735  Isotonic\n",
       "13  brier_score   0.267  Isotonic\n",
       "14    precision   0.729   Sigmoid\n",
       "20  brier_score   0.273   Sigmoid"
      ]
     },
     "metadata": {},
     "output_type": "display_data"
    }
   ],
   "source": [
    "calibrate_results = pd.concat([LR_scores, Isotonic_scores, Sigmoid_scores], ignore_index = True)\n",
    "display(calibrate_results[(calibrate_results.metrics == \"brier_score\") | \n",
    "                         (calibrate_results.metrics == \"precision\")])\n",
    "calibrate_results.to_csv(\"../tables/model_training_compare_calibration.csv\")"
   ]
  },
  {
   "cell_type": "markdown",
   "metadata": {},
   "source": [
    "**Isotonic valibration worked the best, lowest brier score, use moving forward**"
   ]
  },
  {
   "cell_type": "markdown",
   "metadata": {},
   "source": [
    "#### Compare calibration results on validation set\n",
    "- to visually compare best model (isotonic) with the rest"
   ]
  },
  {
   "cell_type": "code",
   "execution_count": 40,
   "metadata": {},
   "outputs": [
    {
     "data": {
      "text/plain": [
       "Text(0.5, 1.0, 'Calibration plots  (reliability curve)')"
      ]
     },
     "execution_count": 40,
     "metadata": {},
     "output_type": "execute_result"
    },
    {
     "data": {
      "image/png": "[encoded data removed]",
      "text/plain": [
       "<Figure size 720x432 with 1 Axes>"
      ]
     },
     "metadata": {},
     "output_type": "display_data"
    }
   ],
   "source": [
    "\n",
    "#figure_path = \"NCDB_5_features/\"\n",
    "fig = plt.figure(figsize=(10, 6))\n",
    "plt.plot([0, 1], [0, 1], \"k:\", label=\"Perfectly calibrated\")\n",
    "fraction_of_positives, mean_predicted_value = calibration_curve(y_val, LR_y_val_probs, n_bins =6)\n",
    "plt.plot(mean_predicted_value, fraction_of_positives, \"s-\", label = \"Logistic Regression\")\n",
    "fraction_of_positives, mean_predicted_value = calibration_curve(y_val, Sigmoid_y_val_probs, n_bins = 6)\n",
    "plt.plot(mean_predicted_value, fraction_of_positives, \"s-\", label = \"Logistic Regression + Sigmoid Calibration\")\n",
    "fraction_of_positives, mean_predicted_value = calibration_curve(y_val, Isotonic_y_val_probs, n_bins = 6)\n",
    "plt.plot(mean_predicted_value, fraction_of_positives, \"s-\", label = \"Logistic Regression + Isotonic Calibration\")\n",
    "\n",
    "plt.xlabel(\"Mean predicted value\", size = 15)\n",
    "plt.ylabel(\"Fraction of positives\", size = 15)\n",
    "plt.ylim([-0.05, 1.05])\n",
    "plt.legend(loc=\"lower right\", fontsize = 15)\n",
    "plt.title('Calibration plots  (reliability curve)', size = 20)\n",
    "#plt.savefig(os.path.join(figure_path, \"Calibration_validation_plot.png\"))"
   ]
  },
  {
   "cell_type": "markdown",
   "metadata": {},
   "source": [
    "#### Results with regular un-calibrated model with default threshold\n",
    "- for comparison's sake"
   ]
  },
  {
   "cell_type": "code",
   "execution_count": 14,
   "metadata": {
    "scrolled": true
   },
   "outputs": [
    {
     "data": {
      "text/plain": [
       "array([[ 76,  51],\n",
       "       [ 93, 249]])"
      ]
     },
     "metadata": {},
     "output_type": "display_data"
    },
    {
     "data": {
      "text/html": [
       "<div>\n",
       "<style scoped>\n",
       "    .dataframe tbody tr th:only-of-type {\n",
       "        vertical-align: middle;\n",
       "    }\n",
       "\n",
       "    .dataframe tbody tr th {\n",
       "        vertical-align: top;\n",
       "    }\n",
       "\n",
       "    .dataframe thead th {\n",
       "        text-align: right;\n",
       "    }\n",
       "</style>\n",
       "<table border=\"1\" class=\"dataframe\">\n",
       "  <thead>\n",
       "    <tr style=\"text-align: right;\">\n",
       "      <th></th>\n",
       "      <th>metrics</th>\n",
       "      <th>scores</th>\n",
       "    </tr>\n",
       "  </thead>\n",
       "  <tbody>\n",
       "    <tr>\n",
       "      <th>0</th>\n",
       "      <td>precision</td>\n",
       "      <td>0.830</td>\n",
       "    </tr>\n",
       "    <tr>\n",
       "      <th>1</th>\n",
       "      <td>recall</td>\n",
       "      <td>0.728</td>\n",
       "    </tr>\n",
       "    <tr>\n",
       "      <th>2</th>\n",
       "      <td>roc_auc</td>\n",
       "      <td>0.663</td>\n",
       "    </tr>\n",
       "    <tr>\n",
       "      <th>3</th>\n",
       "      <td>accuracy</td>\n",
       "      <td>0.693</td>\n",
       "    </tr>\n",
       "    <tr>\n",
       "      <th>4</th>\n",
       "      <td>f1 score</td>\n",
       "      <td>0.776</td>\n",
       "    </tr>\n",
       "    <tr>\n",
       "      <th>5</th>\n",
       "      <td>pr_auc</td>\n",
       "      <td>0.803</td>\n",
       "    </tr>\n",
       "    <tr>\n",
       "      <th>6</th>\n",
       "      <td>brier_score</td>\n",
       "      <td>0.307</td>\n",
       "    </tr>\n",
       "  </tbody>\n",
       "</table>\n",
       "</div>"
      ],
      "text/plain": [
       "       metrics  scores\n",
       "0    precision   0.830\n",
       "1       recall   0.728\n",
       "2      roc_auc   0.663\n",
       "3     accuracy   0.693\n",
       "4     f1 score   0.776\n",
       "5       pr_auc   0.803\n",
       "6  brier_score   0.307"
      ]
     },
     "metadata": {},
     "output_type": "display_data"
    },
    {
     "data": {
      "image/png": "[encoded data removed]",
      "text/plain": [
       "<Figure size 720x576 with 1 Axes>"
      ]
     },
     "metadata": {},
     "output_type": "display_data"
    },
    {
     "data": {
      "image/png": "[encoded data removed]",
      "text/plain": [
       "<Figure size 720x432 with 1 Axes>"
      ]
     },
     "metadata": {},
     "output_type": "display_data"
    }
   ],
   "source": [
    "LR_y_val_probs = LR_model.predict_proba(X_val_preproc)[:,1]\n",
    "LR_y_val_pred = LR_model.predict(X_val_preproc)\n",
    "\n",
    "cm = confusion_matrix(y_val, LR_y_val_pred)\n",
    "display(cm)\n",
    "LR_val_scores = pd.DataFrame(get_scores(y_val, LR_y_val_pred))\n",
    "display(LR_val_scores)\n",
    "\n",
    "custom_plots.plot_predprobs(LR_y_val_probs, 0.5, \n",
    "                             filename = os.path.join(figure_path, \"LR_predprobs.png\"))\n",
    "custom_plots.plot_pr_curve(y_val, LR_y_val_probs, 0.5,\n",
    "               filename = os.path.join(figure_path,\"LR_validation_PR_curve.png\"))\n",
    "\n"
   ]
  },
  {
   "cell_type": "markdown",
   "metadata": {},
   "source": [
    "### Tuning decision threshold with validation set\n",
    "#### Results with isotonic calibrated model, default threshold"
   ]
  },
  {
   "cell_type": "code",
   "execution_count": 15,
   "metadata": {},
   "outputs": [
    {
     "data": {
      "text/plain": [
       "array([[ 24, 103],\n",
       "       [ 21, 321]])"
      ]
     },
     "metadata": {},
     "output_type": "display_data"
    },
    {
     "data": {
      "text/html": [
       "<div>\n",
       "<style scoped>\n",
       "    .dataframe tbody tr th:only-of-type {\n",
       "        vertical-align: middle;\n",
       "    }\n",
       "\n",
       "    .dataframe tbody tr th {\n",
       "        vertical-align: top;\n",
       "    }\n",
       "\n",
       "    .dataframe thead th {\n",
       "        text-align: right;\n",
       "    }\n",
       "</style>\n",
       "<table border=\"1\" class=\"dataframe\">\n",
       "  <thead>\n",
       "    <tr style=\"text-align: right;\">\n",
       "      <th></th>\n",
       "      <th>metrics</th>\n",
       "      <th>scores</th>\n",
       "    </tr>\n",
       "  </thead>\n",
       "  <tbody>\n",
       "    <tr>\n",
       "      <th>0</th>\n",
       "      <td>precision</td>\n",
       "      <td>0.757</td>\n",
       "    </tr>\n",
       "    <tr>\n",
       "      <th>1</th>\n",
       "      <td>recall</td>\n",
       "      <td>0.939</td>\n",
       "    </tr>\n",
       "    <tr>\n",
       "      <th>2</th>\n",
       "      <td>roc_auc</td>\n",
       "      <td>0.564</td>\n",
       "    </tr>\n",
       "    <tr>\n",
       "      <th>3</th>\n",
       "      <td>accuracy</td>\n",
       "      <td>0.736</td>\n",
       "    </tr>\n",
       "    <tr>\n",
       "      <th>4</th>\n",
       "      <td>f1 score</td>\n",
       "      <td>0.838</td>\n",
       "    </tr>\n",
       "    <tr>\n",
       "      <th>5</th>\n",
       "      <td>pr_auc</td>\n",
       "      <td>0.755</td>\n",
       "    </tr>\n",
       "    <tr>\n",
       "      <th>6</th>\n",
       "      <td>brier_score</td>\n",
       "      <td>0.264</td>\n",
       "    </tr>\n",
       "  </tbody>\n",
       "</table>\n",
       "</div>"
      ],
      "text/plain": [
       "       metrics  scores\n",
       "0    precision   0.757\n",
       "1       recall   0.939\n",
       "2      roc_auc   0.564\n",
       "3     accuracy   0.736\n",
       "4     f1 score   0.838\n",
       "5       pr_auc   0.755\n",
       "6  brier_score   0.264"
      ]
     },
     "metadata": {},
     "output_type": "display_data"
    },
    {
     "name": "stdout",
     "output_type": "stream",
     "text": [
      "Range of probabilities: 0.280 - 0.823\n"
     ]
    }
   ],
   "source": [
    "Isotonic_y_val_probs = Isotonic.predict_proba(X_val_preproc)[:,1]\n",
    "Isotonic_y_val_pred = Isotonic.predict(X_val_preproc)\n",
    "\n",
    "cm = confusion_matrix(y_val, Isotonic_y_val_pred)\n",
    "display(cm)\n",
    "val_scores = pd.DataFrame(get_scores(y_val, Isotonic_y_val_pred))\n",
    "display(val_scores)\n",
    "\n",
    "print(\"Range of probabilities: %0.3f - %0.3f\" % (min(Isotonic_y_val_probs), max(Isotonic_y_val_probs)))"
   ]
  },
  {
   "cell_type": "markdown",
   "metadata": {},
   "source": [
    "#### results with isotonic calibrated model, adjusted threshold"
   ]
  },
  {
   "cell_type": "code",
   "execution_count": 64,
   "metadata": {},
   "outputs": [
    {
     "data": {
      "text/plain": [
       "array([[ 97,  30],\n",
       "       [159, 183]])"
      ]
     },
     "metadata": {},
     "output_type": "display_data"
    },
    {
     "data": {
      "text/html": [
       "<div>\n",
       "<style scoped>\n",
       "    .dataframe tbody tr th:only-of-type {\n",
       "        vertical-align: middle;\n",
       "    }\n",
       "\n",
       "    .dataframe tbody tr th {\n",
       "        vertical-align: top;\n",
       "    }\n",
       "\n",
       "    .dataframe thead th {\n",
       "        text-align: right;\n",
       "    }\n",
       "</style>\n",
       "<table border=\"1\" class=\"dataframe\">\n",
       "  <thead>\n",
       "    <tr style=\"text-align: right;\">\n",
       "      <th></th>\n",
       "      <th>metrics</th>\n",
       "      <th>scores</th>\n",
       "    </tr>\n",
       "  </thead>\n",
       "  <tbody>\n",
       "    <tr>\n",
       "      <th>0</th>\n",
       "      <td>precision</td>\n",
       "      <td>0.859</td>\n",
       "    </tr>\n",
       "    <tr>\n",
       "      <th>1</th>\n",
       "      <td>recall</td>\n",
       "      <td>0.535</td>\n",
       "    </tr>\n",
       "    <tr>\n",
       "      <th>2</th>\n",
       "      <td>roc_auc</td>\n",
       "      <td>0.649</td>\n",
       "    </tr>\n",
       "    <tr>\n",
       "      <th>3</th>\n",
       "      <td>accuracy</td>\n",
       "      <td>0.597</td>\n",
       "    </tr>\n",
       "    <tr>\n",
       "      <th>4</th>\n",
       "      <td>f1 score</td>\n",
       "      <td>0.659</td>\n",
       "    </tr>\n",
       "    <tr>\n",
       "      <th>5</th>\n",
       "      <td>pr_auc</td>\n",
       "      <td>0.799</td>\n",
       "    </tr>\n",
       "    <tr>\n",
       "      <th>6</th>\n",
       "      <td>brier_score</td>\n",
       "      <td>0.403</td>\n",
       "    </tr>\n",
       "  </tbody>\n",
       "</table>\n",
       "</div>"
      ],
      "text/plain": [
       "       metrics  scores\n",
       "0    precision   0.859\n",
       "1       recall   0.535\n",
       "2      roc_auc   0.649\n",
       "3     accuracy   0.597\n",
       "4     f1 score   0.659\n",
       "5       pr_auc   0.799\n",
       "6  brier_score   0.403"
      ]
     },
     "metadata": {},
     "output_type": "display_data"
    },
    {
     "data": {
      "image/png": "[encoded data removed]",
      "text/plain": [
       "<Figure size 720x576 with 1 Axes>"
      ]
     },
     "metadata": {},
     "output_type": "display_data"
    },
    {
     "data": {
      "image/png": "[encoded data removed]",
      "text/plain": [
       "<Figure size 720x432 with 1 Axes>"
      ]
     },
     "metadata": {},
     "output_type": "display_data"
    },
    {
     "data": {
      "image/png": "[encoded data removed]",
      "text/plain": [
       "<Figure size 720x432 with 1 Axes>"
      ]
     },
     "metadata": {},
     "output_type": "display_data"
    }
   ],
   "source": [
    "key_thresh = 0.79\n",
    "\n",
    "Isotonic_y_val_pred_adjusted =  Isotonic_y_val_probs > key_thresh\n",
    "cm = confusion_matrix(y_val, Isotonic_y_val_pred_adjusted)\n",
    "display(cm)\n",
    "val_scores_adjusted = pd.DataFrame(get_scores(y_val, Isotonic_y_val_pred_adjusted))\n",
    "val_scores_adjusted.to_csv(\"../tables/calibrated_model_scores_validation_keythresh.csv\")\n",
    "display(val_scores_adjusted)\n",
    "\n",
    "custom_plots.plot_predprobs(Isotonic_y_val_probs, key_thresh, \n",
    "                             filename = os.path.join(figure_path, \"predprobs.png\"))\n",
    "custom_plots.plot_pr_curve(y_val, Isotonic_y_val_probs, key_thresh,\n",
    "               filename = os.path.join(figure_path,\"validation_PR_curve.png\"))\n",
    "custom_plots.plot_roc_curve(y_val, Isotonic_y_val_probs, key_thresh, \n",
    "                           filename = os.path.join(figure_path,\"validation_ROC_curve.png\"))"
   ]
  },
  {
   "cell_type": "markdown",
   "metadata": {},
   "source": [
    "### Get Feature importance \n",
    "#### obtain feature names from preprocessed data\n",
    "- note: tumor_site was dummy-encoded, with \"Extremity\" as the reference.\n",
    "- preprocessor changes order of variables"
   ]
  },
  {
   "cell_type": "code",
   "execution_count": 44,
   "metadata": {},
   "outputs": [
    {
     "name": "stderr",
     "output_type": "stream",
     "text": [
      "../mcc_metastasis/modeling.py:157: UserWarning: Transformer std_scaler (type StandardScaler) does not provide get_feature_names. Will return input column names if available\n",
      "  % (str(name), type(trans).__name__))\n"
     ]
    },
    {
     "data": {
      "text/html": [
       "<div>\n",
       "<style scoped>\n",
       "    .dataframe tbody tr th:only-of-type {\n",
       "        vertical-align: middle;\n",
       "    }\n",
       "\n",
       "    .dataframe tbody tr th {\n",
       "        vertical-align: top;\n",
       "    }\n",
       "\n",
       "    .dataframe thead th {\n",
       "        text-align: right;\n",
       "    }\n",
       "</style>\n",
       "<table border=\"1\" class=\"dataframe\">\n",
       "  <thead>\n",
       "    <tr style=\"text-align: right;\">\n",
       "      <th></th>\n",
       "      <th>variable</th>\n",
       "      <th>num</th>\n",
       "      <th>blah</th>\n",
       "      <th>index</th>\n",
       "    </tr>\n",
       "  </thead>\n",
       "  <tbody>\n",
       "    <tr>\n",
       "      <th>0</th>\n",
       "      <td>num__AGE</td>\n",
       "      <td>0</td>\n",
       "      <td>x</td>\n",
       "      <td>x0</td>\n",
       "    </tr>\n",
       "    <tr>\n",
       "      <th>1</th>\n",
       "      <td>num__tumor_size</td>\n",
       "      <td>1</td>\n",
       "      <td>x</td>\n",
       "      <td>x1</td>\n",
       "    </tr>\n",
       "    <tr>\n",
       "      <th>2</th>\n",
       "      <td>SEX</td>\n",
       "      <td>2</td>\n",
       "      <td>x</td>\n",
       "      <td>x2</td>\n",
       "    </tr>\n",
       "    <tr>\n",
       "      <th>3</th>\n",
       "      <td>growth_pattern</td>\n",
       "      <td>3</td>\n",
       "      <td>x</td>\n",
       "      <td>x3</td>\n",
       "    </tr>\n",
       "    <tr>\n",
       "      <th>4</th>\n",
       "      <td>tumor_lymphocytes</td>\n",
       "      <td>4</td>\n",
       "      <td>x</td>\n",
       "      <td>x4</td>\n",
       "    </tr>\n",
       "    <tr>\n",
       "      <th>5</th>\n",
       "      <td>lymph_vasc_invasion</td>\n",
       "      <td>5</td>\n",
       "      <td>x</td>\n",
       "      <td>x5</td>\n",
       "    </tr>\n",
       "    <tr>\n",
       "      <th>6</th>\n",
       "      <td>tumor_site_head_neck</td>\n",
       "      <td>6</td>\n",
       "      <td>x</td>\n",
       "      <td>x6</td>\n",
       "    </tr>\n",
       "    <tr>\n",
       "      <th>7</th>\n",
       "      <td>tumor_site_other</td>\n",
       "      <td>7</td>\n",
       "      <td>x</td>\n",
       "      <td>x7</td>\n",
       "    </tr>\n",
       "    <tr>\n",
       "      <th>8</th>\n",
       "      <td>tumor_site_trunk</td>\n",
       "      <td>8</td>\n",
       "      <td>x</td>\n",
       "      <td>x8</td>\n",
       "    </tr>\n",
       "  </tbody>\n",
       "</table>\n",
       "</div>"
      ],
      "text/plain": [
       "               variable num blah index\n",
       "0              num__AGE   0    x    x0\n",
       "1       num__tumor_size   1    x    x1\n",
       "2                   SEX   2    x    x2\n",
       "3        growth_pattern   3    x    x3\n",
       "4     tumor_lymphocytes   4    x    x4\n",
       "5   lymph_vasc_invasion   5    x    x5\n",
       "6  tumor_site_head_neck   6    x    x6\n",
       "7      tumor_site_other   7    x    x7\n",
       "8      tumor_site_trunk   8    x    x8"
      ]
     },
     "execution_count": 44,
     "metadata": {},
     "output_type": "execute_result"
    }
   ],
   "source": [
    "\n",
    "# get new feature order frorm preprocessor\n",
    "preproc_feature_order = pd.DataFrame(modeling.get_feature_names(preprocessor))\n",
    "preproc_feature_order.columns = ['variable']\n",
    "preproc_feature_order['num'] = np.arange(start = 0, stop = 9, step = 1).astype('str')\n",
    "preproc_feature_order['blah'] = 'x'\n",
    "preproc_feature_order['index'] = preproc_feature_order.blah.str.cat(preproc_feature_order.num, sep = \"\")\n"
   ]
  },
  {
   "cell_type": "markdown",
   "metadata": {},
   "source": [
    "#### Bootstrap resampling for coefficient estimates\n",
    "- using bootstrap resampling to get empirical quantiles for 95% CI \n",
    "- not using parametric estimates from SE, because w non-parametric bootstrap, inflated estimates... \n"
   ]
  },
  {
   "cell_type": "code",
   "execution_count": 45,
   "metadata": {},
   "outputs": [
    {
     "name": "stdout",
     "output_type": "stream",
     "text": [
      "Training sample size for bootstrap: 1407\n"
     ]
    }
   ],
   "source": [
    "# use data frrom your training sample, need to combine to match the X and Y together\n",
    "X_train_df = pd.DataFrame(X_train).reset_index(drop = True)\n",
    "y_train_df = pd.DataFrame(y_train).reset_index(drop = True)\n",
    "data = pd.concat([X_train_df, y_train_df], axis = 1)\n",
    "# set up lloop \n",
    "n_iterations = 1000\n",
    "n_size = int(data.shape[0])\n",
    "print(\"Training sample size for bootstrap: %0.f\" % n_size)\n"
   ]
  },
  {
   "cell_type": "code",
   "execution_count": 46,
   "metadata": {},
   "outputs": [
    {
     "name": "stdout",
     "output_type": "stream",
     "text": [
      "73.40724946695096\n",
      "2.0111948113403963\n"
     ]
    }
   ],
   "source": [
    "# side note: calculate mean ages for app \n",
    "print(X_train_df.AGE.mean())\n",
    "print(X_train_df.tumor_size.mean())"
   ]
  },
  {
   "cell_type": "code",
   "execution_count": 47,
   "metadata": {},
   "outputs": [],
   "source": [
    "# run bootstrap\n",
    "stats = pd.DataFrame()\n",
    "for i in range(n_iterations):\n",
    "    # prepare boostrap sample with resampling, and make sure you stratify!\n",
    "    train = resample(data, n_samples = n_size, replace = True, stratify = data['TNM_negative'])\n",
    "    X_train_boot = pd.DataFrame(train.iloc[:, :-1],  columns = X_train_df.columns)\n",
    "    y_train_boot = train.iloc[:, -1] # last collumns\n",
    "\n",
    "    # get out-of-bag estimates to test, find rows that weren't included in the train sample\n",
    "    test = np.array([x for x in data.to_numpy() if x.tolist() not in train.to_numpy().tolist()])\n",
    "    X_test_boot = pd.DataFrame(test[:, :-1],  columns = X_train_df.columns)\n",
    "    y_test_boot = pd.DataFrame(test[:, -1]).astype('float') # last column \n",
    "    \n",
    "    # apply preprocessing to your bootstrap sample\n",
    "    preproc_X_train_boot = preproc_basic.fit_transform(X_train_boot)\n",
    "    # fit model\n",
    "    model = LR_model\n",
    "    model.fit(preproc_X_train_boot, y_train_boot)\n",
    "\n",
    "    \n",
    "    #print(classification_report(y_test_boot, y_pred_boot))\n",
    "    coefs = pd.DataFrame(model.coef_.T)\n",
    "    stats = pd.concat([stats, coefs], axis = 1)\n"
   ]
  },
  {
   "cell_type": "code",
   "execution_count": 50,
   "metadata": {},
   "outputs": [],
   "source": [
    "# calculate CI \n",
    "upper_CI_q = pd.DataFrame()\n",
    "lower_CI_q = pd.DataFrame()\n",
    "\n",
    "for i in range(stats.shape[0]):\n",
    "   # print(i)\n",
    "    coef_row = stats.iloc[i, :]\n",
    "    # calculate empirical quantiles \n",
    "    CI_quantile = (coef_row).quantile([0.025, 0.975])\n",
    "    upper_q = pd.Series(CI_quantile.iloc[1])\n",
    "    lower_q = pd.Series(CI_quantile.iloc[0])\n",
    "    upper_CI_q = pd.concat([upper_CI_q, upper_q], axis = 0, ignore_index = True)\n",
    "    lower_CI_q = pd.concat([lower_CI_q, lower_q], axis = 0, ignore_index = True)\n",
    "    "
   ]
  },
  {
   "cell_type": "code",
   "execution_count": 56,
   "metadata": {},
   "outputs": [],
   "source": [
    "# make summary table \n",
    "stats_summary = pd.DataFrame()\n",
    "stats_summary['features'] =  preproc_feature_order.variable.replace({'num__AGE': 'age',\n",
    "                                                                     'num__tumor_size':'tumor_size',\n",
    "                                                                     'SEX': 'sex'})\n",
    "stats_summary['mean'] = stats.mean(axis = 1)\n",
    "stats_summary['upper'] = upper_CI_q\n",
    "stats_summary['lower'] = lower_CI_q\n",
    "# these are empirical CI, so instead of standard error, \n",
    "# the CI are not symmetrical necessarily \n",
    "stats_summary['lower_error'] = stats_summary['mean'] -stats_summary['lower']\n",
    "stats_summary['upper_error'] = stats_summary['upper'] - stats_summary['mean']\n"
   ]
  },
  {
   "cell_type": "code",
   "execution_count": 58,
   "metadata": {},
   "outputs": [
    {
     "data": {
      "text/html": [
       "<div>\n",
       "<style scoped>\n",
       "    .dataframe tbody tr th:only-of-type {\n",
       "        vertical-align: middle;\n",
       "    }\n",
       "\n",
       "    .dataframe tbody tr th {\n",
       "        vertical-align: top;\n",
       "    }\n",
       "\n",
       "    .dataframe thead th {\n",
       "        text-align: right;\n",
       "    }\n",
       "</style>\n",
       "<table border=\"1\" class=\"dataframe\">\n",
       "  <thead>\n",
       "    <tr style=\"text-align: right;\">\n",
       "      <th></th>\n",
       "      <th>features</th>\n",
       "      <th>mean</th>\n",
       "      <th>upper</th>\n",
       "      <th>lower</th>\n",
       "      <th>lower_error</th>\n",
       "      <th>upper_error</th>\n",
       "    </tr>\n",
       "  </thead>\n",
       "  <tbody>\n",
       "    <tr>\n",
       "      <th>0</th>\n",
       "      <td>Age</td>\n",
       "      <td>0.036921</td>\n",
       "      <td>0.171307</td>\n",
       "      <td>-0.092696</td>\n",
       "      <td>0.129617</td>\n",
       "      <td>0.134386</td>\n",
       "    </tr>\n",
       "    <tr>\n",
       "      <th>1</th>\n",
       "      <td>Tumor size</td>\n",
       "      <td>-0.102056</td>\n",
       "      <td>0.070854</td>\n",
       "      <td>-0.344204</td>\n",
       "      <td>0.242147</td>\n",
       "      <td>0.172910</td>\n",
       "    </tr>\n",
       "    <tr>\n",
       "      <th>2</th>\n",
       "      <td>Sex</td>\n",
       "      <td>-0.193190</td>\n",
       "      <td>0.065113</td>\n",
       "      <td>-0.451931</td>\n",
       "      <td>0.258741</td>\n",
       "      <td>0.258303</td>\n",
       "    </tr>\n",
       "    <tr>\n",
       "      <th>3</th>\n",
       "      <td>Growth pattern</td>\n",
       "      <td>-0.252008</td>\n",
       "      <td>0.138968</td>\n",
       "      <td>-0.687795</td>\n",
       "      <td>0.435787</td>\n",
       "      <td>0.390976</td>\n",
       "    </tr>\n",
       "    <tr>\n",
       "      <th>4</th>\n",
       "      <td>Tumor lymphocytes</td>\n",
       "      <td>-0.229295</td>\n",
       "      <td>0.110746</td>\n",
       "      <td>-0.580309</td>\n",
       "      <td>0.351014</td>\n",
       "      <td>0.340041</td>\n",
       "    </tr>\n",
       "    <tr>\n",
       "      <th>5</th>\n",
       "      <td>Lymphatic vascular invasion</td>\n",
       "      <td>-0.916092</td>\n",
       "      <td>-0.646125</td>\n",
       "      <td>-1.197297</td>\n",
       "      <td>0.281205</td>\n",
       "      <td>0.269967</td>\n",
       "    </tr>\n",
       "    <tr>\n",
       "      <th>6</th>\n",
       "      <td>Tumor site: head / neck</td>\n",
       "      <td>0.009713</td>\n",
       "      <td>0.396498</td>\n",
       "      <td>-0.354790</td>\n",
       "      <td>0.364503</td>\n",
       "      <td>0.386786</td>\n",
       "    </tr>\n",
       "    <tr>\n",
       "      <th>7</th>\n",
       "      <td>Tumor site: other</td>\n",
       "      <td>0.196710</td>\n",
       "      <td>0.516331</td>\n",
       "      <td>-0.133723</td>\n",
       "      <td>0.330433</td>\n",
       "      <td>0.319621</td>\n",
       "    </tr>\n",
       "    <tr>\n",
       "      <th>8</th>\n",
       "      <td>Tumor site: trunk</td>\n",
       "      <td>-0.160140</td>\n",
       "      <td>0.279806</td>\n",
       "      <td>-0.586472</td>\n",
       "      <td>0.426331</td>\n",
       "      <td>0.439946</td>\n",
       "    </tr>\n",
       "  </tbody>\n",
       "</table>\n",
       "</div>"
      ],
      "text/plain": [
       "                      features      mean     upper     lower  lower_error  \\\n",
       "0                          Age  0.036921  0.171307 -0.092696     0.129617   \n",
       "1                   Tumor size -0.102056  0.070854 -0.344204     0.242147   \n",
       "2                          Sex -0.193190  0.065113 -0.451931     0.258741   \n",
       "3               Growth pattern -0.252008  0.138968 -0.687795     0.435787   \n",
       "4            Tumor lymphocytes -0.229295  0.110746 -0.580309     0.351014   \n",
       "5  Lymphatic vascular invasion -0.916092 -0.646125 -1.197297     0.281205   \n",
       "6      Tumor site: head / neck  0.009713  0.396498 -0.354790     0.364503   \n",
       "7            Tumor site: other  0.196710  0.516331 -0.133723     0.330433   \n",
       "8            Tumor site: trunk -0.160140  0.279806 -0.586472     0.426331   \n",
       "\n",
       "   upper_error  \n",
       "0     0.134386  \n",
       "1     0.172910  \n",
       "2     0.258303  \n",
       "3     0.390976  \n",
       "4     0.340041  \n",
       "5     0.269967  \n",
       "6     0.386786  \n",
       "7     0.319621  \n",
       "8     0.439946  "
      ]
     },
     "execution_count": 58,
     "metadata": {},
     "output_type": "execute_result"
    }
   ],
   "source": [
    "# make it even prettier \n",
    "pretty_feature_names = { 'tumor_size': 'Tumor size',\n",
    "                         'age': 'Age',\n",
    "                          'sex': 'Sex', \n",
    "                          'growth_pattern': 'Growth pattern',\n",
    "                          'tumor_lymphocytes': 'Tumor lymphocytes',\n",
    "                          'lymph_vasc_invasion': 'Lymphatic vascular invasion', \n",
    "                          'tumor_site_head_neck' : 'Tumor site: head / neck', \n",
    "                          'tumor_site_trunk': 'Tumor site: trunk', \n",
    "                           'tumor_site_other' : 'Tumor site: other' }\n",
    "stats_summary.features = stats_summary.features.replace(pretty_feature_names)\n",
    "stats_summary.to_csv(\"../tables/model_coefs_bootstrap_CI.csv\")\n",
    "stats_summary"
   ]
  },
  {
   "cell_type": "code",
   "execution_count": 63,
   "metadata": {},
   "outputs": [
    {
     "name": "stderr",
     "output_type": "stream",
     "text": [
      "/Users/michellevantieghem2/.conda/envs/insight/lib/python3.7/site-packages/ipykernel_launcher.py:12: UserWarning: FixedFormatter should only be used together with FixedLocator\n",
      "  if sys.path[0] == '':\n"
     ]
    },
    {
     "data": {
      "text/plain": [
       "<Figure size 720x576 with 0 Axes>"
      ]
     },
     "metadata": {},
     "output_type": "display_data"
    },
    {
     "data": {
      "image/png": "[encoded data removed]",
      "text/plain": [
       "<Figure size 720x432 with 1 Axes>"
      ]
     },
     "metadata": {},
     "output_type": "display_data"
    }
   ],
   "source": [
    "# get coefficients in order of importance\n",
    "coefs_ordered = stats_summary.sort_values(by = 'mean', ascending = False, ignore_index = True)\n",
    "n_features = coefs_ordered.shape[0]\n",
    "error_values = [coefs_ordered.lower_error, coefs_ordered.upper_error]\n",
    "\n",
    "# plot! \n",
    "filename = os.path.join(figure_path, \"feature_importance_trainval_bootstrap_CI.png\")\n",
    "plt.figure(figsize = (10, 8))\n",
    "fig, ax = plt.subplots(1,1, figsize = (10,6))\n",
    "ax.barh(coefs_ordered['features'], coefs_ordered['mean'], xerr = error_values,\n",
    "        align = 'center', ecolor = \"black\")\n",
    "ax.set_yticklabels(coefs_ordered['features'], size = 15)\n",
    "ax.invert_yaxis()\n",
    "ax.set_xlabel(\"Coefficients\", size = 15)\n",
    "ax.set_title(\"Feature Importance\", size = 20)\n",
    "plt.savefig(filename, bbox_inches = 'tight')\n",
    "plt.show()"
   ]
  },
  {
   "cell_type": "markdown",
   "metadata": {},
   "source": [
    "### Evaluate final model on hold-out test set\n",
    "- getting predictions on new data"
   ]
  },
  {
   "cell_type": "code",
   "execution_count": 66,
   "metadata": {},
   "outputs": [
    {
     "data": {
      "text/html": [
       "<div>\n",
       "<style scoped>\n",
       "    .dataframe tbody tr th:only-of-type {\n",
       "        vertical-align: middle;\n",
       "    }\n",
       "\n",
       "    .dataframe tbody tr th {\n",
       "        vertical-align: top;\n",
       "    }\n",
       "\n",
       "    .dataframe thead th {\n",
       "        text-align: right;\n",
       "    }\n",
       "</style>\n",
       "<table border=\"1\" class=\"dataframe\">\n",
       "  <thead>\n",
       "    <tr style=\"text-align: right;\">\n",
       "      <th></th>\n",
       "      <th>metrics</th>\n",
       "      <th>scores</th>\n",
       "    </tr>\n",
       "  </thead>\n",
       "  <tbody>\n",
       "    <tr>\n",
       "      <th>0</th>\n",
       "      <td>precision</td>\n",
       "      <td>0.846</td>\n",
       "    </tr>\n",
       "    <tr>\n",
       "      <th>1</th>\n",
       "      <td>recall</td>\n",
       "      <td>0.485</td>\n",
       "    </tr>\n",
       "    <tr>\n",
       "      <th>2</th>\n",
       "      <td>roc_auc</td>\n",
       "      <td>0.623</td>\n",
       "    </tr>\n",
       "    <tr>\n",
       "      <th>3</th>\n",
       "      <td>accuracy</td>\n",
       "      <td>0.560</td>\n",
       "    </tr>\n",
       "    <tr>\n",
       "      <th>4</th>\n",
       "      <td>f1 score</td>\n",
       "      <td>0.617</td>\n",
       "    </tr>\n",
       "    <tr>\n",
       "      <th>5</th>\n",
       "      <td>pr_auc</td>\n",
       "      <td>0.786</td>\n",
       "    </tr>\n",
       "    <tr>\n",
       "      <th>6</th>\n",
       "      <td>brier_score</td>\n",
       "      <td>0.440</td>\n",
       "    </tr>\n",
       "  </tbody>\n",
       "</table>\n",
       "</div>"
      ],
      "text/plain": [
       "       metrics  scores\n",
       "0    precision   0.846\n",
       "1       recall   0.485\n",
       "2      roc_auc   0.623\n",
       "3     accuracy   0.560\n",
       "4     f1 score   0.617\n",
       "5       pr_auc   0.786\n",
       "6  brier_score   0.440"
      ]
     },
     "metadata": {},
     "output_type": "display_data"
    },
    {
     "data": {
      "image/png": "[encoded data removed]",
      "text/plain": [
       "<Figure size 720x576 with 1 Axes>"
      ]
     },
     "metadata": {},
     "output_type": "display_data"
    }
   ],
   "source": [
    "Isotonic_y_test_probs = Isotonic.predict_proba(X_test)[:,1]\n",
    "Isotonic_y_test_pred = Isotonic.predict(X_test)\n",
    "Isotonic_y_test_pred_adjusted =  Isotonic_y_test_probs > key_thresh\n",
    "Isotonic_scores = pd.DataFrame(get_scores(y_test, Isotonic_y_test_pred_adjusted))\n",
    "Isotonic_scores.to_csv(\"../tables/calibrated_model_scores_test.csv\")\n",
    "display(Isotonic_scores)\n",
    "custom_plots.plot_predprobs(Isotonic_y_test_probs, key_thresh,\n",
    "                           filename = os.path.join(figure_path, \"predprobs.png\"))\n"
   ]
  },
  {
   "cell_type": "code",
   "execution_count": 44,
   "metadata": {},
   "outputs": [
    {
     "data": {
      "text/plain": [
       "array([[20,  6],\n",
       "       [37, 35]])"
      ]
     },
     "execution_count": 44,
     "metadata": {},
     "output_type": "execute_result"
    }
   ],
   "source": [
    "cm = confusion_matrix(y_test, Isotonic_y_test_pred_adjusted)\n",
    "cm_perc = ((cm / len(y_test))*100).astype(\"int\")\n",
    "\n",
    "cm_perc"
   ]
  },
  {
   "cell_type": "code",
   "execution_count": 45,
   "metadata": {},
   "outputs": [
    {
     "data": {
      "image/png": "[encoded data removed]",
      "text/plain": [
       "<Figure size 432x288 with 1 Axes>"
      ]
     },
     "metadata": {},
     "output_type": "display_data"
    }
   ],
   "source": [
    "modeling.pretty_cm(cm_perc, os.path.join(figure_path, \"Test_confusion_matrix_adjusted.png\"))\n"
   ]
  },
  {
   "cell_type": "code",
   "execution_count": 65,
   "metadata": {},
   "outputs": [
    {
     "name": "stdout",
     "output_type": "stream",
     "text": [
      "TN: 208, FN: 380, TP: 358, FP: 65\n",
      "Recall or sensitivity for no-mets: 0.485\n",
      "Specificity for no-mets: 0.762\n",
      "Likelihood ratio for no-mets:  2.037\n",
      "Likelihood ratio for mets:  0.676\n"
     ]
    }
   ],
   "source": [
    "# remember, positive class = no mets \n",
    "TN = cm[0,0]\n",
    "FP = cm[0, 1]\n",
    "TP = cm[1,1]\n",
    "FN = cm[1,0]\n",
    "\n",
    "print(\"TN: %0.f, FN: %0.f, TP: %0.f, FP: %0.f\" % (TN, FN, TP, FP))\n",
    "sensitivity = (TP / (TP + FN))\n",
    "specificity = (TN / (TN + FP))\n",
    "likelihood_ratio_no_mets = sensitivity / (1-specificity)\n",
    "likelihood_ratio_mets = (1-sensitivity)/ specificity\n",
    "print(\"Recall or sensitivity for no-mets: %0.3f\" % sensitivity)\n",
    "print(\"Specificity for no-mets: %0.3f\" % specificity )\n",
    "print(\"Likelihood ratio for no-mets:  %0.3f\" %likelihood_ratio_no_mets)\n",
    "print(\"Likelihood ratio for mets:  %0.3f\" %likelihood_ratio_mets)\n",
    "\n",
    "                     "
   ]
  },
  {
   "cell_type": "markdown",
   "metadata": {},
   "source": [
    "### Save the model "
   ]
  },
  {
   "cell_type": "code",
   "execution_count": 49,
   "metadata": {},
   "outputs": [],
   "source": [
    "import pickle\n",
    "filename = '../model_output/final_logistic_isotonic_model.sav'\n",
    "pickle.dump(Isotonic, open(filename, 'wb'))"
   ]
  },
  {
   "cell_type": "code",
   "execution_count": null,
   "metadata": {},
   "outputs": [],
   "source": []
  }
 ],
 "metadata": {
  "kernelspec": {
   "display_name": "Python 3",
   "language": "python",
   "name": "python3"
  },
  "language_info": {
   "codemirror_mode": {
    "name": "ipython",
    "version": 3
   },
   "file_extension": ".py",
   "mimetype": "text/x-python",
   "name": "python",
   "nbconvert_exporter": "python",
   "pygments_lexer": "ipython3",
   "version": "3.7.9"
  },
  "toc": {
   "base_numbering": 1,
   "nav_menu": {},
   "number_sections": true,
   "sideBar": true,
   "skip_h1_title": true,
   "title_cell": "Table of Contents",
   "title_sidebar": "Contents",
   "toc_cell": false,
   "toc_position": {},
   "toc_section_display": true,
   "toc_window_display": true
  },
  "varInspector": {
   "cols": {
    "lenName": 16,
    "lenType": 16,
    "lenVar": 40
   },
   "kernels_config": {
    "python": {
     "delete_cmd_postfix": "",
     "delete_cmd_prefix": "del ",
     "library": "var_list.py",
     "varRefreshCmd": "print(var_dic_list())"
    },
    "r": {
     "delete_cmd_postfix": ") ",
     "delete_cmd_prefix": "rm(",
     "library": "var_list.r",
     "varRefreshCmd": "cat(var_dic_list()) "
    }
   },
   "types_to_exclude": [
    "module",
    "function",
    "builtin_function_or_method",
    "instance",
    "_Feature"
   ],
   "window_display": false
  }
 },
 "nbformat": 4,
 "nbformat_minor": 4
}
