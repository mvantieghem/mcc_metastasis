{
 "cells": [
  {
   "cell_type": "markdown",
   "metadata": {},
   "source": [
    "# Imputing data"
   ]
  },
  {
   "cell_type": "code",
   "execution_count": 10,
   "metadata": {},
   "outputs": [],
   "source": [
    "import pandas as pd  \n",
    "import numpy as np\n",
    "import warnings \n",
    "import math\n",
    "import statsmodels as sm\n",
    "warnings.simplefilter('ignore')\n",
    "\n",
    "import seaborn as sns\n",
    "sns.set(context='paper', style='whitegrid', rc={'figure.facecolor':'white'}, font_scale=1.2)\n",
    "import matplotlib.pyplot as plt\n",
    "\n",
    "\n",
    "# import custom functions\n",
    "import sys\n",
    "sys.path.append(\"../\")\n",
    "from projectname import custom_funcs\n"
   ]
  },
  {
   "cell_type": "code",
   "execution_count": 11,
   "metadata": {},
   "outputs": [],
   "source": [
    "# load full dataset \n",
    "NCDB = pd.read_csv(\"../data/cleaned/NCDB_cleaned_all_cases.csv\")\n"
   ]
  },
  {
   "cell_type": "code",
   "execution_count": 12,
   "metadata": {},
   "outputs": [
    {
     "name": "stdout",
     "output_type": "stream",
     "text": [
      "Total cases: 14948\n"
     ]
    }
   ],
   "source": [
    "#  filter for selected features \n",
    "NCDB = NCDB[['AGE', 'SEX',\n",
    "               'lymph_vasc_invasion', 'tumor_depth',\n",
    "              'metastasis']]\n",
    "print(\"Total cases: {}\".format(NCDB.shape[0]))"
   ]
  },
  {
   "cell_type": "markdown",
   "metadata": {},
   "source": [
    "#### first, filter out anyone missing outcome - need to exclude.\n"
   ]
  },
  {
   "cell_type": "code",
   "execution_count": 13,
   "metadata": {},
   "outputs": [
    {
     "name": "stdout",
     "output_type": "stream",
     "text": [
      "N after excluding missing outcomes: 9154\n",
      "N missing, Lymph Vasc Invasion: 5949\n",
      "N missing, Tumor depth: 6726\n",
      "N missing, sex: 0\n",
      "N missing, age: 0\n"
     ]
    }
   ],
   "source": [
    "NCDB2 = NCDB[NCDB.metastasis.isnull() == False]\n",
    "\n",
    "print(\"N after excluding missing outcomes: {}\".format(NCDB2.shape[0]))\n",
    "print(\"N missing, Lymph Vasc Invasion: {}\".format(NCDB2.lymph_vasc_invasion.isnull().sum()))\n",
    "print(\"N missing, Tumor depth: {}\".format(NCDB2.tumor_depth.isnull().sum()))\n",
    "print(\"N missing, sex: {}\".format(NCDB2.SEX.isnull().sum()))\n",
    "print(\"N missing, age: {}\".format(NCDB2.AGE.isnull().sum()))"
   ]
  },
  {
   "cell_type": "markdown",
   "metadata": {},
   "source": [
    "#### next, filter out anyone missing key feature"
   ]
  },
  {
   "cell_type": "code",
   "execution_count": 14,
   "metadata": {},
   "outputs": [
    {
     "name": "stdout",
     "output_type": "stream",
     "text": [
      "N after excluding missing key variable: 3205\n",
      "N missing data, tumor_depth: 1447\n"
     ]
    }
   ],
   "source": [
    "NCDB3 = NCDB2[NCDB2.lymph_vasc_invasion.isnull() == False]\n",
    "print(\"N after excluding missing key variable: {}\".format(NCDB3.shape[0]))\n",
    "print(\"N missing data, tumor_depth: {}\".format(NCDB3.tumor_depth.isnull().sum()))\n",
    "NCDB3['lymph_vasc_invasion'] = NCDB3.lymph_vasc_invasion.astype('category')\n",
    "\n"
   ]
  },
  {
   "cell_type": "code",
   "execution_count": 15,
   "metadata": {},
   "outputs": [
    {
     "name": "stdout",
     "output_type": "stream",
     "text": [
      "N for sample with listwise deletion: 1758\n"
     ]
    }
   ],
   "source": [
    "NCDB_delete = NCDB3[NCDB3.tumor_depth.isnull() == False]\n",
    "print(\"N for sample with listwise deletion: {}\".format(NCDB_delete.shape[0]))"
   ]
  },
  {
   "cell_type": "markdown",
   "metadata": {},
   "source": [
    "## Multiple imputation\n",
    "### Method 1:  Iterative Imputer in sklearn\n",
    "- Sklean versionof MICE  method\n",
    "- provides continuous estimates, but binarize at 0.5\n",
    "\n",
    "Our implementation of IterativeImputer was inspired by the R MICE package (Multivariate Imputation by Chained Equations) 1, but differs from it by returning a single imputation instead of multiple imputations. However, IterativeImputer can also be used for multiple imputations by applying it repeatedly to the same dataset with different random seeds when sample_posterior=True. See 2, chapter 4 for more discussion on multiple vs. single imputations."
   ]
  },
  {
   "cell_type": "code",
   "execution_count": 19,
   "metadata": {},
   "outputs": [],
   "source": [
    "from sklearn.experimental import enable_iterative_imputer \n",
    "from sklearn.impute import IterativeImputer\n",
    "\n",
    "imputer = IterativeImputer(imputation_order = 'ascending')\n",
    "NCDB3_imputed_II = pd.DataFrame(imputer.fit_transform(NCDB3))\n",
    "# apply to data and add back feature names\n",
    "NCDB3_imputed_II.columns = NCDB3.columns"
   ]
  },
  {
   "cell_type": "markdown",
   "metadata": {},
   "source": [
    "### Method 2: KNN imputation\n",
    "- missing values are imputed using mean value from n_neighbors nearest neighbors\n",
    "- two samples are \"close\" if the features that neither is  missing are clse"
   ]
  },
  {
   "cell_type": "code",
   "execution_count": 20,
   "metadata": {},
   "outputs": [],
   "source": [
    "from sklearn.impute import KNNImputer\n",
    "\n",
    "imputer = KNNImputer(n_neighbors = 2)\n",
    "NCDB3_imputed_KNN = pd.DataFrame(imputer.fit_transform(NCDB3))\n",
    "NCDB3_imputed_KNN.columns = NCDB3.columns"
   ]
  },
  {
   "cell_type": "markdown",
   "metadata": {},
   "source": [
    "### comparing imputed data output"
   ]
  },
  {
   "cell_type": "code",
   "execution_count": 21,
   "metadata": {},
   "outputs": [
    {
     "data": {
      "text/html": [
       "<div>\n",
       "<style scoped>\n",
       "    .dataframe tbody tr th:only-of-type {\n",
       "        vertical-align: middle;\n",
       "    }\n",
       "\n",
       "    .dataframe tbody tr th {\n",
       "        vertical-align: top;\n",
       "    }\n",
       "\n",
       "    .dataframe thead th {\n",
       "        text-align: right;\n",
       "    }\n",
       "</style>\n",
       "<table border=\"1\" class=\"dataframe\">\n",
       "  <thead>\n",
       "    <tr style=\"text-align: right;\">\n",
       "      <th></th>\n",
       "      <th>IterativeImputer</th>\n",
       "      <th>KNNImputer</th>\n",
       "    </tr>\n",
       "  </thead>\n",
       "  <tbody>\n",
       "    <tr>\n",
       "      <th>0</th>\n",
       "      <td>8.204467</td>\n",
       "      <td>1.25</td>\n",
       "    </tr>\n",
       "    <tr>\n",
       "      <th>1</th>\n",
       "      <td>8.153915</td>\n",
       "      <td>11.00</td>\n",
       "    </tr>\n",
       "    <tr>\n",
       "      <th>2</th>\n",
       "      <td>8.000000</td>\n",
       "      <td>8.00</td>\n",
       "    </tr>\n",
       "    <tr>\n",
       "      <th>3</th>\n",
       "      <td>10.146850</td>\n",
       "      <td>5.75</td>\n",
       "    </tr>\n",
       "    <tr>\n",
       "      <th>4</th>\n",
       "      <td>9.512559</td>\n",
       "      <td>8.55</td>\n",
       "    </tr>\n",
       "    <tr>\n",
       "      <th>...</th>\n",
       "      <td>...</td>\n",
       "      <td>...</td>\n",
       "    </tr>\n",
       "    <tr>\n",
       "      <th>3200</th>\n",
       "      <td>3.000000</td>\n",
       "      <td>3.00</td>\n",
       "    </tr>\n",
       "    <tr>\n",
       "      <th>3201</th>\n",
       "      <td>13.000000</td>\n",
       "      <td>13.00</td>\n",
       "    </tr>\n",
       "    <tr>\n",
       "      <th>3202</th>\n",
       "      <td>11.259146</td>\n",
       "      <td>24.00</td>\n",
       "    </tr>\n",
       "    <tr>\n",
       "      <th>3203</th>\n",
       "      <td>10.938155</td>\n",
       "      <td>12.50</td>\n",
       "    </tr>\n",
       "    <tr>\n",
       "      <th>3204</th>\n",
       "      <td>2.300000</td>\n",
       "      <td>2.30</td>\n",
       "    </tr>\n",
       "  </tbody>\n",
       "</table>\n",
       "<p>3205 rows × 2 columns</p>\n",
       "</div>"
      ],
      "text/plain": [
       "      IterativeImputer  KNNImputer\n",
       "0             8.204467        1.25\n",
       "1             8.153915       11.00\n",
       "2             8.000000        8.00\n",
       "3            10.146850        5.75\n",
       "4             9.512559        8.55\n",
       "...                ...         ...\n",
       "3200          3.000000        3.00\n",
       "3201         13.000000       13.00\n",
       "3202         11.259146       24.00\n",
       "3203         10.938155       12.50\n",
       "3204          2.300000        2.30\n",
       "\n",
       "[3205 rows x 2 columns]"
      ]
     },
     "execution_count": 21,
     "metadata": {},
     "output_type": "execute_result"
    }
   ],
   "source": [
    "compare_imputed = pd.concat([NCDB3_imputed_II.tumor_depth, NCDB3_imputed_KNN.tumor_depth], axis = 1)\n",
    "compare_imputed.columns = ['IterativeImputer', 'KNNImputer']\n",
    "compare_imputed"
   ]
  },
  {
   "cell_type": "markdown",
   "metadata": {},
   "source": [
    "### comparing distributions\n",
    "- Iterative Imputer is adding more to lowest bins\n",
    "- Knn is adding more to 20-40 bins"
   ]
  },
  {
   "cell_type": "code",
   "execution_count": 22,
   "metadata": {},
   "outputs": [
    {
     "data": {
      "image/png": "[encoded data removed]",
      "text/plain": [
       "<Figure size 720x576 with 1 Axes>"
      ]
     },
     "metadata": {},
     "output_type": "display_data"
    }
   ],
   "source": [
    "plt.figure(figsize = (10,8))\n",
    "plt.hist(NCDB3.tumor_depth, facecolor = \"purple\", alpha = 0.3, label = \"Original\")\n",
    "plt.hist(compare_imputed.IterativeImputer, facecolor = \"red\", alpha = 0.3, label = \"II\")\n",
    "plt.hist(compare_imputed.KNNImputer,facecolor = \"yellow\", alpha = 0.3, label = \"KNN\")\n",
    "plt.title(\"Comparing\", size = 20)\n",
    "plt.legend(loc = \"upper right\")\n",
    "plt.xticks(fontsize = 12)\n",
    "plt.yticks(fontsize = 12)\n",
    "plt.show()"
   ]
  },
  {
   "cell_type": "markdown",
   "metadata": {},
   "source": [
    "#### something weird is happening in KNN?"
   ]
  },
  {
   "cell_type": "code",
   "execution_count": 23,
   "metadata": {},
   "outputs": [
    {
     "data": {
      "image/png": "[encoded data removed]",
      "text/plain": [
       "<Figure size 720x432 with 1 Axes>"
      ]
     },
     "metadata": {},
     "output_type": "display_data"
    }
   ],
   "source": [
    "import seaborn as sns \n",
    "plt.figure(figsize = (10,6))\n",
    "sns.scatterplot(data = compare_imputed, x = \"IterativeImputer\", y = \"KNNImputer\")\n",
    "plt.xlabel(\"IterativeImputer\", size = 18)\n",
    "plt.ylabel (\"KNNImputer\",  size = 18)\n",
    "plt.xticks(fontsize = 12)\n",
    "plt.yticks(fontsize = 12)\n",
    "plt.show()"
   ]
  },
  {
   "cell_type": "code",
   "execution_count": null,
   "metadata": {},
   "outputs": [],
   "source": []
  }
 ],
 "metadata": {
  "kernelspec": {
   "display_name": "Python 3",
   "language": "python",
   "name": "python3"
  },
  "language_info": {
   "codemirror_mode": {
    "name": "ipython",
    "version": 3
   },
   "file_extension": ".py",
   "mimetype": "text/x-python",
   "name": "python",
   "nbconvert_exporter": "python",
   "pygments_lexer": "ipython3",
   "version": "3.7.9"
  }
 },
 "nbformat": 4,
 "nbformat_minor": 4
}
